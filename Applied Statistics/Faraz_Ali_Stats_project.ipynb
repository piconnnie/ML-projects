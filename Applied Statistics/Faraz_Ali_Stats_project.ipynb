{
 "cells": [
  {
   "cell_type": "markdown",
   "id": "bcda02e6",
   "metadata": {},
   "source": [
    "# Applied Statistics Module Project\n",
    "\n",
    "Submitted by Faraz Sharique Ali"
   ]
  },
  {
   "cell_type": "markdown",
   "id": "75cf9ccb",
   "metadata": {},
   "source": [
    "# PART A"
   ]
  },
  {
   "cell_type": "code",
   "execution_count": 1,
   "id": "ea8fc608",
   "metadata": {},
   "outputs": [],
   "source": [
    "#Loading the necessary libraries for solving the problems at hand\n",
    "import numpy as np\n",
    "import pandas as pd\n",
    "import scipy.stats as stats\n",
    "import matplotlib.pyplot as plt"
   ]
  },
  {
   "cell_type": "markdown",
   "id": "015ddb57",
   "metadata": {},
   "source": [
    "## Question 1\n",
    "Please refer the table below to answer below questions."
   ]
  },
  {
   "cell_type": "markdown",
   "id": "0c545497",
   "metadata": {},
   "source": [
    "### Q1.A. Refer above table and find the joint probability of the people who planned to purchase and actually placed an order."
   ]
  },
  {
   "cell_type": "code",
   "execution_count": 2,
   "id": "bd142dba",
   "metadata": {},
   "outputs": [
    {
     "name": "stdout",
     "output_type": "stream",
     "text": [
      "Ans 1.A. Joint probability of people who planned to purchase and actually placed an order is 0.2\n"
     ]
    }
   ],
   "source": [
    "planned = 400\n",
    "total  = 2000\n",
    "joint_prob = round(planned / total,4) \n",
    "print('Ans 1.A. Joint probability of people who planned to purchase and actually placed an order is', joint_prob)"
   ]
  },
  {
   "cell_type": "markdown",
   "id": "3af788e6",
   "metadata": {},
   "source": [
    "### Q1.B. Refer to the above table and find the joint probability of the people who planned to purchase and actually placed an order, given that people planned to purchase."
   ]
  },
  {
   "cell_type": "code",
   "execution_count": 3,
   "id": "e398bcea",
   "metadata": {},
   "outputs": [
    {
     "name": "stdout",
     "output_type": "stream",
     "text": [
      "Ans 1.B. The Probability of the people who planned to purchase and actually placed an order, given that people planned to purchase is 0.8\n"
     ]
    }
   ],
   "source": [
    "#Prob = P(Actually placed an order | Planned to purchase)\n",
    "Prob   = (400 / 2000 ) / (500 / 2000)\n",
    "\n",
    "print('Ans 1.B. The Probability of the people who planned to purchase and actually placed an order, given that people planned to purchase is', Prob)"
   ]
  },
  {
   "cell_type": "markdown",
   "id": "f964121c",
   "metadata": {},
   "source": [
    "## Question 2\n",
    "An electrical manufacturing company conducts quality checks at specified periods on the products it manufactures. Historically, the failure rate for the manufactured item is 5%. Suppose a random sample of 10 manufactured items is selected. Answer the following questions."
   ]
  },
  {
   "cell_type": "markdown",
   "id": "18866bd7",
   "metadata": {},
   "source": [
    "### Q2.A. Probability that none of the items are defective?"
   ]
  },
  {
   "cell_type": "code",
   "execution_count": 4,
   "id": "4c1131f6",
   "metadata": {},
   "outputs": [],
   "source": [
    "#failure rate for manufactured items is 5%\n",
    "p = 0.05\n",
    "#sample size is 10\n",
    "n = 10\n",
    "# Create an array of quantiles\n",
    "k = np.arange(0,11)"
   ]
  },
  {
   "cell_type": "code",
   "execution_count": 5,
   "id": "046962a7",
   "metadata": {},
   "outputs": [],
   "source": [
    "binomial = stats.binom.pmf(k,n,p)"
   ]
  },
  {
   "cell_type": "code",
   "execution_count": 6,
   "id": "7c149976",
   "metadata": {},
   "outputs": [
    {
     "data": {
      "text/plain": [
       "array([5.98736939e-01, 3.15124705e-01, 7.46347985e-02, 1.04750594e-02,\n",
       "       9.64808106e-04, 6.09352488e-05, 2.67259863e-06, 8.03789063e-08,\n",
       "       1.58642578e-09, 1.85546875e-11, 9.76562500e-14])"
      ]
     },
     "execution_count": 6,
     "metadata": {},
     "output_type": "execute_result"
    }
   ],
   "source": [
    "binomial"
   ]
  },
  {
   "cell_type": "code",
   "execution_count": 7,
   "id": "e730bd38",
   "metadata": {},
   "outputs": [
    {
     "name": "stdout",
     "output_type": "stream",
     "text": [
      "Ans 2.A. The Probability that none of the items is defective is 0.5987\n"
     ]
    }
   ],
   "source": [
    "print('Ans 2.A. The Probability that none of the items is defective is %1.4f' %binomial[0])"
   ]
  },
  {
   "cell_type": "markdown",
   "id": "a0d09618",
   "metadata": {},
   "source": [
    "### Q2.B. Probability that exactly one of the items is defective?"
   ]
  },
  {
   "cell_type": "code",
   "execution_count": 8,
   "id": "71f644df",
   "metadata": {},
   "outputs": [
    {
     "name": "stdout",
     "output_type": "stream",
     "text": [
      "Ans 2.B. The Probability that exactly one of the items is defective is 0.3151\n"
     ]
    }
   ],
   "source": [
    "print('Ans 2.B. The Probability that exactly one of the items is defective is %1.4f' %binomial[1])"
   ]
  },
  {
   "cell_type": "markdown",
   "id": "fc7cac74",
   "metadata": {},
   "source": [
    "### Q2.C. Probability that two or fewer of the items are defective?"
   ]
  },
  {
   "cell_type": "code",
   "execution_count": 9,
   "id": "b6345c8c",
   "metadata": {},
   "outputs": [
    {
     "name": "stdout",
     "output_type": "stream",
     "text": [
      "[0.59873694 0.91386164 0.98849644 0.9989715  0.99993631 0.99999725\n",
      " 0.99999992 1.         1.         1.         1.        ]\n"
     ]
    }
   ],
   "source": [
    "cumulative_prob = stats.binom.cdf(k,n,p)\n",
    "print(cumulative_prob)"
   ]
  },
  {
   "cell_type": "code",
   "execution_count": 10,
   "id": "a51f5a69",
   "metadata": {},
   "outputs": [
    {
     "name": "stdout",
     "output_type": "stream",
     "text": [
      "Ans 2.C. The Probability that two or fewer of the items are defective is 0.9885\n"
     ]
    }
   ],
   "source": [
    "print('Ans 2.C. The Probability that two or fewer of the items are defective is %1.4f' %cumulative_prob[2])"
   ]
  },
  {
   "cell_type": "markdown",
   "id": "e6888733",
   "metadata": {},
   "source": [
    "### Q2.D. Probability that three or more of the items are defective?"
   ]
  },
  {
   "cell_type": "code",
   "execution_count": 11,
   "id": "14de375d",
   "metadata": {},
   "outputs": [
    {
     "name": "stdout",
     "output_type": "stream",
     "text": [
      "Ans 2.D. The Probability that three or more of the items are defective is 0.0115\n"
     ]
    }
   ],
   "source": [
    "P = 1 - cumulative_prob[2]\n",
    "print('Ans 2.D. The Probability that three or more of the items are defective is %1.4f' % P)"
   ]
  },
  {
   "cell_type": "markdown",
   "id": "3eaa75bb",
   "metadata": {},
   "source": [
    "## Question 3\n",
    "A car salesman sells on an average 3 cars per week."
   ]
  },
  {
   "cell_type": "markdown",
   "id": "04b3a581",
   "metadata": {},
   "source": [
    "### Q3.A. What is Probability that in a given week he will sell some cars?"
   ]
  },
  {
   "cell_type": "code",
   "execution_count": 12,
   "id": "1f69ac05",
   "metadata": {},
   "outputs": [],
   "source": [
    "mean = 3\n",
    "n = np.arange(0,10)\n",
    "poisson = stats.poisson.cdf(n,mean)"
   ]
  },
  {
   "cell_type": "code",
   "execution_count": 13,
   "id": "a6b4650f",
   "metadata": {},
   "outputs": [
    {
     "data": {
      "text/plain": [
       "array([0.04978707, 0.19914827, 0.42319008, 0.64723189, 0.81526324,\n",
       "       0.91608206, 0.96649146, 0.9880955 , 0.99619701, 0.99889751])"
      ]
     },
     "execution_count": 13,
     "metadata": {},
     "output_type": "execute_result"
    }
   ],
   "source": [
    "poisson"
   ]
  },
  {
   "cell_type": "code",
   "execution_count": 14,
   "id": "d2daa625",
   "metadata": {},
   "outputs": [
    {
     "name": "stdout",
     "output_type": "stream",
     "text": [
      "Ans 3.A. The probability that car salesman sells some cars is 0.9502\n"
     ]
    }
   ],
   "source": [
    "P = 1 - poisson[0]\n",
    "print('Ans 3.A. The probability that car salesman sells some cars is %1.4f' %P)"
   ]
  },
  {
   "cell_type": "markdown",
   "id": "c10e7414",
   "metadata": {},
   "source": [
    "### Q3.B. What is Probability that in a given week he will sell 2 or more but less than 5 cars?"
   ]
  },
  {
   "cell_type": "code",
   "execution_count": 15,
   "id": "68ee848f",
   "metadata": {},
   "outputs": [
    {
     "name": "stdout",
     "output_type": "stream",
     "text": [
      "Ans 3.B. The probability that the salesman sells 2 or more but less than 5 cars is 0.6161\n"
     ]
    }
   ],
   "source": [
    "# Let P1 be the probability that the salesman sells more than 4 cars\n",
    "P1 = poisson[4]\n",
    "# Let P2 be the probability that the salesman sells more than 1 car\n",
    "P2 = poisson[1]\n",
    "#Probability that the salesman will sell 2 or more but less than 5 cars\n",
    "P = P1 - P2\n",
    "print('Ans 3.B. The probability that the salesman sells 2 or more but less than 5 cars is %1.4f' % P)"
   ]
  },
  {
   "cell_type": "markdown",
   "id": "8398c1b1",
   "metadata": {},
   "source": [
    "### Q3.C. Plot the poisson distribution function for cumulative probability of cars sold per-week vs number of cars sold per week."
   ]
  },
  {
   "cell_type": "code",
   "execution_count": 16,
   "id": "1f567e8b",
   "metadata": {},
   "outputs": [
    {
     "data": {
      "image/png": "[encoded data removed]",
      "text/plain": [
       "<Figure size 640x480 with 1 Axes>"
      ]
     },
     "metadata": {},
     "output_type": "display_data"
    }
   ],
   "source": [
    "# Number of cars sold per week\n",
    "n = np.arange(0, 20)\n",
    "\n",
    "# Cumulative probability of cars sold per week \n",
    "poisson_pmf = stats.poisson.pmf(n, mean)\n",
    "\n",
    "plt.plot(n, poisson_pmf, marker='o')\n",
    "plt.title('Poisson Distribution for Cars Sold per Week')\n",
    "plt.xlabel('Number of Cars Sold per Week')\n",
    "plt.ylabel('Cumulative Probability')\n",
    "plt.grid(True)\n",
    "plt.show()"
   ]
  },
  {
   "cell_type": "markdown",
   "id": "8cdcb27f",
   "metadata": {},
   "source": [
    "## Question 4\n",
    "Accuracy in understanding orders for a speech based bot at a restaurant is important for the Company X which has designed, marketed and launched the product for a contactless delivery due to the COVID-19 pandemic. Recognition accuracy that measures the percentage of orders that are taken correctly is 86.8%. Suppose that you place an order with the bot and two friends of yours independently place orders with the same bot. Answer the following questions."
   ]
  },
  {
   "cell_type": "markdown",
   "id": "04d586ec",
   "metadata": {},
   "source": [
    "### Q4.A. What is the probability that all three orders will be recognised correctly?"
   ]
  },
  {
   "cell_type": "code",
   "execution_count": 17,
   "id": "0bf404da",
   "metadata": {},
   "outputs": [
    {
     "name": "stdout",
     "output_type": "stream",
     "text": [
      "Ans 4.A. The probability that all the three orders are recognized correctly is 0.6540\n"
     ]
    }
   ],
   "source": [
    "#percentage of orders that are taken correctly is 86.8%\n",
    "p = 0.868  \n",
    "n = 3\n",
    "k = np.arange(0,4)\n",
    "from scipy import stats\n",
    "binomial = stats.binom.pmf(k,n,p)\n",
    "print('Ans 4.A. The probability that all the three orders are recognized correctly is %1.4f'%binomial[3])"
   ]
  },
  {
   "cell_type": "markdown",
   "id": "690a0d45",
   "metadata": {},
   "source": [
    "### Q4.B. What is the probability that none of the three orders will be recognised correctly?"
   ]
  },
  {
   "cell_type": "code",
   "execution_count": 18,
   "id": "03d527c8",
   "metadata": {},
   "outputs": [
    {
     "name": "stdout",
     "output_type": "stream",
     "text": [
      "Ans. 4.B. The probability that none of the three orders will be recognized correctly is 0.0023\n"
     ]
    }
   ],
   "source": [
    "print('Ans. 4.B. The probability that none of the three orders will be recognized correctly is %1.4f'%binomial[0])"
   ]
  },
  {
   "cell_type": "markdown",
   "id": "868789b3",
   "metadata": {},
   "source": [
    "### Q4.C. What is the probability that at least two of the three orders will be recognised correctly?"
   ]
  },
  {
   "cell_type": "code",
   "execution_count": 19,
   "id": "aca57fa5",
   "metadata": {},
   "outputs": [],
   "source": [
    "#calculating (1 - Probability of upto 1 failure)\n",
    "cumbinomial = stats.binom.cdf(k,n,p)"
   ]
  },
  {
   "cell_type": "code",
   "execution_count": 20,
   "id": "c2ec7345",
   "metadata": {},
   "outputs": [
    {
     "name": "stdout",
     "output_type": "stream",
     "text": [
      "Ans. 4.C. The probability that atleast two of the three orders will be recognized correctly is 0.9523\n"
     ]
    }
   ],
   "source": [
    "p_atleast2 = 1 - cumbinomial[1]\n",
    "print('Ans. 4.C. The probability that atleast two of the three orders will be recognized correctly is %1.4f'% p_atleast2)"
   ]
  },
  {
   "cell_type": "markdown",
   "id": "d021a118",
   "metadata": {},
   "source": [
    "### Q.5. Explain 1 real life industry scenario (other than the ones mentioned above) where you can use the concepts learnt in this module of Applied Statistics to get data driven business solution."
   ]
  },
  {
   "cell_type": "markdown",
   "id": "a1336e41",
   "metadata": {},
   "source": [
    "### Ans. 5\n",
    "\n",
    "\n",
    "Let's consider a scenario where a biopharmaceutical company is developing a new drug to treat a specific disease, such as cancer. Before the drug can be approved for widespread use, it needs to undergo rigorous testing in clinical trials to demonstrate its effectiveness and safety.\n",
    "\n",
    "In a typical clinical trial, patients are randomly assigned to either receive the new drug (treatment group) or a placebo or standard treatment (control group). The outcomes of interest, such as tumor response rate, progression-free survival, or overall survival, are measured and compared between the treatment and control groups.\n",
    "\n",
    "Here's how the concepts of applied statistics can be applied in this scenario:\n",
    "\n",
    "### Sample Size Determination: \n",
    "Before conducting a clinical trial, statisticians use statistical methods to determine the appropriate sample size needed to detect a clinically meaningful difference between the treatment and control groups with sufficient power. This involves considering factors such as the expected effect size, variability in outcomes, significance level, and desired power.\n",
    "\n",
    "### Randomization: \n",
    "Randomization is a key principle in clinical trials to ensure that treatment assignment is unbiased and that the treatment and control groups are comparable in terms of baseline characteristics. Randomization helps to minimize confounding factors and ensures that any observed differences in outcomes can be attributed to the treatment being tested.\n",
    "\n",
    "### Hypothesis Testing: \n",
    "The primary analysis in a clinical trial involves hypothesis testing to determine whether there is a statistically significant difference in outcomes between the treatment and control groups. This typically involves comparing means (e.g., tumor response rates) using appropriate statistical tests such as t-tests or analysis of variance (ANOVA) for continuous outcomes, or chi-square tests for categorical outcomes.\n",
    "\n",
    "### Estimation: \n",
    "In addition to hypothesis testing, estimation techniques are used to quantify the magnitude of treatment effects and to construct confidence intervals around point estimates. This provides valuable information about the precision of the treatment effect estimate and the range of plausible values.\n",
    "\n",
    "### Survival Analysis: \n",
    "For time-to-event outcomes such as progression-free survival or overall survival, survival analysis techniques such as Kaplan-Meier curves and Cox proportional hazards models are used to compare survival distributions between treatment groups and to assess the impact of covariates on survival outcomes.\n",
    "\n",
    "By applying these statistical concepts in the design, analysis, and interpretation of clinical trials, biopharmaceutical companies can make data-driven decisions about the efficacy and safety of new drugs, ultimately leading to improved treatments for patients with life-threatening diseases."
   ]
  },
  {
   "cell_type": "markdown",
   "id": "368f49dd",
   "metadata": {},
   "source": [
    "## Part B"
   ]
  },
  {
   "cell_type": "code",
   "execution_count": 21,
   "id": "88e80d0d",
   "metadata": {},
   "outputs": [],
   "source": [
    "#import all required libraries\n",
    "\n",
    "import numpy as np\n",
    "import pandas as pd\n",
    "import matplotlib.pyplot as plt\n",
    "import seaborn as sns\n",
    "%matplotlib inline"
   ]
  },
  {
   "cell_type": "code",
   "execution_count": 22,
   "id": "ff7a7f6e",
   "metadata": {},
   "outputs": [],
   "source": [
    "#load the dataset\n",
    "basketball = pd.read_csv('DS+-+Part2+-+Basketball.csv')"
   ]
  },
  {
   "cell_type": "code",
   "execution_count": 23,
   "id": "38277ca0",
   "metadata": {},
   "outputs": [
    {
     "name": "stdout",
     "output_type": "stream",
     "text": [
      "<class 'pandas.core.frame.DataFrame'>\n",
      "RangeIndex: 61 entries, 0 to 60\n",
      "Data columns (total 13 columns):\n",
      " #   Column               Non-Null Count  Dtype \n",
      "---  ------               --------------  ----- \n",
      " 0   Team                 61 non-null     object\n",
      " 1   Tournament           61 non-null     int64 \n",
      " 2   Score                61 non-null     object\n",
      " 3   PlayedGames          61 non-null     object\n",
      " 4   WonGames             61 non-null     object\n",
      " 5   DrawnGames           61 non-null     object\n",
      " 6   LostGames            61 non-null     object\n",
      " 7   BasketScored         61 non-null     object\n",
      " 8   BasketGiven          61 non-null     object\n",
      " 9   TournamentChampion   61 non-null     object\n",
      " 10  Runner-up            61 non-null     object\n",
      " 11  TeamLaunch           61 non-null     object\n",
      " 12  HighestPositionHeld  61 non-null     int64 \n",
      "dtypes: int64(2), object(11)\n",
      "memory usage: 6.3+ KB\n"
     ]
    }
   ],
   "source": [
    "#check the dataset\n",
    "basketball.info()"
   ]
  },
  {
   "cell_type": "markdown",
   "id": "13a0c4b0",
   "metadata": {},
   "source": [
    "### Observations"
   ]
  },
  {
   "cell_type": "markdown",
   "id": "bbd7821d",
   "metadata": {},
   "source": [
    "The dataset contains 61 observations with 13 independant attribues.\n",
    "All columns are of type 'string' where as only 'Tournament' and 'HighestPositionHeld' are of type integer.\n",
    "There are No null/missing values present in the dataset"
   ]
  },
  {
   "cell_type": "code",
   "execution_count": 24,
   "id": "7c7cc35e",
   "metadata": {},
   "outputs": [
    {
     "data": {
      "text/html": [
       "<div>\n",
       "<style scoped>\n",
       "    .dataframe tbody tr th:only-of-type {\n",
       "        vertical-align: middle;\n",
       "    }\n",
       "\n",
       "    .dataframe tbody tr th {\n",
       "        vertical-align: top;\n",
       "    }\n",
       "\n",
       "    .dataframe thead th {\n",
       "        text-align: right;\n",
       "    }\n",
       "</style>\n",
       "<table border=\"1\" class=\"dataframe\">\n",
       "  <thead>\n",
       "    <tr style=\"text-align: right;\">\n",
       "      <th></th>\n",
       "      <th>Tournament</th>\n",
       "      <th>HighestPositionHeld</th>\n",
       "    </tr>\n",
       "  </thead>\n",
       "  <tbody>\n",
       "    <tr>\n",
       "      <th>count</th>\n",
       "      <td>61.000000</td>\n",
       "      <td>61.000000</td>\n",
       "    </tr>\n",
       "    <tr>\n",
       "      <th>mean</th>\n",
       "      <td>24.000000</td>\n",
       "      <td>7.081967</td>\n",
       "    </tr>\n",
       "    <tr>\n",
       "      <th>std</th>\n",
       "      <td>26.827225</td>\n",
       "      <td>5.276663</td>\n",
       "    </tr>\n",
       "    <tr>\n",
       "      <th>min</th>\n",
       "      <td>1.000000</td>\n",
       "      <td>1.000000</td>\n",
       "    </tr>\n",
       "    <tr>\n",
       "      <th>25%</th>\n",
       "      <td>4.000000</td>\n",
       "      <td>3.000000</td>\n",
       "    </tr>\n",
       "    <tr>\n",
       "      <th>50%</th>\n",
       "      <td>12.000000</td>\n",
       "      <td>6.000000</td>\n",
       "    </tr>\n",
       "    <tr>\n",
       "      <th>75%</th>\n",
       "      <td>38.000000</td>\n",
       "      <td>10.000000</td>\n",
       "    </tr>\n",
       "    <tr>\n",
       "      <th>max</th>\n",
       "      <td>86.000000</td>\n",
       "      <td>20.000000</td>\n",
       "    </tr>\n",
       "  </tbody>\n",
       "</table>\n",
       "</div>"
      ],
      "text/plain": [
       "       Tournament  HighestPositionHeld\n",
       "count   61.000000            61.000000\n",
       "mean    24.000000             7.081967\n",
       "std     26.827225             5.276663\n",
       "min      1.000000             1.000000\n",
       "25%      4.000000             3.000000\n",
       "50%     12.000000             6.000000\n",
       "75%     38.000000            10.000000\n",
       "max     86.000000            20.000000"
      ]
     },
     "execution_count": 24,
     "metadata": {},
     "output_type": "execute_result"
    }
   ],
   "source": [
    "#describe the dataset\n",
    "basketball.describe()"
   ]
  },
  {
   "cell_type": "code",
   "execution_count": 25,
   "id": "187dd6f5",
   "metadata": {},
   "outputs": [
    {
     "data": {
      "text/plain": [
       "(61, 13)"
      ]
     },
     "execution_count": 25,
     "metadata": {},
     "output_type": "execute_result"
    }
   ],
   "source": [
    "#Get the shape and size of the dataset\n",
    "basketball.shape"
   ]
  },
  {
   "cell_type": "code",
   "execution_count": 26,
   "id": "9d8bd749",
   "metadata": {},
   "outputs": [
    {
     "data": {
      "text/html": [
       "<div>\n",
       "<style scoped>\n",
       "    .dataframe tbody tr th:only-of-type {\n",
       "        vertical-align: middle;\n",
       "    }\n",
       "\n",
       "    .dataframe tbody tr th {\n",
       "        vertical-align: top;\n",
       "    }\n",
       "\n",
       "    .dataframe thead th {\n",
       "        text-align: right;\n",
       "    }\n",
       "</style>\n",
       "<table border=\"1\" class=\"dataframe\">\n",
       "  <thead>\n",
       "    <tr style=\"text-align: right;\">\n",
       "      <th></th>\n",
       "      <th>Team</th>\n",
       "      <th>Tournament</th>\n",
       "      <th>Score</th>\n",
       "      <th>PlayedGames</th>\n",
       "      <th>WonGames</th>\n",
       "      <th>DrawnGames</th>\n",
       "      <th>LostGames</th>\n",
       "      <th>BasketScored</th>\n",
       "      <th>BasketGiven</th>\n",
       "      <th>TournamentChampion</th>\n",
       "      <th>Runner-up</th>\n",
       "      <th>TeamLaunch</th>\n",
       "      <th>HighestPositionHeld</th>\n",
       "    </tr>\n",
       "  </thead>\n",
       "  <tbody>\n",
       "    <tr>\n",
       "      <th>0</th>\n",
       "      <td>Team 1</td>\n",
       "      <td>86</td>\n",
       "      <td>4385</td>\n",
       "      <td>2762</td>\n",
       "      <td>1647</td>\n",
       "      <td>552</td>\n",
       "      <td>563</td>\n",
       "      <td>5947</td>\n",
       "      <td>3140</td>\n",
       "      <td>33</td>\n",
       "      <td>23</td>\n",
       "      <td>1929</td>\n",
       "      <td>1</td>\n",
       "    </tr>\n",
       "    <tr>\n",
       "      <th>1</th>\n",
       "      <td>Team 2</td>\n",
       "      <td>86</td>\n",
       "      <td>4262</td>\n",
       "      <td>2762</td>\n",
       "      <td>1581</td>\n",
       "      <td>573</td>\n",
       "      <td>608</td>\n",
       "      <td>5900</td>\n",
       "      <td>3114</td>\n",
       "      <td>25</td>\n",
       "      <td>25</td>\n",
       "      <td>1929</td>\n",
       "      <td>1</td>\n",
       "    </tr>\n",
       "    <tr>\n",
       "      <th>2</th>\n",
       "      <td>Team 3</td>\n",
       "      <td>80</td>\n",
       "      <td>3442</td>\n",
       "      <td>2614</td>\n",
       "      <td>1241</td>\n",
       "      <td>598</td>\n",
       "      <td>775</td>\n",
       "      <td>4534</td>\n",
       "      <td>3309</td>\n",
       "      <td>10</td>\n",
       "      <td>8</td>\n",
       "      <td>1929</td>\n",
       "      <td>1</td>\n",
       "    </tr>\n",
       "    <tr>\n",
       "      <th>3</th>\n",
       "      <td>Team 4</td>\n",
       "      <td>82</td>\n",
       "      <td>3386</td>\n",
       "      <td>2664</td>\n",
       "      <td>1187</td>\n",
       "      <td>616</td>\n",
       "      <td>861</td>\n",
       "      <td>4398</td>\n",
       "      <td>3469</td>\n",
       "      <td>6</td>\n",
       "      <td>6</td>\n",
       "      <td>1931to32</td>\n",
       "      <td>1</td>\n",
       "    </tr>\n",
       "    <tr>\n",
       "      <th>4</th>\n",
       "      <td>Team 5</td>\n",
       "      <td>86</td>\n",
       "      <td>3368</td>\n",
       "      <td>2762</td>\n",
       "      <td>1209</td>\n",
       "      <td>633</td>\n",
       "      <td>920</td>\n",
       "      <td>4631</td>\n",
       "      <td>3700</td>\n",
       "      <td>8</td>\n",
       "      <td>7</td>\n",
       "      <td>1929</td>\n",
       "      <td>1</td>\n",
       "    </tr>\n",
       "  </tbody>\n",
       "</table>\n",
       "</div>"
      ],
      "text/plain": [
       "     Team  Tournament Score PlayedGames WonGames DrawnGames LostGames  \\\n",
       "0  Team 1          86  4385        2762     1647        552       563   \n",
       "1  Team 2          86  4262        2762     1581        573       608   \n",
       "2  Team 3          80  3442        2614     1241        598       775   \n",
       "3  Team 4          82  3386        2664     1187        616       861   \n",
       "4  Team 5          86  3368        2762     1209        633       920   \n",
       "\n",
       "  BasketScored BasketGiven TournamentChampion Runner-up TeamLaunch  \\\n",
       "0         5947        3140                 33        23       1929   \n",
       "1         5900        3114                 25        25       1929   \n",
       "2         4534        3309                 10         8       1929   \n",
       "3         4398        3469                  6         6   1931to32   \n",
       "4         4631        3700                  8         7       1929   \n",
       "\n",
       "   HighestPositionHeld  \n",
       "0                    1  \n",
       "1                    1  \n",
       "2                    1  \n",
       "3                    1  \n",
       "4                    1  "
      ]
     },
     "execution_count": 26,
     "metadata": {},
     "output_type": "execute_result"
    }
   ],
   "source": [
    "#Check the head of the dataset\n",
    "basketball.head()"
   ]
  },
  {
   "cell_type": "code",
   "execution_count": 27,
   "id": "e97c3834",
   "metadata": {},
   "outputs": [
    {
     "data": {
      "text/html": [
       "<div>\n",
       "<style scoped>\n",
       "    .dataframe tbody tr th:only-of-type {\n",
       "        vertical-align: middle;\n",
       "    }\n",
       "\n",
       "    .dataframe tbody tr th {\n",
       "        vertical-align: top;\n",
       "    }\n",
       "\n",
       "    .dataframe thead th {\n",
       "        text-align: right;\n",
       "    }\n",
       "</style>\n",
       "<table border=\"1\" class=\"dataframe\">\n",
       "  <thead>\n",
       "    <tr style=\"text-align: right;\">\n",
       "      <th></th>\n",
       "      <th>Team</th>\n",
       "      <th>Tournament</th>\n",
       "      <th>Score</th>\n",
       "      <th>PlayedGames</th>\n",
       "      <th>WonGames</th>\n",
       "      <th>DrawnGames</th>\n",
       "      <th>LostGames</th>\n",
       "      <th>BasketScored</th>\n",
       "      <th>BasketGiven</th>\n",
       "      <th>TournamentChampion</th>\n",
       "      <th>Runner-up</th>\n",
       "      <th>TeamLaunch</th>\n",
       "      <th>HighestPositionHeld</th>\n",
       "    </tr>\n",
       "  </thead>\n",
       "  <tbody>\n",
       "    <tr>\n",
       "      <th>56</th>\n",
       "      <td>Team 57</td>\n",
       "      <td>1</td>\n",
       "      <td>34</td>\n",
       "      <td>38</td>\n",
       "      <td>8</td>\n",
       "      <td>10</td>\n",
       "      <td>20</td>\n",
       "      <td>38</td>\n",
       "      <td>66</td>\n",
       "      <td>-</td>\n",
       "      <td>-</td>\n",
       "      <td>2009-10</td>\n",
       "      <td>20</td>\n",
       "    </tr>\n",
       "    <tr>\n",
       "      <th>57</th>\n",
       "      <td>Team 58</td>\n",
       "      <td>1</td>\n",
       "      <td>22</td>\n",
       "      <td>30</td>\n",
       "      <td>7</td>\n",
       "      <td>8</td>\n",
       "      <td>15</td>\n",
       "      <td>37</td>\n",
       "      <td>57</td>\n",
       "      <td>-</td>\n",
       "      <td>-</td>\n",
       "      <td>1956-57</td>\n",
       "      <td>16</td>\n",
       "    </tr>\n",
       "    <tr>\n",
       "      <th>58</th>\n",
       "      <td>Team 59</td>\n",
       "      <td>1</td>\n",
       "      <td>19</td>\n",
       "      <td>30</td>\n",
       "      <td>7</td>\n",
       "      <td>5</td>\n",
       "      <td>18</td>\n",
       "      <td>51</td>\n",
       "      <td>85</td>\n",
       "      <td>-</td>\n",
       "      <td>-</td>\n",
       "      <td>1951~52</td>\n",
       "      <td>16</td>\n",
       "    </tr>\n",
       "    <tr>\n",
       "      <th>59</th>\n",
       "      <td>Team 60</td>\n",
       "      <td>1</td>\n",
       "      <td>14</td>\n",
       "      <td>30</td>\n",
       "      <td>5</td>\n",
       "      <td>4</td>\n",
       "      <td>21</td>\n",
       "      <td>34</td>\n",
       "      <td>65</td>\n",
       "      <td>-</td>\n",
       "      <td>-</td>\n",
       "      <td>1955-56</td>\n",
       "      <td>15</td>\n",
       "    </tr>\n",
       "    <tr>\n",
       "      <th>60</th>\n",
       "      <td>Team 61</td>\n",
       "      <td>1</td>\n",
       "      <td>-</td>\n",
       "      <td>-</td>\n",
       "      <td>-</td>\n",
       "      <td>-</td>\n",
       "      <td>-</td>\n",
       "      <td>-</td>\n",
       "      <td>-</td>\n",
       "      <td>-</td>\n",
       "      <td>-</td>\n",
       "      <td>2017~18</td>\n",
       "      <td>9</td>\n",
       "    </tr>\n",
       "  </tbody>\n",
       "</table>\n",
       "</div>"
      ],
      "text/plain": [
       "       Team  Tournament Score PlayedGames WonGames DrawnGames LostGames  \\\n",
       "56  Team 57           1    34          38        8         10        20   \n",
       "57  Team 58           1    22          30        7          8        15   \n",
       "58  Team 59           1    19          30        7          5        18   \n",
       "59  Team 60           1    14          30        5          4        21   \n",
       "60  Team 61           1     -           -        -          -         -   \n",
       "\n",
       "   BasketScored BasketGiven TournamentChampion Runner-up TeamLaunch  \\\n",
       "56           38          66                  -         -    2009-10   \n",
       "57           37          57                  -         -    1956-57   \n",
       "58           51          85                  -         -    1951~52   \n",
       "59           34          65                  -         -    1955-56   \n",
       "60            -           -                  -         -    2017~18   \n",
       "\n",
       "    HighestPositionHeld  \n",
       "56                   20  \n",
       "57                   16  \n",
       "58                   16  \n",
       "59                   15  \n",
       "60                    9  "
      ]
     },
     "execution_count": 27,
     "metadata": {},
     "output_type": "execute_result"
    }
   ],
   "source": [
    "#Check the tail of the dataset\n",
    "basketball.tail()"
   ]
  },
  {
   "cell_type": "code",
   "execution_count": 28,
   "id": "70c4ac2b",
   "metadata": {},
   "outputs": [
    {
     "name": "stdout",
     "output_type": "stream",
     "text": [
      "Team                   0\n",
      "Tournament             0\n",
      "Score                  0\n",
      "PlayedGames            0\n",
      "WonGames               0\n",
      "DrawnGames             0\n",
      "LostGames              0\n",
      "BasketScored           0\n",
      "BasketGiven            0\n",
      "TournamentChampion     0\n",
      "Runner-up              0\n",
      "TeamLaunch             0\n",
      "HighestPositionHeld    0\n",
      "dtype: int64\n"
     ]
    }
   ],
   "source": [
    "#Count the missing values\n",
    "missing_value_counts = basketball.isnull().sum()\n",
    "print(missing_value_counts[0:13])"
   ]
  },
  {
   "cell_type": "code",
   "execution_count": 29,
   "id": "fca6b584",
   "metadata": {},
   "outputs": [
    {
     "data": {
      "text/html": [
       "<div>\n",
       "<style scoped>\n",
       "    .dataframe tbody tr th:only-of-type {\n",
       "        vertical-align: middle;\n",
       "    }\n",
       "\n",
       "    .dataframe tbody tr th {\n",
       "        vertical-align: top;\n",
       "    }\n",
       "\n",
       "    .dataframe thead th {\n",
       "        text-align: right;\n",
       "    }\n",
       "</style>\n",
       "<table border=\"1\" class=\"dataframe\">\n",
       "  <thead>\n",
       "    <tr style=\"text-align: right;\">\n",
       "      <th></th>\n",
       "      <th>Team</th>\n",
       "      <th>Tournament</th>\n",
       "      <th>Score</th>\n",
       "      <th>PlayedGames</th>\n",
       "      <th>WonGames</th>\n",
       "      <th>DrawnGames</th>\n",
       "      <th>LostGames</th>\n",
       "      <th>BasketScored</th>\n",
       "      <th>BasketGiven</th>\n",
       "      <th>TournamentChampion</th>\n",
       "      <th>Runner-up</th>\n",
       "      <th>TeamLaunch</th>\n",
       "      <th>HighestPositionHeld</th>\n",
       "    </tr>\n",
       "  </thead>\n",
       "  <tbody>\n",
       "    <tr>\n",
       "      <th>0</th>\n",
       "      <td>Team 1</td>\n",
       "      <td>86</td>\n",
       "      <td>4385</td>\n",
       "      <td>2762</td>\n",
       "      <td>1647</td>\n",
       "      <td>552</td>\n",
       "      <td>563</td>\n",
       "      <td>5947</td>\n",
       "      <td>3140</td>\n",
       "      <td>33</td>\n",
       "      <td>23</td>\n",
       "      <td>1929</td>\n",
       "      <td>1</td>\n",
       "    </tr>\n",
       "    <tr>\n",
       "      <th>1</th>\n",
       "      <td>Team 2</td>\n",
       "      <td>86</td>\n",
       "      <td>4262</td>\n",
       "      <td>2762</td>\n",
       "      <td>1581</td>\n",
       "      <td>573</td>\n",
       "      <td>608</td>\n",
       "      <td>5900</td>\n",
       "      <td>3114</td>\n",
       "      <td>25</td>\n",
       "      <td>25</td>\n",
       "      <td>1929</td>\n",
       "      <td>1</td>\n",
       "    </tr>\n",
       "    <tr>\n",
       "      <th>2</th>\n",
       "      <td>Team 3</td>\n",
       "      <td>80</td>\n",
       "      <td>3442</td>\n",
       "      <td>2614</td>\n",
       "      <td>1241</td>\n",
       "      <td>598</td>\n",
       "      <td>775</td>\n",
       "      <td>4534</td>\n",
       "      <td>3309</td>\n",
       "      <td>10</td>\n",
       "      <td>8</td>\n",
       "      <td>1929</td>\n",
       "      <td>1</td>\n",
       "    </tr>\n",
       "    <tr>\n",
       "      <th>3</th>\n",
       "      <td>Team 4</td>\n",
       "      <td>82</td>\n",
       "      <td>3386</td>\n",
       "      <td>2664</td>\n",
       "      <td>1187</td>\n",
       "      <td>616</td>\n",
       "      <td>861</td>\n",
       "      <td>4398</td>\n",
       "      <td>3469</td>\n",
       "      <td>6</td>\n",
       "      <td>6</td>\n",
       "      <td>1931-32</td>\n",
       "      <td>1</td>\n",
       "    </tr>\n",
       "    <tr>\n",
       "      <th>4</th>\n",
       "      <td>Team 5</td>\n",
       "      <td>86</td>\n",
       "      <td>3368</td>\n",
       "      <td>2762</td>\n",
       "      <td>1209</td>\n",
       "      <td>633</td>\n",
       "      <td>920</td>\n",
       "      <td>4631</td>\n",
       "      <td>3700</td>\n",
       "      <td>8</td>\n",
       "      <td>7</td>\n",
       "      <td>1929</td>\n",
       "      <td>1</td>\n",
       "    </tr>\n",
       "  </tbody>\n",
       "</table>\n",
       "</div>"
      ],
      "text/plain": [
       "     Team  Tournament Score PlayedGames WonGames DrawnGames LostGames  \\\n",
       "0  Team 1          86  4385        2762     1647        552       563   \n",
       "1  Team 2          86  4262        2762     1581        573       608   \n",
       "2  Team 3          80  3442        2614     1241        598       775   \n",
       "3  Team 4          82  3386        2664     1187        616       861   \n",
       "4  Team 5          86  3368        2762     1209        633       920   \n",
       "\n",
       "  BasketScored BasketGiven TournamentChampion Runner-up TeamLaunch  \\\n",
       "0         5947        3140                 33        23       1929   \n",
       "1         5900        3114                 25        25       1929   \n",
       "2         4534        3309                 10         8       1929   \n",
       "3         4398        3469                  6         6    1931-32   \n",
       "4         4631        3700                  8         7       1929   \n",
       "\n",
       "   HighestPositionHeld  \n",
       "0                    1  \n",
       "1                    1  \n",
       "2                    1  \n",
       "3                    1  \n",
       "4                    1  "
      ]
     },
     "execution_count": 29,
     "metadata": {},
     "output_type": "execute_result"
    }
   ],
   "source": [
    "basketball= basketball.replace('-',0)\n",
    "#in 'TeamLaunch' column there are characters like 'to', '-', '~' so cleaning data by removing these.\n",
    "\n",
    "basketball = basketball.replace(to_replace ='to', value = '-', regex = True) \n",
    "basketball = basketball.replace(to_replace ='_', value = '-', regex = True) \n",
    "basketball = basketball.replace(to_replace ='~', value = '-', regex = True)\n",
    "\n",
    "basketball.head()"
   ]
  },
  {
   "cell_type": "code",
   "execution_count": 30,
   "id": "5a26bd1c",
   "metadata": {},
   "outputs": [
    {
     "data": {
      "text/html": [
       "<div>\n",
       "<style scoped>\n",
       "    .dataframe tbody tr th:only-of-type {\n",
       "        vertical-align: middle;\n",
       "    }\n",
       "\n",
       "    .dataframe tbody tr th {\n",
       "        vertical-align: top;\n",
       "    }\n",
       "\n",
       "    .dataframe thead th {\n",
       "        text-align: right;\n",
       "    }\n",
       "</style>\n",
       "<table border=\"1\" class=\"dataframe\">\n",
       "  <thead>\n",
       "    <tr style=\"text-align: right;\">\n",
       "      <th></th>\n",
       "      <th>Team</th>\n",
       "      <th>Tournament</th>\n",
       "      <th>Score</th>\n",
       "      <th>PlayedGames</th>\n",
       "      <th>WonGames</th>\n",
       "      <th>DrawnGames</th>\n",
       "      <th>LostGames</th>\n",
       "      <th>BasketScored</th>\n",
       "      <th>BasketGiven</th>\n",
       "      <th>TournamentChampion</th>\n",
       "      <th>Runner-up</th>\n",
       "      <th>TeamLaunch</th>\n",
       "      <th>HighestPositionHeld</th>\n",
       "    </tr>\n",
       "  </thead>\n",
       "  <tbody>\n",
       "    <tr>\n",
       "      <th>56</th>\n",
       "      <td>Team 57</td>\n",
       "      <td>1</td>\n",
       "      <td>34</td>\n",
       "      <td>38</td>\n",
       "      <td>8</td>\n",
       "      <td>10</td>\n",
       "      <td>20</td>\n",
       "      <td>38</td>\n",
       "      <td>66</td>\n",
       "      <td>0</td>\n",
       "      <td>0</td>\n",
       "      <td>2009-10</td>\n",
       "      <td>20</td>\n",
       "    </tr>\n",
       "    <tr>\n",
       "      <th>57</th>\n",
       "      <td>Team 58</td>\n",
       "      <td>1</td>\n",
       "      <td>22</td>\n",
       "      <td>30</td>\n",
       "      <td>7</td>\n",
       "      <td>8</td>\n",
       "      <td>15</td>\n",
       "      <td>37</td>\n",
       "      <td>57</td>\n",
       "      <td>0</td>\n",
       "      <td>0</td>\n",
       "      <td>1956-57</td>\n",
       "      <td>16</td>\n",
       "    </tr>\n",
       "    <tr>\n",
       "      <th>58</th>\n",
       "      <td>Team 59</td>\n",
       "      <td>1</td>\n",
       "      <td>19</td>\n",
       "      <td>30</td>\n",
       "      <td>7</td>\n",
       "      <td>5</td>\n",
       "      <td>18</td>\n",
       "      <td>51</td>\n",
       "      <td>85</td>\n",
       "      <td>0</td>\n",
       "      <td>0</td>\n",
       "      <td>1951-52</td>\n",
       "      <td>16</td>\n",
       "    </tr>\n",
       "    <tr>\n",
       "      <th>59</th>\n",
       "      <td>Team 60</td>\n",
       "      <td>1</td>\n",
       "      <td>14</td>\n",
       "      <td>30</td>\n",
       "      <td>5</td>\n",
       "      <td>4</td>\n",
       "      <td>21</td>\n",
       "      <td>34</td>\n",
       "      <td>65</td>\n",
       "      <td>0</td>\n",
       "      <td>0</td>\n",
       "      <td>1955-56</td>\n",
       "      <td>15</td>\n",
       "    </tr>\n",
       "    <tr>\n",
       "      <th>60</th>\n",
       "      <td>Team 61</td>\n",
       "      <td>1</td>\n",
       "      <td>0</td>\n",
       "      <td>0</td>\n",
       "      <td>0</td>\n",
       "      <td>0</td>\n",
       "      <td>0</td>\n",
       "      <td>0</td>\n",
       "      <td>0</td>\n",
       "      <td>0</td>\n",
       "      <td>0</td>\n",
       "      <td>2017-18</td>\n",
       "      <td>9</td>\n",
       "    </tr>\n",
       "  </tbody>\n",
       "</table>\n",
       "</div>"
      ],
      "text/plain": [
       "       Team  Tournament Score PlayedGames WonGames DrawnGames LostGames  \\\n",
       "56  Team 57           1    34          38        8         10        20   \n",
       "57  Team 58           1    22          30        7          8        15   \n",
       "58  Team 59           1    19          30        7          5        18   \n",
       "59  Team 60           1    14          30        5          4        21   \n",
       "60  Team 61           1     0           0        0          0         0   \n",
       "\n",
       "   BasketScored BasketGiven TournamentChampion Runner-up TeamLaunch  \\\n",
       "56           38          66                  0         0    2009-10   \n",
       "57           37          57                  0         0    1956-57   \n",
       "58           51          85                  0         0    1951-52   \n",
       "59           34          65                  0         0    1955-56   \n",
       "60            0           0                  0         0    2017-18   \n",
       "\n",
       "    HighestPositionHeld  \n",
       "56                   20  \n",
       "57                   16  \n",
       "58                   16  \n",
       "59                   15  \n",
       "60                    9  "
      ]
     },
     "execution_count": 30,
     "metadata": {},
     "output_type": "execute_result"
    }
   ],
   "source": [
    "basketball.tail()"
   ]
  },
  {
   "cell_type": "code",
   "execution_count": 31,
   "id": "f5812678",
   "metadata": {},
   "outputs": [],
   "source": [
    "# Correction for TeamLaunch column\n",
    "basketball['TeamLaunch'] = basketball['TeamLaunch'].apply(lambda year: str(year)[:4])"
   ]
  },
  {
   "cell_type": "code",
   "execution_count": 32,
   "id": "5d37f0a8",
   "metadata": {},
   "outputs": [
    {
     "data": {
      "text/html": [
       "<div>\n",
       "<style scoped>\n",
       "    .dataframe tbody tr th:only-of-type {\n",
       "        vertical-align: middle;\n",
       "    }\n",
       "\n",
       "    .dataframe tbody tr th {\n",
       "        vertical-align: top;\n",
       "    }\n",
       "\n",
       "    .dataframe thead th {\n",
       "        text-align: right;\n",
       "    }\n",
       "</style>\n",
       "<table border=\"1\" class=\"dataframe\">\n",
       "  <thead>\n",
       "    <tr style=\"text-align: right;\">\n",
       "      <th></th>\n",
       "      <th>Team</th>\n",
       "      <th>Tournament</th>\n",
       "      <th>Score</th>\n",
       "      <th>PlayedGames</th>\n",
       "      <th>WonGames</th>\n",
       "      <th>DrawnGames</th>\n",
       "      <th>LostGames</th>\n",
       "      <th>BasketScored</th>\n",
       "      <th>BasketGiven</th>\n",
       "      <th>TournamentChampion</th>\n",
       "      <th>Runner-up</th>\n",
       "      <th>TeamLaunch</th>\n",
       "      <th>HighestPositionHeld</th>\n",
       "    </tr>\n",
       "  </thead>\n",
       "  <tbody>\n",
       "    <tr>\n",
       "      <th>0</th>\n",
       "      <td>Team 1</td>\n",
       "      <td>86</td>\n",
       "      <td>4385</td>\n",
       "      <td>2762</td>\n",
       "      <td>1647</td>\n",
       "      <td>552</td>\n",
       "      <td>563</td>\n",
       "      <td>5947</td>\n",
       "      <td>3140</td>\n",
       "      <td>33</td>\n",
       "      <td>23</td>\n",
       "      <td>1929</td>\n",
       "      <td>1</td>\n",
       "    </tr>\n",
       "    <tr>\n",
       "      <th>1</th>\n",
       "      <td>Team 2</td>\n",
       "      <td>86</td>\n",
       "      <td>4262</td>\n",
       "      <td>2762</td>\n",
       "      <td>1581</td>\n",
       "      <td>573</td>\n",
       "      <td>608</td>\n",
       "      <td>5900</td>\n",
       "      <td>3114</td>\n",
       "      <td>25</td>\n",
       "      <td>25</td>\n",
       "      <td>1929</td>\n",
       "      <td>1</td>\n",
       "    </tr>\n",
       "    <tr>\n",
       "      <th>2</th>\n",
       "      <td>Team 3</td>\n",
       "      <td>80</td>\n",
       "      <td>3442</td>\n",
       "      <td>2614</td>\n",
       "      <td>1241</td>\n",
       "      <td>598</td>\n",
       "      <td>775</td>\n",
       "      <td>4534</td>\n",
       "      <td>3309</td>\n",
       "      <td>10</td>\n",
       "      <td>8</td>\n",
       "      <td>1929</td>\n",
       "      <td>1</td>\n",
       "    </tr>\n",
       "    <tr>\n",
       "      <th>3</th>\n",
       "      <td>Team 4</td>\n",
       "      <td>82</td>\n",
       "      <td>3386</td>\n",
       "      <td>2664</td>\n",
       "      <td>1187</td>\n",
       "      <td>616</td>\n",
       "      <td>861</td>\n",
       "      <td>4398</td>\n",
       "      <td>3469</td>\n",
       "      <td>6</td>\n",
       "      <td>6</td>\n",
       "      <td>1931</td>\n",
       "      <td>1</td>\n",
       "    </tr>\n",
       "    <tr>\n",
       "      <th>4</th>\n",
       "      <td>Team 5</td>\n",
       "      <td>86</td>\n",
       "      <td>3368</td>\n",
       "      <td>2762</td>\n",
       "      <td>1209</td>\n",
       "      <td>633</td>\n",
       "      <td>920</td>\n",
       "      <td>4631</td>\n",
       "      <td>3700</td>\n",
       "      <td>8</td>\n",
       "      <td>7</td>\n",
       "      <td>1929</td>\n",
       "      <td>1</td>\n",
       "    </tr>\n",
       "  </tbody>\n",
       "</table>\n",
       "</div>"
      ],
      "text/plain": [
       "     Team  Tournament Score PlayedGames WonGames DrawnGames LostGames  \\\n",
       "0  Team 1          86  4385        2762     1647        552       563   \n",
       "1  Team 2          86  4262        2762     1581        573       608   \n",
       "2  Team 3          80  3442        2614     1241        598       775   \n",
       "3  Team 4          82  3386        2664     1187        616       861   \n",
       "4  Team 5          86  3368        2762     1209        633       920   \n",
       "\n",
       "  BasketScored BasketGiven TournamentChampion Runner-up TeamLaunch  \\\n",
       "0         5947        3140                 33        23       1929   \n",
       "1         5900        3114                 25        25       1929   \n",
       "2         4534        3309                 10         8       1929   \n",
       "3         4398        3469                  6         6       1931   \n",
       "4         4631        3700                  8         7       1929   \n",
       "\n",
       "   HighestPositionHeld  \n",
       "0                    1  \n",
       "1                    1  \n",
       "2                    1  \n",
       "3                    1  \n",
       "4                    1  "
      ]
     },
     "execution_count": 32,
     "metadata": {},
     "output_type": "execute_result"
    }
   ],
   "source": [
    "basketball.head()"
   ]
  },
  {
   "cell_type": "code",
   "execution_count": 33,
   "id": "90b72db2",
   "metadata": {},
   "outputs": [],
   "source": [
    "# Changing the data type of 'teamlauch' as int\n",
    "basketball['TeamLaunch'] = basketball['TeamLaunch'].astype(int)\n",
    "\n",
    "basketball.head(10)\n",
    "# Changing the data type of all the columns except 'Team'column of dataframe as int\n",
    "Basketball_conv = basketball.loc[:,basketball.columns !='Team'] \n",
    "Basketball_conv = Basketball_conv.astype(int)"
   ]
  },
  {
   "cell_type": "code",
   "execution_count": 34,
   "id": "4a437d09",
   "metadata": {},
   "outputs": [
    {
     "data": {
      "text/html": [
       "<div>\n",
       "<style scoped>\n",
       "    .dataframe tbody tr th:only-of-type {\n",
       "        vertical-align: middle;\n",
       "    }\n",
       "\n",
       "    .dataframe tbody tr th {\n",
       "        vertical-align: top;\n",
       "    }\n",
       "\n",
       "    .dataframe thead th {\n",
       "        text-align: right;\n",
       "    }\n",
       "</style>\n",
       "<table border=\"1\" class=\"dataframe\">\n",
       "  <thead>\n",
       "    <tr style=\"text-align: right;\">\n",
       "      <th></th>\n",
       "      <th>Team</th>\n",
       "      <th>Tournament</th>\n",
       "      <th>Score</th>\n",
       "      <th>PlayedGames</th>\n",
       "      <th>WonGames</th>\n",
       "      <th>DrawnGames</th>\n",
       "      <th>LostGames</th>\n",
       "      <th>BasketScored</th>\n",
       "      <th>BasketGiven</th>\n",
       "      <th>TournamentChampion</th>\n",
       "      <th>Runner-up</th>\n",
       "      <th>TeamLaunch</th>\n",
       "      <th>HighestPositionHeld</th>\n",
       "    </tr>\n",
       "  </thead>\n",
       "  <tbody>\n",
       "    <tr>\n",
       "      <th>0</th>\n",
       "      <td>Team 1</td>\n",
       "      <td>86</td>\n",
       "      <td>4385</td>\n",
       "      <td>2762</td>\n",
       "      <td>1647</td>\n",
       "      <td>552</td>\n",
       "      <td>563</td>\n",
       "      <td>5947</td>\n",
       "      <td>3140</td>\n",
       "      <td>33</td>\n",
       "      <td>23</td>\n",
       "      <td>1929</td>\n",
       "      <td>1</td>\n",
       "    </tr>\n",
       "    <tr>\n",
       "      <th>1</th>\n",
       "      <td>Team 2</td>\n",
       "      <td>86</td>\n",
       "      <td>4262</td>\n",
       "      <td>2762</td>\n",
       "      <td>1581</td>\n",
       "      <td>573</td>\n",
       "      <td>608</td>\n",
       "      <td>5900</td>\n",
       "      <td>3114</td>\n",
       "      <td>25</td>\n",
       "      <td>25</td>\n",
       "      <td>1929</td>\n",
       "      <td>1</td>\n",
       "    </tr>\n",
       "    <tr>\n",
       "      <th>2</th>\n",
       "      <td>Team 3</td>\n",
       "      <td>80</td>\n",
       "      <td>3442</td>\n",
       "      <td>2614</td>\n",
       "      <td>1241</td>\n",
       "      <td>598</td>\n",
       "      <td>775</td>\n",
       "      <td>4534</td>\n",
       "      <td>3309</td>\n",
       "      <td>10</td>\n",
       "      <td>8</td>\n",
       "      <td>1929</td>\n",
       "      <td>1</td>\n",
       "    </tr>\n",
       "    <tr>\n",
       "      <th>3</th>\n",
       "      <td>Team 4</td>\n",
       "      <td>82</td>\n",
       "      <td>3386</td>\n",
       "      <td>2664</td>\n",
       "      <td>1187</td>\n",
       "      <td>616</td>\n",
       "      <td>861</td>\n",
       "      <td>4398</td>\n",
       "      <td>3469</td>\n",
       "      <td>6</td>\n",
       "      <td>6</td>\n",
       "      <td>1931</td>\n",
       "      <td>1</td>\n",
       "    </tr>\n",
       "    <tr>\n",
       "      <th>4</th>\n",
       "      <td>Team 5</td>\n",
       "      <td>86</td>\n",
       "      <td>3368</td>\n",
       "      <td>2762</td>\n",
       "      <td>1209</td>\n",
       "      <td>633</td>\n",
       "      <td>920</td>\n",
       "      <td>4631</td>\n",
       "      <td>3700</td>\n",
       "      <td>8</td>\n",
       "      <td>7</td>\n",
       "      <td>1929</td>\n",
       "      <td>1</td>\n",
       "    </tr>\n",
       "    <tr>\n",
       "      <th>5</th>\n",
       "      <td>Team 6</td>\n",
       "      <td>73</td>\n",
       "      <td>2819</td>\n",
       "      <td>2408</td>\n",
       "      <td>990</td>\n",
       "      <td>531</td>\n",
       "      <td>887</td>\n",
       "      <td>3680</td>\n",
       "      <td>3373</td>\n",
       "      <td>1</td>\n",
       "      <td>4</td>\n",
       "      <td>1934</td>\n",
       "      <td>1</td>\n",
       "    </tr>\n",
       "    <tr>\n",
       "      <th>6</th>\n",
       "      <td>Team 7</td>\n",
       "      <td>82</td>\n",
       "      <td>2792</td>\n",
       "      <td>2626</td>\n",
       "      <td>948</td>\n",
       "      <td>608</td>\n",
       "      <td>1070</td>\n",
       "      <td>3609</td>\n",
       "      <td>3889</td>\n",
       "      <td>0</td>\n",
       "      <td>0</td>\n",
       "      <td>1929</td>\n",
       "      <td>3</td>\n",
       "    </tr>\n",
       "    <tr>\n",
       "      <th>7</th>\n",
       "      <td>Team 8</td>\n",
       "      <td>70</td>\n",
       "      <td>2573</td>\n",
       "      <td>2302</td>\n",
       "      <td>864</td>\n",
       "      <td>577</td>\n",
       "      <td>861</td>\n",
       "      <td>3228</td>\n",
       "      <td>3230</td>\n",
       "      <td>2</td>\n",
       "      <td>3</td>\n",
       "      <td>1929</td>\n",
       "      <td>1</td>\n",
       "    </tr>\n",
       "    <tr>\n",
       "      <th>8</th>\n",
       "      <td>Team 9</td>\n",
       "      <td>58</td>\n",
       "      <td>2109</td>\n",
       "      <td>1986</td>\n",
       "      <td>698</td>\n",
       "      <td>522</td>\n",
       "      <td>766</td>\n",
       "      <td>2683</td>\n",
       "      <td>2847</td>\n",
       "      <td>0</td>\n",
       "      <td>1</td>\n",
       "      <td>1939</td>\n",
       "      <td>2</td>\n",
       "    </tr>\n",
       "    <tr>\n",
       "      <th>9</th>\n",
       "      <td>Team 10</td>\n",
       "      <td>51</td>\n",
       "      <td>1884</td>\n",
       "      <td>1728</td>\n",
       "      <td>606</td>\n",
       "      <td>440</td>\n",
       "      <td>682</td>\n",
       "      <td>2159</td>\n",
       "      <td>2492</td>\n",
       "      <td>1</td>\n",
       "      <td>0</td>\n",
       "      <td>1932</td>\n",
       "      <td>1</td>\n",
       "    </tr>\n",
       "  </tbody>\n",
       "</table>\n",
       "</div>"
      ],
      "text/plain": [
       "      Team  Tournament Score PlayedGames WonGames DrawnGames LostGames  \\\n",
       "0   Team 1          86  4385        2762     1647        552       563   \n",
       "1   Team 2          86  4262        2762     1581        573       608   \n",
       "2   Team 3          80  3442        2614     1241        598       775   \n",
       "3   Team 4          82  3386        2664     1187        616       861   \n",
       "4   Team 5          86  3368        2762     1209        633       920   \n",
       "5   Team 6          73  2819        2408      990        531       887   \n",
       "6   Team 7          82  2792        2626      948        608      1070   \n",
       "7   Team 8          70  2573        2302      864        577       861   \n",
       "8   Team 9          58  2109        1986      698        522       766   \n",
       "9  Team 10          51  1884        1728      606        440       682   \n",
       "\n",
       "  BasketScored BasketGiven TournamentChampion Runner-up  TeamLaunch  \\\n",
       "0         5947        3140                 33        23        1929   \n",
       "1         5900        3114                 25        25        1929   \n",
       "2         4534        3309                 10         8        1929   \n",
       "3         4398        3469                  6         6        1931   \n",
       "4         4631        3700                  8         7        1929   \n",
       "5         3680        3373                  1         4        1934   \n",
       "6         3609        3889                  0         0        1929   \n",
       "7         3228        3230                  2         3        1929   \n",
       "8         2683        2847                  0         1        1939   \n",
       "9         2159        2492                  1         0        1932   \n",
       "\n",
       "   HighestPositionHeld  \n",
       "0                    1  \n",
       "1                    1  \n",
       "2                    1  \n",
       "3                    1  \n",
       "4                    1  \n",
       "5                    1  \n",
       "6                    3  \n",
       "7                    1  \n",
       "8                    2  \n",
       "9                    1  "
      ]
     },
     "execution_count": 34,
     "metadata": {},
     "output_type": "execute_result"
    }
   ],
   "source": [
    "basketball.head(10)"
   ]
  },
  {
   "cell_type": "code",
   "execution_count": 35,
   "id": "55216757",
   "metadata": {},
   "outputs": [
    {
     "name": "stdout",
     "output_type": "stream",
     "text": [
      "<class 'pandas.core.frame.DataFrame'>\n",
      "RangeIndex: 61 entries, 0 to 60\n",
      "Data columns (total 12 columns):\n",
      " #   Column               Non-Null Count  Dtype\n",
      "---  ------               --------------  -----\n",
      " 0   Tournament           61 non-null     int64\n",
      " 1   Score                61 non-null     int64\n",
      " 2   PlayedGames          61 non-null     int64\n",
      " 3   WonGames             61 non-null     int64\n",
      " 4   DrawnGames           61 non-null     int64\n",
      " 5   LostGames            61 non-null     int64\n",
      " 6   BasketScored         61 non-null     int64\n",
      " 7   BasketGiven          61 non-null     int64\n",
      " 8   TournamentChampion   61 non-null     int64\n",
      " 9   Runner-up            61 non-null     int64\n",
      " 10  TeamLaunch           61 non-null     int64\n",
      " 11  HighestPositionHeld  61 non-null     int64\n",
      "dtypes: int64(12)\n",
      "memory usage: 5.8 KB\n"
     ]
    }
   ],
   "source": [
    "Basketball_conv.info()"
   ]
  },
  {
   "cell_type": "code",
   "execution_count": 36,
   "id": "570103b9",
   "metadata": {},
   "outputs": [
    {
     "data": {
      "text/html": [
       "<div>\n",
       "<style scoped>\n",
       "    .dataframe tbody tr th:only-of-type {\n",
       "        vertical-align: middle;\n",
       "    }\n",
       "\n",
       "    .dataframe tbody tr th {\n",
       "        vertical-align: top;\n",
       "    }\n",
       "\n",
       "    .dataframe thead th {\n",
       "        text-align: right;\n",
       "    }\n",
       "</style>\n",
       "<table border=\"1\" class=\"dataframe\">\n",
       "  <thead>\n",
       "    <tr style=\"text-align: right;\">\n",
       "      <th></th>\n",
       "      <th>Team</th>\n",
       "      <th>Tournament</th>\n",
       "      <th>Score</th>\n",
       "      <th>PlayedGames</th>\n",
       "      <th>WonGames</th>\n",
       "      <th>DrawnGames</th>\n",
       "      <th>LostGames</th>\n",
       "      <th>BasketScored</th>\n",
       "      <th>BasketGiven</th>\n",
       "      <th>TournamentChampion</th>\n",
       "      <th>Runner-up</th>\n",
       "      <th>TeamLaunch</th>\n",
       "      <th>HighestPositionHeld</th>\n",
       "    </tr>\n",
       "  </thead>\n",
       "  <tbody>\n",
       "    <tr>\n",
       "      <th>0</th>\n",
       "      <td>Team 1</td>\n",
       "      <td>86</td>\n",
       "      <td>4385</td>\n",
       "      <td>2762</td>\n",
       "      <td>1647</td>\n",
       "      <td>552</td>\n",
       "      <td>563</td>\n",
       "      <td>5947</td>\n",
       "      <td>3140</td>\n",
       "      <td>33</td>\n",
       "      <td>23</td>\n",
       "      <td>1929</td>\n",
       "      <td>1</td>\n",
       "    </tr>\n",
       "    <tr>\n",
       "      <th>1</th>\n",
       "      <td>Team 2</td>\n",
       "      <td>86</td>\n",
       "      <td>4262</td>\n",
       "      <td>2762</td>\n",
       "      <td>1581</td>\n",
       "      <td>573</td>\n",
       "      <td>608</td>\n",
       "      <td>5900</td>\n",
       "      <td>3114</td>\n",
       "      <td>25</td>\n",
       "      <td>25</td>\n",
       "      <td>1929</td>\n",
       "      <td>1</td>\n",
       "    </tr>\n",
       "    <tr>\n",
       "      <th>2</th>\n",
       "      <td>Team 3</td>\n",
       "      <td>80</td>\n",
       "      <td>3442</td>\n",
       "      <td>2614</td>\n",
       "      <td>1241</td>\n",
       "      <td>598</td>\n",
       "      <td>775</td>\n",
       "      <td>4534</td>\n",
       "      <td>3309</td>\n",
       "      <td>10</td>\n",
       "      <td>8</td>\n",
       "      <td>1929</td>\n",
       "      <td>1</td>\n",
       "    </tr>\n",
       "    <tr>\n",
       "      <th>3</th>\n",
       "      <td>Team 4</td>\n",
       "      <td>82</td>\n",
       "      <td>3386</td>\n",
       "      <td>2664</td>\n",
       "      <td>1187</td>\n",
       "      <td>616</td>\n",
       "      <td>861</td>\n",
       "      <td>4398</td>\n",
       "      <td>3469</td>\n",
       "      <td>6</td>\n",
       "      <td>6</td>\n",
       "      <td>1931</td>\n",
       "      <td>1</td>\n",
       "    </tr>\n",
       "    <tr>\n",
       "      <th>4</th>\n",
       "      <td>Team 5</td>\n",
       "      <td>86</td>\n",
       "      <td>3368</td>\n",
       "      <td>2762</td>\n",
       "      <td>1209</td>\n",
       "      <td>633</td>\n",
       "      <td>920</td>\n",
       "      <td>4631</td>\n",
       "      <td>3700</td>\n",
       "      <td>8</td>\n",
       "      <td>7</td>\n",
       "      <td>1929</td>\n",
       "      <td>1</td>\n",
       "    </tr>\n",
       "  </tbody>\n",
       "</table>\n",
       "</div>"
      ],
      "text/plain": [
       "     Team  Tournament  Score  PlayedGames  WonGames  DrawnGames  LostGames  \\\n",
       "0  Team 1          86   4385         2762      1647         552        563   \n",
       "1  Team 2          86   4262         2762      1581         573        608   \n",
       "2  Team 3          80   3442         2614      1241         598        775   \n",
       "3  Team 4          82   3386         2664      1187         616        861   \n",
       "4  Team 5          86   3368         2762      1209         633        920   \n",
       "\n",
       "   BasketScored  BasketGiven  TournamentChampion  Runner-up  TeamLaunch  \\\n",
       "0          5947         3140                  33         23        1929   \n",
       "1          5900         3114                  25         25        1929   \n",
       "2          4534         3309                  10          8        1929   \n",
       "3          4398         3469                   6          6        1931   \n",
       "4          4631         3700                   8          7        1929   \n",
       "\n",
       "   HighestPositionHeld  \n",
       "0                    1  \n",
       "1                    1  \n",
       "2                    1  \n",
       "3                    1  \n",
       "4                    1  "
      ]
     },
     "execution_count": 36,
     "metadata": {},
     "output_type": "execute_result"
    }
   ],
   "source": [
    "# Appending the 'Team' column which is of data type 'string' and dropped while doing type conversion with the converted dataframe\n",
    "Basketball_conv['Team']=(basketball['Team'])\n",
    "first_column =Basketball_conv.pop('Team')\n",
    "Basketball_conv.insert(0, 'Team', first_column) # Insert 'Team' as the first column\n",
    "Basketball_conv.head()"
   ]
  },
  {
   "cell_type": "code",
   "execution_count": 37,
   "id": "c27ca4f5",
   "metadata": {},
   "outputs": [
    {
     "data": {
      "text/plain": [
       "Team\n",
       "Team 1    86\n",
       "Team 2    86\n",
       "Team 5    86\n",
       "Team 7    82\n",
       "Team 4    82\n",
       "Name: Tournament, dtype: int64"
      ]
     },
     "execution_count": 37,
     "metadata": {},
     "output_type": "execute_result"
    }
   ],
   "source": [
    "# Getting the teams those who played maximum number of Tournament\n",
    "Basketball_conv.groupby(['Team'])['Tournament'].sum().sort_values(ascending=False).head(5)"
   ]
  },
  {
   "cell_type": "code",
   "execution_count": 38,
   "id": "e92b0200",
   "metadata": {},
   "outputs": [
    {
     "data": {
      "text/plain": [
       "Team\n",
       "Team 56    1\n",
       "Team 59    1\n",
       "Team 58    1\n",
       "Team 61    1\n",
       "Team 57    1\n",
       "Name: Tournament, dtype: int64"
      ]
     },
     "execution_count": 38,
     "metadata": {},
     "output_type": "execute_result"
    }
   ],
   "source": [
    "# Getting the teams those who played minimum number of Tournament\n",
    "Basketball_conv.groupby(['Team'])['Tournament'].sum().sort_values(ascending=True).head(5)"
   ]
  },
  {
   "cell_type": "code",
   "execution_count": 39,
   "id": "015b5d08",
   "metadata": {},
   "outputs": [
    {
     "name": "stdout",
     "output_type": "stream",
     "text": [
      "The top 5 teams, which won the maximum games are\n"
     ]
    },
    {
     "data": {
      "text/plain": [
       "Team\n",
       "Team 1    0.596307\n",
       "Team 2    0.572411\n",
       "Team 3    0.474751\n",
       "Team 4    0.445571\n",
       "Team 5    0.437726\n",
       "Name: WinResult, dtype: float64"
      ]
     },
     "execution_count": 39,
     "metadata": {},
     "output_type": "execute_result"
    }
   ],
   "source": [
    "# Calculate the winning percentage of the team from PlayedGames and WonGames and adding extra column to the dataframe\n",
    "Basketball_conv['WinResult'] = Basketball_conv['WonGames']/Basketball_conv['PlayedGames']\n",
    "Basketball_conv['WinResult'].dtype\n",
    "TopWin = Basketball_conv['WinResult'].sort_values(ascending =False).head(10)\n",
    "print('The top 5 teams, which won the maximum games are')\n",
    "Basketball_conv.groupby(['Team'])['WinResult'].sum().sort_values(ascending =False).head(5)"
   ]
  },
  {
   "cell_type": "code",
   "execution_count": 40,
   "id": "7ef3b76e",
   "metadata": {},
   "outputs": [
    {
     "name": "stdout",
     "output_type": "stream",
     "text": [
      "The top 5 teams which became Champions are:\n"
     ]
    },
    {
     "data": {
      "text/plain": [
       "Team\n",
       "Team 1    0.383721\n",
       "Team 2    0.290698\n",
       "Team 3    0.125000\n",
       "Team 5    0.093023\n",
       "Team 4    0.073171\n",
       "Name: Champions, dtype: float64"
      ]
     },
     "execution_count": 40,
     "metadata": {},
     "output_type": "execute_result"
    }
   ],
   "source": [
    "# Calculate the percentage of getting championship against tounament played\n",
    "Basketball_conv['Champions'] = Basketball_conv['TournamentChampion']/Basketball_conv['Tournament']\n",
    "Basketball_conv['Champions'].dtype\n",
    "TopChampions = Basketball_conv['Champions'].sort_values(ascending =False).head(10)\n",
    "print('The top 5 teams which became Champions are:')\n",
    "Basketball_conv.groupby(['Team'])['Champions'].sum().sort_values(ascending =False).head(5)"
   ]
  },
  {
   "cell_type": "code",
   "execution_count": 41,
   "id": "7e990791",
   "metadata": {},
   "outputs": [
    {
     "name": "stdout",
     "output_type": "stream",
     "text": [
      "The oldest team in the tournament is of age:  95\n",
      "The oldest team in the tournament are: \n",
      "       Team  Tournament  Score  PlayedGames  WonGames  DrawnGames  LostGames  \\\n",
      "0    Team 1          86   4385         2762      1647         552        563   \n",
      "1    Team 2          86   4262         2762      1581         573        608   \n",
      "2    Team 3          80   3442         2614      1241         598        775   \n",
      "4    Team 5          86   3368         2762      1209         633        920   \n",
      "6    Team 7          82   2792         2626       948         608       1070   \n",
      "7    Team 8          70   2573         2302       864         577        861   \n",
      "13  Team 14          44   1416         1428       453         336        639   \n",
      "44  Team 45           7    107          130        43          21         66   \n",
      "51  Team 52           4     56           72        21          14         37   \n",
      "53  Team 54           3     42           54        18           6         30   \n",
      "\n",
      "    BasketScored  BasketGiven  TournamentChampion  Runner-up  TeamLaunch  \\\n",
      "0           5947         3140                  33         23        1929   \n",
      "1           5900         3114                  25         25        1929   \n",
      "2           4534         3309                  10          8        1929   \n",
      "4           4631         3700                   8          7        1929   \n",
      "6           3609         3889                   0          0        1929   \n",
      "7           3228         3230                   2          3        1929   \n",
      "13          1843         2368                   0          1        1929   \n",
      "44           227          308                   0          0        1929   \n",
      "51           153          184                   0          0        1929   \n",
      "53            97          131                   0          0        1929   \n",
      "\n",
      "    HighestPositionHeld  WinResult  Champions  TeamAge  \n",
      "0                     1   0.596307   0.383721       95  \n",
      "1                     1   0.572411   0.290698       95  \n",
      "2                     1   0.474751   0.125000       95  \n",
      "4                     1   0.437726   0.093023       95  \n",
      "6                     3   0.361005   0.000000       95  \n",
      "7                     1   0.375326   0.028571       95  \n",
      "13                    2   0.317227   0.000000       95  \n",
      "44                    3   0.330769   0.000000       95  \n",
      "51                    6   0.291667   0.000000       95  \n",
      "53                    8   0.333333   0.000000       95  \n"
     ]
    }
   ],
   "source": [
    "# Calculate the total period, the team is playing the tournament assuming the teams included upto 2024\n",
    "Basketball_conv['TeamAge'] = 2024-Basketball_conv['TeamLaunch']\n",
    "print('The oldest team in the tournament is of age: ',Basketball_conv['TeamAge'].max())\n",
    "print('The oldest team in the tournament are: ')\n",
    "print(Basketball_conv[Basketball_conv['TeamAge'] == Basketball_conv['TeamAge'].max()]) "
   ]
  },
  {
   "cell_type": "code",
   "execution_count": 42,
   "id": "99d9b536",
   "metadata": {},
   "outputs": [
    {
     "name": "stdout",
     "output_type": "stream",
     "text": [
      "The newest team in the tournament is of age:  7\n",
      "The newest team in the tournament are: \n",
      "       Team  Tournament  Score  PlayedGames  WonGames  DrawnGames  LostGames  \\\n",
      "60  Team 61           1      0            0         0           0          0   \n",
      "\n",
      "    BasketScored  BasketGiven  TournamentChampion  Runner-up  TeamLaunch  \\\n",
      "60             0            0                   0          0        2017   \n",
      "\n",
      "    HighestPositionHeld  WinResult  Champions  TeamAge  \n",
      "60                    9        NaN        0.0        7  \n"
     ]
    }
   ],
   "source": [
    "print('The newest team in the tournament is of age: ',Basketball_conv['TeamAge'].min())\n",
    "print('The newest team in the tournament are: ')\n",
    "print(Basketball_conv[Basketball_conv['TeamAge'] == Basketball_conv['TeamAge'].min()])"
   ]
  },
  {
   "cell_type": "code",
   "execution_count": 43,
   "id": "1b92794e",
   "metadata": {},
   "outputs": [
    {
     "name": "stdout",
     "output_type": "stream",
     "text": [
      "The top 5 teams with maximum experience of Tournament are:\n"
     ]
    },
    {
     "data": {
      "text/plain": [
       "Team\n",
       "Team 59    73.000000\n",
       "Team 60    69.000000\n",
       "Team 58    68.000000\n",
       "Team 55    37.000000\n",
       "Team 54    31.666667\n",
       "Name: TeamExperience, dtype: float64"
      ]
     },
     "execution_count": 43,
     "metadata": {},
     "output_type": "execute_result"
    }
   ],
   "source": [
    "# Getting the teams those who played maximum number of Tournament against the age of the team\n",
    "Basketball_conv['TeamExperience'] = Basketball_conv['TeamAge']/Basketball_conv['Tournament']\n",
    "Basketball_conv['TeamExperience'].dtype\n",
    "print('The top 5 teams with maximum experience of Tournament are:')\n",
    "Basketball_conv.groupby(['Team'])['TeamExperience'].sum().sort_values(ascending =False).head(5)"
   ]
  },
  {
   "cell_type": "code",
   "execution_count": 44,
   "id": "41f01f0c",
   "metadata": {},
   "outputs": [
    {
     "name": "stdout",
     "output_type": "stream",
     "text": [
      "The 5 teams with minimum experience of Tournament are:\n"
     ]
    },
    {
     "data": {
      "text/plain": [
       "Team\n",
       "Team 1    1.104651\n",
       "Team 5    1.104651\n",
       "Team 2    1.104651\n",
       "Team 4    1.134146\n",
       "Team 7    1.158537\n",
       "Name: TeamExperience, dtype: float64"
      ]
     },
     "execution_count": 44,
     "metadata": {},
     "output_type": "execute_result"
    }
   ],
   "source": [
    "print('The 5 teams with minimum experience of Tournament are:')\n",
    "Basketball_conv.groupby(['Team'])['TeamExperience'].sum().sort_values(ascending =True).head(5)"
   ]
  },
  {
   "cell_type": "code",
   "execution_count": 45,
   "id": "c3674cc2",
   "metadata": {},
   "outputs": [
    {
     "name": "stdout",
     "output_type": "stream",
     "text": [
      "The top 5 teams with the percentage of getting championship against experience are:\n"
     ]
    },
    {
     "data": {
      "text/plain": [
       "Team\n",
       "Team 1    0.347368\n",
       "Team 2    0.263158\n",
       "Team 3    0.105263\n",
       "Team 5    0.084211\n",
       "Team 4    0.064516\n",
       "Name: TeamPerformance, dtype: float64"
      ]
     },
     "execution_count": 45,
     "metadata": {},
     "output_type": "execute_result"
    }
   ],
   "source": [
    "# Calculate the percentage of getting championship against experience\n",
    "Basketball_conv['TeamPerformance'] = Basketball_conv['Champions']/Basketball_conv['TeamExperience']\n",
    "Basketball_conv['TeamPerformance'].dtype\n",
    "print('The top 5 teams with the percentage of getting championship against experience are:')\n",
    "Basketball_conv.groupby(['Team'])['TeamPerformance'].sum().sort_values(ascending =False).head(5)"
   ]
  },
  {
   "cell_type": "code",
   "execution_count": 46,
   "id": "cc185e8d",
   "metadata": {},
   "outputs": [
    {
     "data": {
      "text/html": [
       "<div>\n",
       "<style scoped>\n",
       "    .dataframe tbody tr th:only-of-type {\n",
       "        vertical-align: middle;\n",
       "    }\n",
       "\n",
       "    .dataframe tbody tr th {\n",
       "        vertical-align: top;\n",
       "    }\n",
       "\n",
       "    .dataframe thead th {\n",
       "        text-align: right;\n",
       "    }\n",
       "</style>\n",
       "<table border=\"1\" class=\"dataframe\">\n",
       "  <thead>\n",
       "    <tr style=\"text-align: right;\">\n",
       "      <th></th>\n",
       "      <th>Team</th>\n",
       "      <th>TeamAge</th>\n",
       "      <th>TeamExperience</th>\n",
       "      <th>TeamPerformance</th>\n",
       "      <th>WinResult</th>\n",
       "      <th>Champions</th>\n",
       "    </tr>\n",
       "  </thead>\n",
       "  <tbody>\n",
       "    <tr>\n",
       "      <th>0</th>\n",
       "      <td>Team 1</td>\n",
       "      <td>95</td>\n",
       "      <td>1.104651</td>\n",
       "      <td>0.347368</td>\n",
       "      <td>0.596307</td>\n",
       "      <td>0.383721</td>\n",
       "    </tr>\n",
       "    <tr>\n",
       "      <th>1</th>\n",
       "      <td>Team 2</td>\n",
       "      <td>95</td>\n",
       "      <td>1.104651</td>\n",
       "      <td>0.263158</td>\n",
       "      <td>0.572411</td>\n",
       "      <td>0.290698</td>\n",
       "    </tr>\n",
       "    <tr>\n",
       "      <th>2</th>\n",
       "      <td>Team 3</td>\n",
       "      <td>95</td>\n",
       "      <td>1.187500</td>\n",
       "      <td>0.105263</td>\n",
       "      <td>0.474751</td>\n",
       "      <td>0.125000</td>\n",
       "    </tr>\n",
       "    <tr>\n",
       "      <th>3</th>\n",
       "      <td>Team 4</td>\n",
       "      <td>93</td>\n",
       "      <td>1.134146</td>\n",
       "      <td>0.064516</td>\n",
       "      <td>0.445571</td>\n",
       "      <td>0.073171</td>\n",
       "    </tr>\n",
       "    <tr>\n",
       "      <th>4</th>\n",
       "      <td>Team 5</td>\n",
       "      <td>95</td>\n",
       "      <td>1.104651</td>\n",
       "      <td>0.084211</td>\n",
       "      <td>0.437726</td>\n",
       "      <td>0.093023</td>\n",
       "    </tr>\n",
       "    <tr>\n",
       "      <th>...</th>\n",
       "      <td>...</td>\n",
       "      <td>...</td>\n",
       "      <td>...</td>\n",
       "      <td>...</td>\n",
       "      <td>...</td>\n",
       "      <td>...</td>\n",
       "    </tr>\n",
       "    <tr>\n",
       "      <th>56</th>\n",
       "      <td>Team 57</td>\n",
       "      <td>15</td>\n",
       "      <td>15.000000</td>\n",
       "      <td>0.000000</td>\n",
       "      <td>0.210526</td>\n",
       "      <td>0.000000</td>\n",
       "    </tr>\n",
       "    <tr>\n",
       "      <th>57</th>\n",
       "      <td>Team 58</td>\n",
       "      <td>68</td>\n",
       "      <td>68.000000</td>\n",
       "      <td>0.000000</td>\n",
       "      <td>0.233333</td>\n",
       "      <td>0.000000</td>\n",
       "    </tr>\n",
       "    <tr>\n",
       "      <th>58</th>\n",
       "      <td>Team 59</td>\n",
       "      <td>73</td>\n",
       "      <td>73.000000</td>\n",
       "      <td>0.000000</td>\n",
       "      <td>0.233333</td>\n",
       "      <td>0.000000</td>\n",
       "    </tr>\n",
       "    <tr>\n",
       "      <th>59</th>\n",
       "      <td>Team 60</td>\n",
       "      <td>69</td>\n",
       "      <td>69.000000</td>\n",
       "      <td>0.000000</td>\n",
       "      <td>0.166667</td>\n",
       "      <td>0.000000</td>\n",
       "    </tr>\n",
       "    <tr>\n",
       "      <th>60</th>\n",
       "      <td>Team 61</td>\n",
       "      <td>7</td>\n",
       "      <td>7.000000</td>\n",
       "      <td>0.000000</td>\n",
       "      <td>NaN</td>\n",
       "      <td>0.000000</td>\n",
       "    </tr>\n",
       "  </tbody>\n",
       "</table>\n",
       "<p>61 rows × 6 columns</p>\n",
       "</div>"
      ],
      "text/plain": [
       "       Team  TeamAge  TeamExperience  TeamPerformance  WinResult  Champions\n",
       "0    Team 1       95        1.104651         0.347368   0.596307   0.383721\n",
       "1    Team 2       95        1.104651         0.263158   0.572411   0.290698\n",
       "2    Team 3       95        1.187500         0.105263   0.474751   0.125000\n",
       "3    Team 4       93        1.134146         0.064516   0.445571   0.073171\n",
       "4    Team 5       95        1.104651         0.084211   0.437726   0.093023\n",
       "..      ...      ...             ...              ...        ...        ...\n",
       "56  Team 57       15       15.000000         0.000000   0.210526   0.000000\n",
       "57  Team 58       68       68.000000         0.000000   0.233333   0.000000\n",
       "58  Team 59       73       73.000000         0.000000   0.233333   0.000000\n",
       "59  Team 60       69       69.000000         0.000000   0.166667   0.000000\n",
       "60  Team 61        7        7.000000         0.000000        NaN   0.000000\n",
       "\n",
       "[61 rows x 6 columns]"
      ]
     },
     "execution_count": 46,
     "metadata": {},
     "output_type": "execute_result"
    }
   ],
   "source": [
    "# Lets Filter the dataframe to understand age of the team, WinResult, Champions,Team Experience and Team Performance\n",
    "df_1=Basketball_conv.filter(items=['Team', 'TeamAge', 'TeamExperience','TeamPerformance','WinResult','Champions']) \n",
    "df_1"
   ]
  },
  {
   "cell_type": "code",
   "execution_count": 47,
   "id": "eca294a5",
   "metadata": {},
   "outputs": [
    {
     "data": {
      "text/plain": [
       "<Axes: xlabel='TeamAge', ylabel='TeamPerformance'>"
      ]
     },
     "execution_count": 47,
     "metadata": {},
     "output_type": "execute_result"
    },
    {
     "data": {
      "image/png": "[encoded data removed]",
      "text/plain": [
       "<Figure size 1600x1600 with 1 Axes>"
      ]
     },
     "metadata": {},
     "output_type": "display_data"
    }
   ],
   "source": [
    "# Let's find the team with better performance\n",
    "plt.figure(figsize = (16,16))\n",
    "# Plot the teamAge against the Team Performance\n",
    "sns.barplot(x='TeamAge', y='TeamPerformance',data=df_1)"
   ]
  },
  {
   "cell_type": "markdown",
   "id": "204d0a8e",
   "metadata": {},
   "source": [
    "### It is observed that Team of the age 95 has better performance (Team 1, 2 and 3)"
   ]
  },
  {
   "cell_type": "code",
   "execution_count": 48,
   "id": "a3119737",
   "metadata": {},
   "outputs": [
    {
     "data": {
      "text/plain": [
       "<Axes: xlabel='TeamAge'>"
      ]
     },
     "execution_count": 48,
     "metadata": {},
     "output_type": "execute_result"
    },
    {
     "data": {
      "image/png": "[encoded data removed]",
      "text/plain": [
       "<Figure size 1000x1000 with 1 Axes>"
      ]
     },
     "metadata": {},
     "output_type": "display_data"
    }
   ],
   "source": [
    "# Let's find the team with better win results\n",
    "# Plot the top 10 teams which gave better win results \n",
    "df_2=Basketball_conv.groupby(['TeamAge'])['WinResult'].sum().sort_values(ascending =False).head(10)                                                                                           \n",
    "plt.figure(figsize = (10,10))\n",
    "sns.barplot(y = df_2.values ,x = df_2.index)"
   ]
  },
  {
   "cell_type": "code",
   "execution_count": 49,
   "id": "ba30a066",
   "metadata": {},
   "outputs": [
    {
     "data": {
      "image/png": "[encoded data removed]",
      "text/plain": [
       "<Figure size 1200x1000 with 2 Axes>"
      ]
     },
     "metadata": {},
     "output_type": "display_data"
    }
   ],
   "source": [
    "# Drop non-numeric columns before calculating the correlation matrix\n",
    "numeric_df = df_1.select_dtypes(include=['number'])\n",
    "\n",
    "# Calculate the correlation matrix\n",
    "corr_matrix = numeric_df.corr()\n",
    "\n",
    "# Plot the correlation matrix as a heatmap\n",
    "plt.figure(figsize=(12, 10))\n",
    "sns.heatmap(corr_matrix, annot=True, cmap='viridis', fmt=\".2f\", linewidths=1, linecolor='white', square=True)\n",
    "plt.title('Correlation Matrix of Performance Metrics')\n",
    "plt.xticks(rotation=45)\n",
    "plt.yticks(rotation=0)\n",
    "plt.tight_layout()\n",
    "plt.show()"
   ]
  },
  {
   "cell_type": "markdown",
   "id": "e18655b3",
   "metadata": {},
   "source": [
    "### The Correlation table shows high correlation between Team Performance and Tournament Champions."
   ]
  },
  {
   "cell_type": "code",
   "execution_count": 50,
   "id": "12550356",
   "metadata": {},
   "outputs": [
    {
     "data": {
      "text/plain": [
       "<Axes: xlabel='TeamAge'>"
      ]
     },
     "execution_count": 50,
     "metadata": {},
     "output_type": "execute_result"
    },
    {
     "data": {
      "image/png": "[encoded data removed]",
      "text/plain": [
       "<Figure size 1000x1000 with 1 Axes>"
      ]
     },
     "metadata": {},
     "output_type": "display_data"
    }
   ],
   "source": [
    "# Let's find the team which has got championship\n",
    "# Plot the top 10 teams which were champions\n",
    "df_3=Basketball_conv.groupby(['TeamAge'])['Champions'].sum().sort_values(ascending =False).head(10)                                                                                           \n",
    "plt.figure(figsize = (10,10))\n",
    "sns.barplot(y = df_3.values ,x = df_3.index)"
   ]
  },
  {
   "cell_type": "code",
   "execution_count": 51,
   "id": "3f1ceb78",
   "metadata": {},
   "outputs": [
    {
     "data": {
      "text/plain": [
       "<Axes: xlabel='Champions', ylabel='HighestPositionHeld'>"
      ]
     },
     "execution_count": 51,
     "metadata": {},
     "output_type": "execute_result"
    },
    {
     "data": {
      "image/png": "[encoded data removed]",
      "text/plain": [
       "<Figure size 640x480 with 1 Axes>"
      ]
     },
     "metadata": {},
     "output_type": "display_data"
    }
   ],
   "source": [
    "# Lets compare New vs old team's performance with respect to age and Highest Position based on Championship \n",
    "sns.scatterplot(data=Basketball_conv, x=\"Champions\", y=\"HighestPositionHeld\",size=\"TeamAge\")"
   ]
  },
  {
   "cell_type": "code",
   "execution_count": 52,
   "id": "db615e11",
   "metadata": {},
   "outputs": [
    {
     "data": {
      "text/plain": [
       "<Axes: xlabel='WinResult', ylabel='HighestPositionHeld'>"
      ]
     },
     "execution_count": 52,
     "metadata": {},
     "output_type": "execute_result"
    },
    {
     "data": {
      "image/png": "[encoded data removed]",
      "text/plain": [
       "<Figure size 640x480 with 1 Axes>"
      ]
     },
     "metadata": {},
     "output_type": "display_data"
    }
   ],
   "source": [
    "# Lets compare New vs old team's performance with respect to age and Highest Position based on WinResult \n",
    "sns.scatterplot(data=Basketball_conv, x=\"WinResult\", y=\"HighestPositionHeld\",size=\"TeamAge\")"
   ]
  },
  {
   "cell_type": "markdown",
   "id": "936b5a75",
   "metadata": {},
   "source": [
    "### Team of age 15 (Young Team) held the Highest Position"
   ]
  },
  {
   "cell_type": "code",
   "execution_count": 53,
   "id": "509d2fdc",
   "metadata": {},
   "outputs": [
    {
     "name": "stderr",
     "output_type": "stream",
     "text": [
      "/Users/farazali/anaconda3/lib/python3.11/site-packages/seaborn/axisgrid.py:118: UserWarning: The figure layout has changed to tight\n",
      "  self._figure.tight_layout(*args, **kwargs)\n"
     ]
    },
    {
     "data": {
      "text/plain": [
       "<seaborn.axisgrid.FacetGrid at 0x15498ced0>"
      ]
     },
     "execution_count": 53,
     "metadata": {},
     "output_type": "execute_result"
    },
    {
     "data": {
      "image/png": "[encoded data removed]",
      "text/plain": [
       "<Figure size 609x500 with 1 Axes>"
      ]
     },
     "metadata": {},
     "output_type": "display_data"
    }
   ],
   "source": [
    "sns.lmplot(x=\"WinResult\", y=\"HighestPositionHeld\", hue = \"Team\", data=Basketball_conv)"
   ]
  },
  {
   "cell_type": "markdown",
   "id": "9fec4f95",
   "metadata": {},
   "source": [
    "### Team 57 held the Highest Position"
   ]
  },
  {
   "cell_type": "markdown",
   "id": "e029e152",
   "metadata": {},
   "source": [
    "### TOP 5 TEAMS FROM BELOW CONSOLIDATED TABLES A AND B CAN TREATED AS BEST PERFORMERS AND HENCE COMPANY CAN CHOOSE BETWEEN THESE TEAMS FOR SPONSORSHIP"
   ]
  },
  {
   "cell_type": "code",
   "execution_count": 54,
   "id": "857f1a42",
   "metadata": {},
   "outputs": [
    {
     "name": "stdout",
     "output_type": "stream",
     "text": [
      "TOP OLD TEAMS: TABLE A\n"
     ]
    },
    {
     "data": {
      "text/html": [
       "<div>\n",
       "<style scoped>\n",
       "    .dataframe tbody tr th:only-of-type {\n",
       "        vertical-align: middle;\n",
       "    }\n",
       "\n",
       "    .dataframe tbody tr th {\n",
       "        vertical-align: top;\n",
       "    }\n",
       "\n",
       "    .dataframe thead th {\n",
       "        text-align: right;\n",
       "    }\n",
       "</style>\n",
       "<table border=\"1\" class=\"dataframe\">\n",
       "  <thead>\n",
       "    <tr style=\"text-align: right;\">\n",
       "      <th></th>\n",
       "      <th>Team</th>\n",
       "      <th>TeamAge</th>\n",
       "      <th>TeamExperience</th>\n",
       "      <th>TeamPerformance</th>\n",
       "      <th>WinResult</th>\n",
       "      <th>Champions</th>\n",
       "    </tr>\n",
       "  </thead>\n",
       "  <tbody>\n",
       "    <tr>\n",
       "      <th>0</th>\n",
       "      <td>Team 1</td>\n",
       "      <td>95</td>\n",
       "      <td>1.104651</td>\n",
       "      <td>0.347368</td>\n",
       "      <td>0.596307</td>\n",
       "      <td>0.383721</td>\n",
       "    </tr>\n",
       "    <tr>\n",
       "      <th>51</th>\n",
       "      <td>Team 52</td>\n",
       "      <td>95</td>\n",
       "      <td>23.750000</td>\n",
       "      <td>0.000000</td>\n",
       "      <td>0.291667</td>\n",
       "      <td>0.000000</td>\n",
       "    </tr>\n",
       "    <tr>\n",
       "      <th>2</th>\n",
       "      <td>Team 3</td>\n",
       "      <td>95</td>\n",
       "      <td>1.187500</td>\n",
       "      <td>0.105263</td>\n",
       "      <td>0.474751</td>\n",
       "      <td>0.125000</td>\n",
       "    </tr>\n",
       "    <tr>\n",
       "      <th>4</th>\n",
       "      <td>Team 5</td>\n",
       "      <td>95</td>\n",
       "      <td>1.104651</td>\n",
       "      <td>0.084211</td>\n",
       "      <td>0.437726</td>\n",
       "      <td>0.093023</td>\n",
       "    </tr>\n",
       "    <tr>\n",
       "      <th>1</th>\n",
       "      <td>Team 2</td>\n",
       "      <td>95</td>\n",
       "      <td>1.104651</td>\n",
       "      <td>0.263158</td>\n",
       "      <td>0.572411</td>\n",
       "      <td>0.290698</td>\n",
       "    </tr>\n",
       "  </tbody>\n",
       "</table>\n",
       "</div>"
      ],
      "text/plain": [
       "       Team  TeamAge  TeamExperience  TeamPerformance  WinResult  Champions\n",
       "0    Team 1       95        1.104651         0.347368   0.596307   0.383721\n",
       "51  Team 52       95       23.750000         0.000000   0.291667   0.000000\n",
       "2    Team 3       95        1.187500         0.105263   0.474751   0.125000\n",
       "4    Team 5       95        1.104651         0.084211   0.437726   0.093023\n",
       "1    Team 2       95        1.104651         0.263158   0.572411   0.290698"
      ]
     },
     "execution_count": 54,
     "metadata": {},
     "output_type": "execute_result"
    }
   ],
   "source": [
    "df_4 = df_1.sort_values(by='WinResult',ascending=False) # Top performing teams\n",
    "print('TOP OLD TEAMS: TABLE A')\n",
    "df_4.sort_values(by='TeamAge',ascending=False).head(5) # Top Performing old teams"
   ]
  },
  {
   "cell_type": "code",
   "execution_count": 55,
   "id": "df1d0584",
   "metadata": {},
   "outputs": [
    {
     "name": "stdout",
     "output_type": "stream",
     "text": [
      "TOP OLD TEAMS: TABLE B\n"
     ]
    },
    {
     "data": {
      "text/html": [
       "<div>\n",
       "<style scoped>\n",
       "    .dataframe tbody tr th:only-of-type {\n",
       "        vertical-align: middle;\n",
       "    }\n",
       "\n",
       "    .dataframe tbody tr th {\n",
       "        vertical-align: top;\n",
       "    }\n",
       "\n",
       "    .dataframe thead th {\n",
       "        text-align: right;\n",
       "    }\n",
       "</style>\n",
       "<table border=\"1\" class=\"dataframe\">\n",
       "  <thead>\n",
       "    <tr style=\"text-align: right;\">\n",
       "      <th></th>\n",
       "      <th>Team</th>\n",
       "      <th>TeamAge</th>\n",
       "      <th>TeamExperience</th>\n",
       "      <th>TeamPerformance</th>\n",
       "      <th>WinResult</th>\n",
       "      <th>Champions</th>\n",
       "    </tr>\n",
       "  </thead>\n",
       "  <tbody>\n",
       "    <tr>\n",
       "      <th>0</th>\n",
       "      <td>Team 1</td>\n",
       "      <td>95</td>\n",
       "      <td>1.104651</td>\n",
       "      <td>0.347368</td>\n",
       "      <td>0.596307</td>\n",
       "      <td>0.383721</td>\n",
       "    </tr>\n",
       "    <tr>\n",
       "      <th>4</th>\n",
       "      <td>Team 5</td>\n",
       "      <td>95</td>\n",
       "      <td>1.104651</td>\n",
       "      <td>0.084211</td>\n",
       "      <td>0.437726</td>\n",
       "      <td>0.093023</td>\n",
       "    </tr>\n",
       "    <tr>\n",
       "      <th>1</th>\n",
       "      <td>Team 2</td>\n",
       "      <td>95</td>\n",
       "      <td>1.104651</td>\n",
       "      <td>0.263158</td>\n",
       "      <td>0.572411</td>\n",
       "      <td>0.290698</td>\n",
       "    </tr>\n",
       "    <tr>\n",
       "      <th>53</th>\n",
       "      <td>Team 54</td>\n",
       "      <td>95</td>\n",
       "      <td>31.666667</td>\n",
       "      <td>0.000000</td>\n",
       "      <td>0.333333</td>\n",
       "      <td>0.000000</td>\n",
       "    </tr>\n",
       "    <tr>\n",
       "      <th>51</th>\n",
       "      <td>Team 52</td>\n",
       "      <td>95</td>\n",
       "      <td>23.750000</td>\n",
       "      <td>0.000000</td>\n",
       "      <td>0.291667</td>\n",
       "      <td>0.000000</td>\n",
       "    </tr>\n",
       "  </tbody>\n",
       "</table>\n",
       "</div>"
      ],
      "text/plain": [
       "       Team  TeamAge  TeamExperience  TeamPerformance  WinResult  Champions\n",
       "0    Team 1       95        1.104651         0.347368   0.596307   0.383721\n",
       "4    Team 5       95        1.104651         0.084211   0.437726   0.093023\n",
       "1    Team 2       95        1.104651         0.263158   0.572411   0.290698\n",
       "53  Team 54       95       31.666667         0.000000   0.333333   0.000000\n",
       "51  Team 52       95       23.750000         0.000000   0.291667   0.000000"
      ]
     },
     "execution_count": 55,
     "metadata": {},
     "output_type": "execute_result"
    }
   ],
   "source": [
    "df_5 = df_1.sort_values(by='TeamExperience',ascending=False) # Top performing teams\n",
    "print('TOP OLD TEAMS: TABLE B')\n",
    "df_5.sort_values(by='TeamAge',ascending=False).head(5) "
   ]
  },
  {
   "cell_type": "markdown",
   "id": "96b62684",
   "metadata": {},
   "source": [
    "### If Top Performing old teams above are already in contract with competitors then below Young Teams Can be approached"
   ]
  },
  {
   "cell_type": "code",
   "execution_count": 56,
   "id": "bc526684",
   "metadata": {},
   "outputs": [
    {
     "name": "stdout",
     "output_type": "stream",
     "text": [
      "Top Young Teams: TABLE A\n"
     ]
    },
    {
     "data": {
      "text/html": [
       "<div>\n",
       "<style scoped>\n",
       "    .dataframe tbody tr th:only-of-type {\n",
       "        vertical-align: middle;\n",
       "    }\n",
       "\n",
       "    .dataframe tbody tr th {\n",
       "        vertical-align: top;\n",
       "    }\n",
       "\n",
       "    .dataframe thead th {\n",
       "        text-align: right;\n",
       "    }\n",
       "</style>\n",
       "<table border=\"1\" class=\"dataframe\">\n",
       "  <thead>\n",
       "    <tr style=\"text-align: right;\">\n",
       "      <th></th>\n",
       "      <th>Team</th>\n",
       "      <th>TeamAge</th>\n",
       "      <th>TeamExperience</th>\n",
       "      <th>TeamPerformance</th>\n",
       "      <th>WinResult</th>\n",
       "      <th>Champions</th>\n",
       "    </tr>\n",
       "  </thead>\n",
       "  <tbody>\n",
       "    <tr>\n",
       "      <th>55</th>\n",
       "      <td>Team 56</td>\n",
       "      <td>8</td>\n",
       "      <td>8.000000</td>\n",
       "      <td>0.0</td>\n",
       "      <td>0.210526</td>\n",
       "      <td>0.0</td>\n",
       "    </tr>\n",
       "    <tr>\n",
       "      <th>43</th>\n",
       "      <td>Team 44</td>\n",
       "      <td>10</td>\n",
       "      <td>3.333333</td>\n",
       "      <td>0.0</td>\n",
       "      <td>0.307018</td>\n",
       "      <td>0.0</td>\n",
       "    </tr>\n",
       "    <tr>\n",
       "      <th>56</th>\n",
       "      <td>Team 57</td>\n",
       "      <td>15</td>\n",
       "      <td>15.000000</td>\n",
       "      <td>0.0</td>\n",
       "      <td>0.210526</td>\n",
       "      <td>0.0</td>\n",
       "    </tr>\n",
       "    <tr>\n",
       "      <th>36</th>\n",
       "      <td>Team 37</td>\n",
       "      <td>17</td>\n",
       "      <td>2.833333</td>\n",
       "      <td>0.0</td>\n",
       "      <td>0.271930</td>\n",
       "      <td>0.0</td>\n",
       "    </tr>\n",
       "    <tr>\n",
       "      <th>24</th>\n",
       "      <td>Team 25</td>\n",
       "      <td>20</td>\n",
       "      <td>1.666667</td>\n",
       "      <td>0.0</td>\n",
       "      <td>0.322368</td>\n",
       "      <td>0.0</td>\n",
       "    </tr>\n",
       "  </tbody>\n",
       "</table>\n",
       "</div>"
      ],
      "text/plain": [
       "       Team  TeamAge  TeamExperience  TeamPerformance  WinResult  Champions\n",
       "55  Team 56        8        8.000000              0.0   0.210526        0.0\n",
       "43  Team 44       10        3.333333              0.0   0.307018        0.0\n",
       "56  Team 57       15       15.000000              0.0   0.210526        0.0\n",
       "36  Team 37       17        2.833333              0.0   0.271930        0.0\n",
       "24  Team 25       20        1.666667              0.0   0.322368        0.0"
      ]
     },
     "execution_count": 56,
     "metadata": {},
     "output_type": "execute_result"
    }
   ],
   "source": [
    "df_4 = df_1.sort_values(by='WinResult',ascending=True) # Top performing teams\n",
    "print('Top Young Teams: TABLE A')\n",
    "df_4.dropna().sort_values(by='TeamAge', ascending=True).head(5)"
   ]
  },
  {
   "cell_type": "code",
   "execution_count": 57,
   "id": "0b29d9b0",
   "metadata": {},
   "outputs": [
    {
     "name": "stdout",
     "output_type": "stream",
     "text": [
      "Top Young Teams: TABLE B\n"
     ]
    },
    {
     "data": {
      "text/html": [
       "<div>\n",
       "<style scoped>\n",
       "    .dataframe tbody tr th:only-of-type {\n",
       "        vertical-align: middle;\n",
       "    }\n",
       "\n",
       "    .dataframe tbody tr th {\n",
       "        vertical-align: top;\n",
       "    }\n",
       "\n",
       "    .dataframe thead th {\n",
       "        text-align: right;\n",
       "    }\n",
       "</style>\n",
       "<table border=\"1\" class=\"dataframe\">\n",
       "  <thead>\n",
       "    <tr style=\"text-align: right;\">\n",
       "      <th></th>\n",
       "      <th>Team</th>\n",
       "      <th>TeamAge</th>\n",
       "      <th>TeamExperience</th>\n",
       "      <th>TeamPerformance</th>\n",
       "      <th>WinResult</th>\n",
       "      <th>Champions</th>\n",
       "    </tr>\n",
       "  </thead>\n",
       "  <tbody>\n",
       "    <tr>\n",
       "      <th>55</th>\n",
       "      <td>Team 56</td>\n",
       "      <td>8</td>\n",
       "      <td>8.000000</td>\n",
       "      <td>0.0</td>\n",
       "      <td>0.210526</td>\n",
       "      <td>0.0</td>\n",
       "    </tr>\n",
       "    <tr>\n",
       "      <th>43</th>\n",
       "      <td>Team 44</td>\n",
       "      <td>10</td>\n",
       "      <td>3.333333</td>\n",
       "      <td>0.0</td>\n",
       "      <td>0.307018</td>\n",
       "      <td>0.0</td>\n",
       "    </tr>\n",
       "    <tr>\n",
       "      <th>56</th>\n",
       "      <td>Team 57</td>\n",
       "      <td>15</td>\n",
       "      <td>15.000000</td>\n",
       "      <td>0.0</td>\n",
       "      <td>0.210526</td>\n",
       "      <td>0.0</td>\n",
       "    </tr>\n",
       "    <tr>\n",
       "      <th>36</th>\n",
       "      <td>Team 37</td>\n",
       "      <td>17</td>\n",
       "      <td>2.833333</td>\n",
       "      <td>0.0</td>\n",
       "      <td>0.271930</td>\n",
       "      <td>0.0</td>\n",
       "    </tr>\n",
       "    <tr>\n",
       "      <th>24</th>\n",
       "      <td>Team 25</td>\n",
       "      <td>20</td>\n",
       "      <td>1.666667</td>\n",
       "      <td>0.0</td>\n",
       "      <td>0.322368</td>\n",
       "      <td>0.0</td>\n",
       "    </tr>\n",
       "  </tbody>\n",
       "</table>\n",
       "</div>"
      ],
      "text/plain": [
       "       Team  TeamAge  TeamExperience  TeamPerformance  WinResult  Champions\n",
       "55  Team 56        8        8.000000              0.0   0.210526        0.0\n",
       "43  Team 44       10        3.333333              0.0   0.307018        0.0\n",
       "56  Team 57       15       15.000000              0.0   0.210526        0.0\n",
       "36  Team 37       17        2.833333              0.0   0.271930        0.0\n",
       "24  Team 25       20        1.666667              0.0   0.322368        0.0"
      ]
     },
     "execution_count": 57,
     "metadata": {},
     "output_type": "execute_result"
    }
   ],
   "source": [
    "print('Top Young Teams: TABLE B')\n",
    "df_5.dropna().sort_values(by='TeamAge', ascending=True).head(5)"
   ]
  },
  {
   "cell_type": "markdown",
   "id": "b0b5a40e",
   "metadata": {},
   "source": [
    "### Following are improvements or suggestions to the association management on quality, quantity, variety, velocity, veracity etc. on the data points collected by the association to perform a better data analysis in future.\n"
   ]
  },
  {
   "cell_type": "markdown",
   "id": "809bc405",
   "metadata": {},
   "source": [
    "### The asssociation management should gather the following additional data points which are critical to making any important business decision:\n",
    "\n",
    "##### Teams which are already in contract with competitors\n",
    "##### The year for which the decision is to be made (assumed 2024 here)\n",
    "##### Top players of each team\n",
    "##### Maturity of the team needed by business - young team vs old team (signifying user relationship -  eg. brand that targets stability or is a new disruptor in the market)\n",
    "##### Basic data hygene issues such as avoiding non numeric values to represent any numbers (like ~, to, etc.)."
   ]
  },
  {
   "cell_type": "markdown",
   "id": "ede608d0",
   "metadata": {},
   "source": [
    "## Part C"
   ]
  },
  {
   "cell_type": "code",
   "execution_count": 58,
   "id": "51bd260b",
   "metadata": {},
   "outputs": [],
   "source": [
    "#import all required libraries\n",
    "\n",
    "import numpy as np\n",
    "import pandas as pd\n",
    "import matplotlib.pyplot as plt\n",
    "import seaborn as sns\n",
    "%matplotlib inline"
   ]
  },
  {
   "cell_type": "code",
   "execution_count": 59,
   "id": "fef99483",
   "metadata": {},
   "outputs": [],
   "source": [
    "#load the dataset\n",
    "data2raw = pd.read_csv('DS+-+Part3+-+CompanyX_EU.csv')"
   ]
  },
  {
   "cell_type": "markdown",
   "id": "bdc82633",
   "metadata": {},
   "source": [
    "### Explore the Data"
   ]
  },
  {
   "cell_type": "code",
   "execution_count": 60,
   "id": "0a129a0c",
   "metadata": {},
   "outputs": [
    {
     "name": "stdout",
     "output_type": "stream",
     "text": [
      "<class 'pandas.core.frame.DataFrame'>\n",
      "RangeIndex: 662 entries, 0 to 661\n",
      "Data columns (total 6 columns):\n",
      " #   Column          Non-Null Count  Dtype \n",
      "---  ------          --------------  ----- \n",
      " 0   Startup         662 non-null    object\n",
      " 1   Product         656 non-null    object\n",
      " 2   Funding         448 non-null    object\n",
      " 3   Event           662 non-null    object\n",
      " 4   Result          662 non-null    object\n",
      " 5   OperatingState  662 non-null    object\n",
      "dtypes: object(6)\n",
      "memory usage: 31.2+ KB\n"
     ]
    }
   ],
   "source": [
    "data2raw.info()"
   ]
  },
  {
   "cell_type": "code",
   "execution_count": 61,
   "id": "11d86f64",
   "metadata": {},
   "outputs": [
    {
     "data": {
      "text/html": [
       "<div>\n",
       "<style scoped>\n",
       "    .dataframe tbody tr th:only-of-type {\n",
       "        vertical-align: middle;\n",
       "    }\n",
       "\n",
       "    .dataframe tbody tr th {\n",
       "        vertical-align: top;\n",
       "    }\n",
       "\n",
       "    .dataframe thead th {\n",
       "        text-align: right;\n",
       "    }\n",
       "</style>\n",
       "<table border=\"1\" class=\"dataframe\">\n",
       "  <thead>\n",
       "    <tr style=\"text-align: right;\">\n",
       "      <th></th>\n",
       "      <th>Startup</th>\n",
       "      <th>Product</th>\n",
       "      <th>Funding</th>\n",
       "      <th>Event</th>\n",
       "      <th>Result</th>\n",
       "      <th>OperatingState</th>\n",
       "    </tr>\n",
       "  </thead>\n",
       "  <tbody>\n",
       "    <tr>\n",
       "      <th>0</th>\n",
       "      <td>2600Hz</td>\n",
       "      <td>2600hz.com</td>\n",
       "      <td>NaN</td>\n",
       "      <td>Disrupt SF 2013</td>\n",
       "      <td>Contestant</td>\n",
       "      <td>Operating</td>\n",
       "    </tr>\n",
       "    <tr>\n",
       "      <th>1</th>\n",
       "      <td>3DLT</td>\n",
       "      <td>3dlt.com</td>\n",
       "      <td>$630K</td>\n",
       "      <td>Disrupt NYC 2013</td>\n",
       "      <td>Contestant</td>\n",
       "      <td>Closed</td>\n",
       "    </tr>\n",
       "    <tr>\n",
       "      <th>2</th>\n",
       "      <td>3DPrinterOS</td>\n",
       "      <td>3dprinteros.com</td>\n",
       "      <td>NaN</td>\n",
       "      <td>Disrupt SF 2016</td>\n",
       "      <td>Contestant</td>\n",
       "      <td>Operating</td>\n",
       "    </tr>\n",
       "    <tr>\n",
       "      <th>3</th>\n",
       "      <td>3Dprintler</td>\n",
       "      <td>3dprintler.com</td>\n",
       "      <td>$1M</td>\n",
       "      <td>Disrupt NY 2016</td>\n",
       "      <td>Audience choice</td>\n",
       "      <td>Operating</td>\n",
       "    </tr>\n",
       "    <tr>\n",
       "      <th>4</th>\n",
       "      <td>42 Technologies</td>\n",
       "      <td>42technologies.com</td>\n",
       "      <td>NaN</td>\n",
       "      <td>Disrupt NYC 2013</td>\n",
       "      <td>Contestant</td>\n",
       "      <td>Operating</td>\n",
       "    </tr>\n",
       "  </tbody>\n",
       "</table>\n",
       "</div>"
      ],
      "text/plain": [
       "           Startup             Product Funding             Event  \\\n",
       "0           2600Hz          2600hz.com     NaN   Disrupt SF 2013   \n",
       "1             3DLT            3dlt.com   $630K  Disrupt NYC 2013   \n",
       "2      3DPrinterOS     3dprinteros.com     NaN   Disrupt SF 2016   \n",
       "3       3Dprintler      3dprintler.com     $1M   Disrupt NY 2016   \n",
       "4  42 Technologies  42technologies.com     NaN  Disrupt NYC 2013   \n",
       "\n",
       "            Result OperatingState  \n",
       "0       Contestant      Operating  \n",
       "1       Contestant         Closed  \n",
       "2       Contestant      Operating  \n",
       "3  Audience choice      Operating  \n",
       "4       Contestant      Operating  "
      ]
     },
     "execution_count": 61,
     "metadata": {},
     "output_type": "execute_result"
    }
   ],
   "source": [
    "data2raw.head(5)"
   ]
  },
  {
   "cell_type": "code",
   "execution_count": 62,
   "id": "c370b521",
   "metadata": {},
   "outputs": [
    {
     "data": {
      "text/plain": [
       "0"
      ]
     },
     "execution_count": 62,
     "metadata": {},
     "output_type": "execute_result"
    }
   ],
   "source": [
    "#Check duplicates\n",
    "dupes = data2raw.duplicated()\n",
    "sum(dupes)"
   ]
  },
  {
   "cell_type": "markdown",
   "id": "dc40607b",
   "metadata": {},
   "source": [
    "### No Duplicates"
   ]
  },
  {
   "cell_type": "code",
   "execution_count": 63,
   "id": "f5ee73ec",
   "metadata": {},
   "outputs": [
    {
     "data": {
      "text/plain": [
       "214"
      ]
     },
     "execution_count": 63,
     "metadata": {},
     "output_type": "execute_result"
    }
   ],
   "source": [
    "## Check for null funding elements\n",
    "EmptyFunding = pd.isnull(data2raw['Funding'])\n",
    "sum(EmptyFunding)"
   ]
  },
  {
   "cell_type": "code",
   "execution_count": 64,
   "id": "38dc5b85",
   "metadata": {},
   "outputs": [
    {
     "data": {
      "text/plain": [
       "0"
      ]
     },
     "execution_count": 64,
     "metadata": {},
     "output_type": "execute_result"
    }
   ],
   "source": [
    "## Total 214 rows with empty funding values\n",
    "## drop empty fundung rows\n",
    "data2cleaned = data2raw[data2raw['Funding'].notna()]\n",
    "\n",
    "## Check if any empty funding calues present in formatted one\n",
    "EmptyFunding = pd.isnull(data2cleaned['Funding'])\n",
    "sum(EmptyFunding)"
   ]
  },
  {
   "cell_type": "code",
   "execution_count": 65,
   "id": "430084d3",
   "metadata": {},
   "outputs": [
    {
     "name": "stdout",
     "output_type": "stream",
     "text": [
      "<class 'pandas.core.frame.DataFrame'>\n",
      "Index: 448 entries, 1 to 661\n",
      "Data columns (total 6 columns):\n",
      " #   Column          Non-Null Count  Dtype \n",
      "---  ------          --------------  ----- \n",
      " 0   Startup         448 non-null    object\n",
      " 1   Product         446 non-null    object\n",
      " 2   Funding         448 non-null    object\n",
      " 3   Event           448 non-null    object\n",
      " 4   Result          448 non-null    object\n",
      " 5   OperatingState  448 non-null    object\n",
      "dtypes: object(6)\n",
      "memory usage: 24.5+ KB\n"
     ]
    }
   ],
   "source": [
    "data2cleaned.info()"
   ]
  },
  {
   "cell_type": "code",
   "execution_count": 66,
   "id": "d9c5aae7",
   "metadata": {},
   "outputs": [
    {
     "data": {
      "text/html": [
       "<div>\n",
       "<style scoped>\n",
       "    .dataframe tbody tr th:only-of-type {\n",
       "        vertical-align: middle;\n",
       "    }\n",
       "\n",
       "    .dataframe tbody tr th {\n",
       "        vertical-align: top;\n",
       "    }\n",
       "\n",
       "    .dataframe thead th {\n",
       "        text-align: right;\n",
       "    }\n",
       "</style>\n",
       "<table border=\"1\" class=\"dataframe\">\n",
       "  <thead>\n",
       "    <tr style=\"text-align: right;\">\n",
       "      <th></th>\n",
       "      <th>Startup</th>\n",
       "      <th>Product</th>\n",
       "      <th>Funding</th>\n",
       "      <th>Event</th>\n",
       "      <th>Result</th>\n",
       "      <th>OperatingState</th>\n",
       "    </tr>\n",
       "  </thead>\n",
       "  <tbody>\n",
       "    <tr>\n",
       "      <th>1</th>\n",
       "      <td>3DLT</td>\n",
       "      <td>3dlt.com</td>\n",
       "      <td>$630K</td>\n",
       "      <td>Disrupt NYC 2013</td>\n",
       "      <td>Contestant</td>\n",
       "      <td>Closed</td>\n",
       "    </tr>\n",
       "    <tr>\n",
       "      <th>3</th>\n",
       "      <td>3Dprintler</td>\n",
       "      <td>3dprintler.com</td>\n",
       "      <td>$1M</td>\n",
       "      <td>Disrupt NY 2016</td>\n",
       "      <td>Audience choice</td>\n",
       "      <td>Operating</td>\n",
       "    </tr>\n",
       "    <tr>\n",
       "      <th>5</th>\n",
       "      <td>5to1</td>\n",
       "      <td>5to1.com</td>\n",
       "      <td>$19.3M</td>\n",
       "      <td>TC50 2009</td>\n",
       "      <td>Contestant</td>\n",
       "      <td>Acquired</td>\n",
       "    </tr>\n",
       "    <tr>\n",
       "      <th>6</th>\n",
       "      <td>8 Securities</td>\n",
       "      <td>8securities.com</td>\n",
       "      <td>$29M</td>\n",
       "      <td>Disrupt Beijing 2011</td>\n",
       "      <td>Finalist</td>\n",
       "      <td>Operating</td>\n",
       "    </tr>\n",
       "    <tr>\n",
       "      <th>10</th>\n",
       "      <td>AdhereTech</td>\n",
       "      <td>adheretech.com</td>\n",
       "      <td>$1.8M</td>\n",
       "      <td>Hardware Battlefield 2014</td>\n",
       "      <td>Contestant</td>\n",
       "      <td>Operating</td>\n",
       "    </tr>\n",
       "  </tbody>\n",
       "</table>\n",
       "</div>"
      ],
      "text/plain": [
       "         Startup          Product Funding                      Event  \\\n",
       "1           3DLT         3dlt.com   $630K           Disrupt NYC 2013   \n",
       "3     3Dprintler   3dprintler.com     $1M            Disrupt NY 2016   \n",
       "5           5to1         5to1.com  $19.3M                  TC50 2009   \n",
       "6   8 Securities  8securities.com    $29M       Disrupt Beijing 2011   \n",
       "10    AdhereTech   adheretech.com   $1.8M  Hardware Battlefield 2014   \n",
       "\n",
       "             Result OperatingState  \n",
       "1        Contestant         Closed  \n",
       "3   Audience choice      Operating  \n",
       "5        Contestant       Acquired  \n",
       "6          Finalist      Operating  \n",
       "10       Contestant      Operating  "
      ]
     },
     "execution_count": 66,
     "metadata": {},
     "output_type": "execute_result"
    }
   ],
   "source": [
    "data2cleaned.head()"
   ]
  },
  {
   "cell_type": "code",
   "execution_count": 67,
   "id": "ad416b8c",
   "metadata": {},
   "outputs": [
    {
     "data": {
      "text/plain": [
       "<function __main__.<lambda>(x)>"
      ]
     },
     "execution_count": 67,
     "metadata": {},
     "output_type": "execute_result"
    }
   ],
   "source": [
    "## Lamda function handy to identy the the type of the variable passed\n",
    "lambda x: type(x).__name__"
   ]
  },
  {
   "cell_type": "code",
   "execution_count": 68,
   "id": "60e4fa81",
   "metadata": {},
   "outputs": [
    {
     "data": {
      "text/plain": [
       "Funding\n",
       "<class 'str'>    448\n",
       "Name: count, dtype: int64"
      ]
     },
     "execution_count": 68,
     "metadata": {},
     "output_type": "execute_result"
    }
   ],
   "source": [
    "data2cleanedcpy = data2cleaned.copy()\n",
    "data2cleaned['Funding'].apply(type).value_counts()"
   ]
  },
  {
   "cell_type": "code",
   "execution_count": 69,
   "id": "7302b5e9",
   "metadata": {},
   "outputs": [
    {
     "name": "stderr",
     "output_type": "stream",
     "text": [
      "/var/folders/bb/thn7h7k95qdf2qgdz0p9kqf00000gn/T/ipykernel_22616/3049946744.py:11: SettingWithCopyWarning: \n",
      "A value is trying to be set on a copy of a slice from a DataFrame.\n",
      "Try using .loc[row_indexer,col_indexer] = value instead\n",
      "\n",
      "See the caveats in the documentation: https://pandas.pydata.org/pandas-docs/stable/user_guide/indexing.html#returning-a-view-versus-a-copy\n",
      "  data2cleaned['Funding'] = data2cleaned['Funding'].apply(clean_currency)\n"
     ]
    }
   ],
   "source": [
    "## All the currency values are of type string based on above output\n",
    "## Need to get rid of $ at the beginning of the string. Write a function for the same\n",
    "def clean_currency(x):\n",
    "    \"\"\" If the value is a string, then remove currency symbol and delimiters\n",
    "    otherwise, the value is numeric and can be converted\n",
    "    \"\"\"\n",
    "    if isinstance(x, str):\n",
    "        return(x.replace('$', '').replace(',', ''))\n",
    "    return(x)\n",
    "\n",
    "data2cleaned['Funding'] = data2cleaned['Funding'].apply(clean_currency)"
   ]
  },
  {
   "cell_type": "code",
   "execution_count": 70,
   "id": "a905dd2b",
   "metadata": {},
   "outputs": [
    {
     "data": {
      "text/html": [
       "<div>\n",
       "<style scoped>\n",
       "    .dataframe tbody tr th:only-of-type {\n",
       "        vertical-align: middle;\n",
       "    }\n",
       "\n",
       "    .dataframe tbody tr th {\n",
       "        vertical-align: top;\n",
       "    }\n",
       "\n",
       "    .dataframe thead th {\n",
       "        text-align: right;\n",
       "    }\n",
       "</style>\n",
       "<table border=\"1\" class=\"dataframe\">\n",
       "  <thead>\n",
       "    <tr style=\"text-align: right;\">\n",
       "      <th></th>\n",
       "      <th>Startup</th>\n",
       "      <th>Product</th>\n",
       "      <th>Funding</th>\n",
       "      <th>Event</th>\n",
       "      <th>Result</th>\n",
       "      <th>OperatingState</th>\n",
       "    </tr>\n",
       "  </thead>\n",
       "  <tbody>\n",
       "    <tr>\n",
       "      <th>1</th>\n",
       "      <td>3DLT</td>\n",
       "      <td>3dlt.com</td>\n",
       "      <td>630K</td>\n",
       "      <td>Disrupt NYC 2013</td>\n",
       "      <td>Contestant</td>\n",
       "      <td>Closed</td>\n",
       "    </tr>\n",
       "    <tr>\n",
       "      <th>3</th>\n",
       "      <td>3Dprintler</td>\n",
       "      <td>3dprintler.com</td>\n",
       "      <td>1M</td>\n",
       "      <td>Disrupt NY 2016</td>\n",
       "      <td>Audience choice</td>\n",
       "      <td>Operating</td>\n",
       "    </tr>\n",
       "    <tr>\n",
       "      <th>5</th>\n",
       "      <td>5to1</td>\n",
       "      <td>5to1.com</td>\n",
       "      <td>19.3M</td>\n",
       "      <td>TC50 2009</td>\n",
       "      <td>Contestant</td>\n",
       "      <td>Acquired</td>\n",
       "    </tr>\n",
       "    <tr>\n",
       "      <th>6</th>\n",
       "      <td>8 Securities</td>\n",
       "      <td>8securities.com</td>\n",
       "      <td>29M</td>\n",
       "      <td>Disrupt Beijing 2011</td>\n",
       "      <td>Finalist</td>\n",
       "      <td>Operating</td>\n",
       "    </tr>\n",
       "    <tr>\n",
       "      <th>10</th>\n",
       "      <td>AdhereTech</td>\n",
       "      <td>adheretech.com</td>\n",
       "      <td>1.8M</td>\n",
       "      <td>Hardware Battlefield 2014</td>\n",
       "      <td>Contestant</td>\n",
       "      <td>Operating</td>\n",
       "    </tr>\n",
       "    <tr>\n",
       "      <th>11</th>\n",
       "      <td>AdRocket</td>\n",
       "      <td>adrocket.com</td>\n",
       "      <td>1M</td>\n",
       "      <td>TC50 2008</td>\n",
       "      <td>Contestant</td>\n",
       "      <td>Closed</td>\n",
       "    </tr>\n",
       "    <tr>\n",
       "      <th>13</th>\n",
       "      <td>Agrilyst</td>\n",
       "      <td>agrilyst.com</td>\n",
       "      <td>1M</td>\n",
       "      <td>Disrupt SF 2015</td>\n",
       "      <td>Winner</td>\n",
       "      <td>Operating</td>\n",
       "    </tr>\n",
       "    <tr>\n",
       "      <th>14</th>\n",
       "      <td>Aiden</td>\n",
       "      <td>aiden.ai</td>\n",
       "      <td>750K</td>\n",
       "      <td>Disrupt London 2016</td>\n",
       "      <td>Contestant</td>\n",
       "      <td>Operating</td>\n",
       "    </tr>\n",
       "    <tr>\n",
       "      <th>15</th>\n",
       "      <td>AirBoxLab</td>\n",
       "      <td>foobot.io</td>\n",
       "      <td>17.9K</td>\n",
       "      <td>Hardware Battlefield 2014</td>\n",
       "      <td>Contestant</td>\n",
       "      <td>Operating</td>\n",
       "    </tr>\n",
       "    <tr>\n",
       "      <th>16</th>\n",
       "      <td>Aircall</td>\n",
       "      <td>aircall.io</td>\n",
       "      <td>11.6M</td>\n",
       "      <td>Disrupt SF 2015</td>\n",
       "      <td>Contestant</td>\n",
       "      <td>Operating</td>\n",
       "    </tr>\n",
       "    <tr>\n",
       "      <th>17</th>\n",
       "      <td>AirDroids</td>\n",
       "      <td>airdroids.com</td>\n",
       "      <td>929.2K</td>\n",
       "      <td>Hardware Battlefield 2014</td>\n",
       "      <td>Contestant</td>\n",
       "      <td>Closed</td>\n",
       "    </tr>\n",
       "    <tr>\n",
       "      <th>18</th>\n",
       "      <td>AirHelp</td>\n",
       "      <td>airhelp.com</td>\n",
       "      <td>12.2M</td>\n",
       "      <td>Disrupt NYC 2014</td>\n",
       "      <td>Contestant</td>\n",
       "      <td>Operating</td>\n",
       "    </tr>\n",
       "    <tr>\n",
       "      <th>20</th>\n",
       "      <td>Akoha</td>\n",
       "      <td>akoha.com</td>\n",
       "      <td>1.9M</td>\n",
       "      <td>TC50 2008</td>\n",
       "      <td>Contestant</td>\n",
       "      <td>Closed</td>\n",
       "    </tr>\n",
       "    <tr>\n",
       "      <th>22</th>\n",
       "      <td>Alicanto</td>\n",
       "      <td>alicanto.com</td>\n",
       "      <td>4M</td>\n",
       "      <td>Disrupt SF 2012</td>\n",
       "      <td>Contestant</td>\n",
       "      <td>Operating</td>\n",
       "    </tr>\n",
       "    <tr>\n",
       "      <th>27</th>\n",
       "      <td>Amen.</td>\n",
       "      <td>getamen.com</td>\n",
       "      <td>3M</td>\n",
       "      <td>Disrupt SF 2011</td>\n",
       "      <td>Contestant</td>\n",
       "      <td>Acquired</td>\n",
       "    </tr>\n",
       "    <tr>\n",
       "      <th>28</th>\n",
       "      <td>Angstro</td>\n",
       "      <td>angst.ro</td>\n",
       "      <td>225K</td>\n",
       "      <td>TC50 2008</td>\n",
       "      <td>Contestant</td>\n",
       "      <td>Acquired</td>\n",
       "    </tr>\n",
       "    <tr>\n",
       "      <th>31</th>\n",
       "      <td>Anyclip</td>\n",
       "      <td>anyclip.com</td>\n",
       "      <td>24M</td>\n",
       "      <td>TC50 2009</td>\n",
       "      <td>Finalist</td>\n",
       "      <td>Operating</td>\n",
       "    </tr>\n",
       "    <tr>\n",
       "      <th>32</th>\n",
       "      <td>App2you</td>\n",
       "      <td>app2you.com</td>\n",
       "      <td>746K</td>\n",
       "      <td>TC40 2007</td>\n",
       "      <td>Contestant</td>\n",
       "      <td>Operating</td>\n",
       "    </tr>\n",
       "    <tr>\n",
       "      <th>34</th>\n",
       "      <td>Appbistro</td>\n",
       "      <td>appbistro.com</td>\n",
       "      <td>600K</td>\n",
       "      <td>Disrupt NYC 2010</td>\n",
       "      <td>Contestant</td>\n",
       "      <td>Closed</td>\n",
       "    </tr>\n",
       "    <tr>\n",
       "      <th>35</th>\n",
       "      <td>AppChina</td>\n",
       "      <td>appchina.com</td>\n",
       "      <td>7.1M</td>\n",
       "      <td>Disrupt Beijing 2011</td>\n",
       "      <td>Contestant</td>\n",
       "      <td>Operating</td>\n",
       "    </tr>\n",
       "  </tbody>\n",
       "</table>\n",
       "</div>"
      ],
      "text/plain": [
       "         Startup          Product Funding                      Event  \\\n",
       "1           3DLT         3dlt.com    630K           Disrupt NYC 2013   \n",
       "3     3Dprintler   3dprintler.com      1M            Disrupt NY 2016   \n",
       "5           5to1         5to1.com   19.3M                  TC50 2009   \n",
       "6   8 Securities  8securities.com     29M       Disrupt Beijing 2011   \n",
       "10    AdhereTech   adheretech.com    1.8M  Hardware Battlefield 2014   \n",
       "11      AdRocket     adrocket.com      1M                  TC50 2008   \n",
       "13      Agrilyst     agrilyst.com      1M            Disrupt SF 2015   \n",
       "14         Aiden         aiden.ai    750K        Disrupt London 2016   \n",
       "15     AirBoxLab        foobot.io   17.9K  Hardware Battlefield 2014   \n",
       "16       Aircall       aircall.io   11.6M            Disrupt SF 2015   \n",
       "17     AirDroids    airdroids.com  929.2K  Hardware Battlefield 2014   \n",
       "18       AirHelp      airhelp.com   12.2M           Disrupt NYC 2014   \n",
       "20         Akoha        akoha.com    1.9M                  TC50 2008   \n",
       "22      Alicanto     alicanto.com      4M            Disrupt SF 2012   \n",
       "27         Amen.      getamen.com      3M            Disrupt SF 2011   \n",
       "28       Angstro         angst.ro    225K                  TC50 2008   \n",
       "31       Anyclip      anyclip.com     24M                  TC50 2009   \n",
       "32       App2you      app2you.com    746K                  TC40 2007   \n",
       "34     Appbistro    appbistro.com    600K           Disrupt NYC 2010   \n",
       "35      AppChina     appchina.com    7.1M       Disrupt Beijing 2011   \n",
       "\n",
       "             Result OperatingState  \n",
       "1        Contestant         Closed  \n",
       "3   Audience choice      Operating  \n",
       "5        Contestant       Acquired  \n",
       "6          Finalist      Operating  \n",
       "10       Contestant      Operating  \n",
       "11       Contestant         Closed  \n",
       "13           Winner      Operating  \n",
       "14       Contestant      Operating  \n",
       "15       Contestant      Operating  \n",
       "16       Contestant      Operating  \n",
       "17       Contestant         Closed  \n",
       "18       Contestant      Operating  \n",
       "20       Contestant         Closed  \n",
       "22       Contestant      Operating  \n",
       "27       Contestant       Acquired  \n",
       "28       Contestant       Acquired  \n",
       "31         Finalist      Operating  \n",
       "32       Contestant      Operating  \n",
       "34       Contestant         Closed  \n",
       "35       Contestant      Operating  "
      ]
     },
     "execution_count": 70,
     "metadata": {},
     "output_type": "execute_result"
    }
   ],
   "source": [
    "data2cleaned.head(20)"
   ]
  },
  {
   "cell_type": "code",
   "execution_count": 71,
   "id": "f1904c1e",
   "metadata": {},
   "outputs": [
    {
     "name": "stderr",
     "output_type": "stream",
     "text": [
      "/var/folders/bb/thn7h7k95qdf2qgdz0p9kqf00000gn/T/ipykernel_22616/1879672793.py:22: SettingWithCopyWarning: \n",
      "A value is trying to be set on a copy of a slice from a DataFrame.\n",
      "Try using .loc[row_indexer,col_indexer] = value instead\n",
      "\n",
      "See the caveats in the documentation: https://pandas.pydata.org/pandas-docs/stable/user_guide/indexing.html#returning-a-view-versus-a-copy\n",
      "  data2cleaned['Funding'] = data2cleaned['Funding'].apply(value_to_float)\n"
     ]
    }
   ],
   "source": [
    "## All the currency values are of type string\n",
    "## Need to convert into numerical by removing K and M by applying right multification factor\n",
    "\n",
    "## This function takes a value as x and if it is string, it will convert to float by multiplying with \n",
    "## right factor (1000 for K, 1000000 for M and so on)\n",
    "def value_to_float(x):\n",
    "    if type(x) == float or type(x) == int:\n",
    "        return x\n",
    "    if 'K' in x:\n",
    "        if len(x) > 1:\n",
    "            return float(x.replace('K', '')) * 1000\n",
    "        return 1000\n",
    "    if 'M' in x:\n",
    "        if len(x) > 1:\n",
    "            return float(x.replace('M', '')) * 1000000\n",
    "        return 1000000\n",
    "    if 'B' in x:\n",
    "        return float(x.replace('B', '')) * 1000000000\n",
    "    return 0\n",
    "\n",
    "## Apply function to all values of column 'Funding'\n",
    "data2cleaned['Funding'] = data2cleaned['Funding'].apply(value_to_float)"
   ]
  },
  {
   "cell_type": "code",
   "execution_count": 72,
   "id": "f49c7f01",
   "metadata": {},
   "outputs": [
    {
     "data": {
      "text/html": [
       "<div>\n",
       "<style scoped>\n",
       "    .dataframe tbody tr th:only-of-type {\n",
       "        vertical-align: middle;\n",
       "    }\n",
       "\n",
       "    .dataframe tbody tr th {\n",
       "        vertical-align: top;\n",
       "    }\n",
       "\n",
       "    .dataframe thead th {\n",
       "        text-align: right;\n",
       "    }\n",
       "</style>\n",
       "<table border=\"1\" class=\"dataframe\">\n",
       "  <thead>\n",
       "    <tr style=\"text-align: right;\">\n",
       "      <th></th>\n",
       "      <th>Startup</th>\n",
       "      <th>Product</th>\n",
       "      <th>Funding</th>\n",
       "      <th>Event</th>\n",
       "      <th>Result</th>\n",
       "      <th>OperatingState</th>\n",
       "    </tr>\n",
       "  </thead>\n",
       "  <tbody>\n",
       "    <tr>\n",
       "      <th>629</th>\n",
       "      <td>WaterO</td>\n",
       "      <td>wateropurifier.com</td>\n",
       "      <td>85700.0</td>\n",
       "      <td>Disrupt NY 2016</td>\n",
       "      <td>Runner up</td>\n",
       "      <td>Operating</td>\n",
       "    </tr>\n",
       "    <tr>\n",
       "      <th>630</th>\n",
       "      <td>WAZER</td>\n",
       "      <td>wazer.com</td>\n",
       "      <td>1400000.0</td>\n",
       "      <td>Disrupt SF 2016</td>\n",
       "      <td>Contestant</td>\n",
       "      <td>Operating</td>\n",
       "    </tr>\n",
       "    <tr>\n",
       "      <th>631</th>\n",
       "      <td>WEconnect</td>\n",
       "      <td>weconnectrecovery.com</td>\n",
       "      <td>2100000.0</td>\n",
       "      <td>Disrupt SF 2016</td>\n",
       "      <td>Audience choice</td>\n",
       "      <td>Operating</td>\n",
       "    </tr>\n",
       "    <tr>\n",
       "      <th>632</th>\n",
       "      <td>WeDemand</td>\n",
       "      <td>wedemand.com</td>\n",
       "      <td>1000000.0</td>\n",
       "      <td>Disrupt SF 2012</td>\n",
       "      <td>Contestant</td>\n",
       "      <td>Operating</td>\n",
       "    </tr>\n",
       "    <tr>\n",
       "      <th>633</th>\n",
       "      <td>Wellth</td>\n",
       "      <td>wellthapp.com</td>\n",
       "      <td>2500000.0</td>\n",
       "      <td>Disrupt NY 2015</td>\n",
       "      <td>Contestant</td>\n",
       "      <td>Operating</td>\n",
       "    </tr>\n",
       "    <tr>\n",
       "      <th>634</th>\n",
       "      <td>Wellthy</td>\n",
       "      <td>wellthy.com</td>\n",
       "      <td>2000000.0</td>\n",
       "      <td>Disrupt SF 2015</td>\n",
       "      <td>Contestant</td>\n",
       "      <td>Operating</td>\n",
       "    </tr>\n",
       "    <tr>\n",
       "      <th>635</th>\n",
       "      <td>Welltwigs</td>\n",
       "      <td>welltwigs.com</td>\n",
       "      <td>50000.0</td>\n",
       "      <td>Disrupt NY 2015</td>\n",
       "      <td>Contestant</td>\n",
       "      <td>Operating</td>\n",
       "    </tr>\n",
       "    <tr>\n",
       "      <th>638</th>\n",
       "      <td>Wiivv</td>\n",
       "      <td>wiivv.com</td>\n",
       "      <td>12200000.0</td>\n",
       "      <td>Hardware Battlefield 2016</td>\n",
       "      <td>Runner up</td>\n",
       "      <td>Operating</td>\n",
       "    </tr>\n",
       "    <tr>\n",
       "      <th>640</th>\n",
       "      <td>WooMe</td>\n",
       "      <td>woome.com</td>\n",
       "      <td>17400000.0</td>\n",
       "      <td>TC40 2007</td>\n",
       "      <td>Finalist</td>\n",
       "      <td>Acquired</td>\n",
       "    </tr>\n",
       "    <tr>\n",
       "      <th>641</th>\n",
       "      <td>Workspot</td>\n",
       "      <td>workspot.com</td>\n",
       "      <td>15800000.0</td>\n",
       "      <td>Disrupt NYC 2013</td>\n",
       "      <td>Contestant</td>\n",
       "      <td>Operating</td>\n",
       "    </tr>\n",
       "    <tr>\n",
       "      <th>642</th>\n",
       "      <td>Xendo</td>\n",
       "      <td>xendo.com</td>\n",
       "      <td>28000.0</td>\n",
       "      <td>Disrupt SF 2014</td>\n",
       "      <td>Contestant</td>\n",
       "      <td>Acquired</td>\n",
       "    </tr>\n",
       "    <tr>\n",
       "      <th>643</th>\n",
       "      <td>Xobni</td>\n",
       "      <td>yahoo.com</td>\n",
       "      <td>41800000.0</td>\n",
       "      <td>TC40 2007</td>\n",
       "      <td>Contestant</td>\n",
       "      <td>Acquired</td>\n",
       "    </tr>\n",
       "    <tr>\n",
       "      <th>644</th>\n",
       "      <td>Yammer</td>\n",
       "      <td>yammer.com</td>\n",
       "      <td>142000000.0</td>\n",
       "      <td>TC50 2008</td>\n",
       "      <td>Winner</td>\n",
       "      <td>Acquired</td>\n",
       "    </tr>\n",
       "    <tr>\n",
       "      <th>645</th>\n",
       "      <td>Yap</td>\n",
       "      <td>yapme.com</td>\n",
       "      <td>10000000.0</td>\n",
       "      <td>TC40 2007</td>\n",
       "      <td>Contestant</td>\n",
       "      <td>Closed</td>\n",
       "    </tr>\n",
       "    <tr>\n",
       "      <th>646</th>\n",
       "      <td>YayPay Inc</td>\n",
       "      <td>yaypay.com</td>\n",
       "      <td>900000.0</td>\n",
       "      <td>Disrupt London 2015</td>\n",
       "      <td>Contestant</td>\n",
       "      <td>Operating</td>\n",
       "    </tr>\n",
       "    <tr>\n",
       "      <th>647</th>\n",
       "      <td>Yext</td>\n",
       "      <td>yext.com</td>\n",
       "      <td>117800000.0</td>\n",
       "      <td>TC50 2009</td>\n",
       "      <td>Contestant</td>\n",
       "      <td>Ipo</td>\n",
       "    </tr>\n",
       "    <tr>\n",
       "      <th>649</th>\n",
       "      <td>YouNow</td>\n",
       "      <td>younow.com</td>\n",
       "      <td>26000000.0</td>\n",
       "      <td>Disrupt SF 2011</td>\n",
       "      <td>Contestant</td>\n",
       "      <td>Operating</td>\n",
       "    </tr>\n",
       "    <tr>\n",
       "      <th>650</th>\n",
       "      <td>YourMechanic</td>\n",
       "      <td>yourmechanic.com</td>\n",
       "      <td>28000000.0</td>\n",
       "      <td>Disrupt SF 2012</td>\n",
       "      <td>Winner</td>\n",
       "      <td>Operating</td>\n",
       "    </tr>\n",
       "    <tr>\n",
       "      <th>654</th>\n",
       "      <td>ZEFR</td>\n",
       "      <td>zefr.com</td>\n",
       "      <td>62100000.0</td>\n",
       "      <td>Disrupt NYC 2010</td>\n",
       "      <td>Contestant</td>\n",
       "      <td>Operating</td>\n",
       "    </tr>\n",
       "    <tr>\n",
       "      <th>656</th>\n",
       "      <td>Zenefits</td>\n",
       "      <td>zenefits.com</td>\n",
       "      <td>583600000.0</td>\n",
       "      <td>Disrupt NYC 2013</td>\n",
       "      <td>Finalist</td>\n",
       "      <td>Operating</td>\n",
       "    </tr>\n",
       "    <tr>\n",
       "      <th>657</th>\n",
       "      <td>Zivity</td>\n",
       "      <td>zivity.com</td>\n",
       "      <td>8000000.0</td>\n",
       "      <td>TC40 2007</td>\n",
       "      <td>Contestant</td>\n",
       "      <td>Operating</td>\n",
       "    </tr>\n",
       "    <tr>\n",
       "      <th>658</th>\n",
       "      <td>Zmorph</td>\n",
       "      <td>zmorph3d.com</td>\n",
       "      <td>1000000.0</td>\n",
       "      <td>-</td>\n",
       "      <td>Audience choice</td>\n",
       "      <td>Operating</td>\n",
       "    </tr>\n",
       "    <tr>\n",
       "      <th>659</th>\n",
       "      <td>Zocdoc</td>\n",
       "      <td>zocdoc.com</td>\n",
       "      <td>223000000.0</td>\n",
       "      <td>TC40 2007</td>\n",
       "      <td>Contestant</td>\n",
       "      <td>Operating</td>\n",
       "    </tr>\n",
       "    <tr>\n",
       "      <th>660</th>\n",
       "      <td>Zula</td>\n",
       "      <td>zulaapp.com</td>\n",
       "      <td>3400000.0</td>\n",
       "      <td>Disrupt SF 2013</td>\n",
       "      <td>Audience choice</td>\n",
       "      <td>Operating</td>\n",
       "    </tr>\n",
       "    <tr>\n",
       "      <th>661</th>\n",
       "      <td>Zumper</td>\n",
       "      <td>zumper.com</td>\n",
       "      <td>31500000.0</td>\n",
       "      <td>Disrupt SF 2012</td>\n",
       "      <td>Finalist</td>\n",
       "      <td>Operating</td>\n",
       "    </tr>\n",
       "  </tbody>\n",
       "</table>\n",
       "</div>"
      ],
      "text/plain": [
       "          Startup                Product      Funding  \\\n",
       "629        WaterO     wateropurifier.com      85700.0   \n",
       "630         WAZER              wazer.com    1400000.0   \n",
       "631     WEconnect  weconnectrecovery.com    2100000.0   \n",
       "632      WeDemand           wedemand.com    1000000.0   \n",
       "633        Wellth          wellthapp.com    2500000.0   \n",
       "634       Wellthy            wellthy.com    2000000.0   \n",
       "635     Welltwigs          welltwigs.com      50000.0   \n",
       "638         Wiivv              wiivv.com   12200000.0   \n",
       "640         WooMe              woome.com   17400000.0   \n",
       "641      Workspot           workspot.com   15800000.0   \n",
       "642         Xendo              xendo.com      28000.0   \n",
       "643         Xobni              yahoo.com   41800000.0   \n",
       "644        Yammer             yammer.com  142000000.0   \n",
       "645           Yap              yapme.com   10000000.0   \n",
       "646    YayPay Inc             yaypay.com     900000.0   \n",
       "647          Yext               yext.com  117800000.0   \n",
       "649        YouNow             younow.com   26000000.0   \n",
       "650  YourMechanic       yourmechanic.com   28000000.0   \n",
       "654          ZEFR               zefr.com   62100000.0   \n",
       "656      Zenefits           zenefits.com  583600000.0   \n",
       "657        Zivity             zivity.com    8000000.0   \n",
       "658        Zmorph           zmorph3d.com    1000000.0   \n",
       "659        Zocdoc             zocdoc.com  223000000.0   \n",
       "660          Zula            zulaapp.com    3400000.0   \n",
       "661        Zumper             zumper.com   31500000.0   \n",
       "\n",
       "                         Event           Result OperatingState  \n",
       "629            Disrupt NY 2016        Runner up      Operating  \n",
       "630            Disrupt SF 2016       Contestant      Operating  \n",
       "631            Disrupt SF 2016  Audience choice      Operating  \n",
       "632            Disrupt SF 2012       Contestant      Operating  \n",
       "633            Disrupt NY 2015       Contestant      Operating  \n",
       "634            Disrupt SF 2015       Contestant      Operating  \n",
       "635            Disrupt NY 2015       Contestant      Operating  \n",
       "638  Hardware Battlefield 2016        Runner up      Operating  \n",
       "640                  TC40 2007         Finalist       Acquired  \n",
       "641           Disrupt NYC 2013       Contestant      Operating  \n",
       "642            Disrupt SF 2014       Contestant       Acquired  \n",
       "643                  TC40 2007       Contestant       Acquired  \n",
       "644                  TC50 2008           Winner       Acquired  \n",
       "645                  TC40 2007       Contestant         Closed  \n",
       "646        Disrupt London 2015       Contestant      Operating  \n",
       "647                  TC50 2009       Contestant            Ipo  \n",
       "649            Disrupt SF 2011       Contestant      Operating  \n",
       "650            Disrupt SF 2012           Winner      Operating  \n",
       "654           Disrupt NYC 2010       Contestant      Operating  \n",
       "656           Disrupt NYC 2013         Finalist      Operating  \n",
       "657                  TC40 2007       Contestant      Operating  \n",
       "658                          -  Audience choice      Operating  \n",
       "659                  TC40 2007       Contestant      Operating  \n",
       "660            Disrupt SF 2013  Audience choice      Operating  \n",
       "661            Disrupt SF 2012         Finalist      Operating  "
      ]
     },
     "execution_count": 72,
     "metadata": {},
     "output_type": "execute_result"
    }
   ],
   "source": [
    "data2cleaned.tail(25)"
   ]
  },
  {
   "cell_type": "code",
   "execution_count": 73,
   "id": "ae598fad",
   "metadata": {},
   "outputs": [
    {
     "name": "stdout",
     "output_type": "stream",
     "text": [
      "<class 'pandas.core.frame.DataFrame'>\n",
      "Index: 448 entries, 1 to 661\n",
      "Data columns (total 6 columns):\n",
      " #   Column          Non-Null Count  Dtype  \n",
      "---  ------          --------------  -----  \n",
      " 0   Startup         448 non-null    object \n",
      " 1   Product         446 non-null    object \n",
      " 2   Funding         448 non-null    float64\n",
      " 3   Event           448 non-null    object \n",
      " 4   Result          448 non-null    object \n",
      " 5   OperatingState  448 non-null    object \n",
      "dtypes: float64(1), object(5)\n",
      "memory usage: 24.5+ KB\n"
     ]
    }
   ],
   "source": [
    "## Check the data type for Funding variable\n",
    "data2cleaned.info()"
   ]
  },
  {
   "cell_type": "code",
   "execution_count": 74,
   "id": "9cee2bb0",
   "metadata": {},
   "outputs": [
    {
     "data": {
      "text/plain": [
       "Funding\n",
       "<class 'float'>    448\n",
       "Name: count, dtype: int64"
      ]
     },
     "execution_count": 74,
     "metadata": {},
     "output_type": "execute_result"
    }
   ],
   "source": [
    "data2cleanedcpy = data2cleaned.copy()\n",
    "data2cleanedcpy['Funding'].apply(type).value_counts()\n",
    "## Check the data type for each variable of type 'Funding' and confirm it is float"
   ]
  },
  {
   "cell_type": "code",
   "execution_count": 75,
   "id": "815dd3d6",
   "metadata": {},
   "outputs": [
    {
     "name": "stderr",
     "output_type": "stream",
     "text": [
      "/var/folders/bb/thn7h7k95qdf2qgdz0p9kqf00000gn/T/ipykernel_22616/703289348.py:2: SettingWithCopyWarning: \n",
      "A value is trying to be set on a copy of a slice from a DataFrame.\n",
      "Try using .loc[row_indexer,col_indexer] = value instead\n",
      "\n",
      "See the caveats in the documentation: https://pandas.pydata.org/pandas-docs/stable/user_guide/indexing.html#returning-a-view-versus-a-copy\n",
      "  data2cleaned['Funding'] = data2cleaned['Funding'].apply(pd.to_numeric)\n"
     ]
    }
   ],
   "source": [
    "## Convert funding datatype to numeric as all values are float\n",
    "data2cleaned['Funding'] = data2cleaned['Funding'].apply(pd.to_numeric) "
   ]
  },
  {
   "cell_type": "code",
   "execution_count": 76,
   "id": "76f9f071",
   "metadata": {},
   "outputs": [
    {
     "name": "stdout",
     "output_type": "stream",
     "text": [
      "<class 'pandas.core.frame.DataFrame'>\n",
      "Index: 448 entries, 1 to 661\n",
      "Data columns (total 6 columns):\n",
      " #   Column          Non-Null Count  Dtype  \n",
      "---  ------          --------------  -----  \n",
      " 0   Startup         448 non-null    object \n",
      " 1   Product         446 non-null    object \n",
      " 2   Funding         448 non-null    float64\n",
      " 3   Event           448 non-null    object \n",
      " 4   Result          448 non-null    object \n",
      " 5   OperatingState  448 non-null    object \n",
      "dtypes: float64(1), object(5)\n",
      "memory usage: 24.5+ KB\n"
     ]
    }
   ],
   "source": [
    "## Check the data type for Funding variable\n",
    "data2cleaned.info()"
   ]
  },
  {
   "cell_type": "code",
   "execution_count": 77,
   "id": "6bd105b3",
   "metadata": {},
   "outputs": [
    {
     "name": "stderr",
     "output_type": "stream",
     "text": [
      "/var/folders/bb/thn7h7k95qdf2qgdz0p9kqf00000gn/T/ipykernel_22616/938585149.py:2: SettingWithCopyWarning: \n",
      "A value is trying to be set on a copy of a slice from a DataFrame.\n",
      "Try using .loc[row_indexer,col_indexer] = value instead\n",
      "\n",
      "See the caveats in the documentation: https://pandas.pydata.org/pandas-docs/stable/user_guide/indexing.html#returning-a-view-versus-a-copy\n",
      "  data2cleaned['FundingInMillion'] = data2cleaned['Funding']/1000000\n"
     ]
    }
   ],
   "source": [
    "## Add a new column for funds in million\n",
    "data2cleaned['FundingInMillion'] = data2cleaned['Funding']/1000000"
   ]
  },
  {
   "cell_type": "code",
   "execution_count": 78,
   "id": "ca2e452e",
   "metadata": {},
   "outputs": [
    {
     "name": "stdout",
     "output_type": "stream",
     "text": [
      "<class 'pandas.core.frame.DataFrame'>\n",
      "Index: 448 entries, 1 to 661\n",
      "Data columns (total 7 columns):\n",
      " #   Column            Non-Null Count  Dtype  \n",
      "---  ------            --------------  -----  \n",
      " 0   Startup           448 non-null    object \n",
      " 1   Product           446 non-null    object \n",
      " 2   Funding           448 non-null    float64\n",
      " 3   Event             448 non-null    object \n",
      " 4   Result            448 non-null    object \n",
      " 5   OperatingState    448 non-null    object \n",
      " 6   FundingInMillion  448 non-null    float64\n",
      "dtypes: float64(2), object(5)\n",
      "memory usage: 28.0+ KB\n"
     ]
    }
   ],
   "source": [
    "data2cleaned.info()"
   ]
  },
  {
   "cell_type": "code",
   "execution_count": 79,
   "id": "aa05c30d",
   "metadata": {},
   "outputs": [
    {
     "data": {
      "text/html": [
       "<div>\n",
       "<style scoped>\n",
       "    .dataframe tbody tr th:only-of-type {\n",
       "        vertical-align: middle;\n",
       "    }\n",
       "\n",
       "    .dataframe tbody tr th {\n",
       "        vertical-align: top;\n",
       "    }\n",
       "\n",
       "    .dataframe thead th {\n",
       "        text-align: right;\n",
       "    }\n",
       "</style>\n",
       "<table border=\"1\" class=\"dataframe\">\n",
       "  <thead>\n",
       "    <tr style=\"text-align: right;\">\n",
       "      <th></th>\n",
       "      <th>Startup</th>\n",
       "      <th>Product</th>\n",
       "      <th>Funding</th>\n",
       "      <th>Event</th>\n",
       "      <th>Result</th>\n",
       "      <th>OperatingState</th>\n",
       "      <th>FundingInMillion</th>\n",
       "    </tr>\n",
       "  </thead>\n",
       "  <tbody>\n",
       "    <tr>\n",
       "      <th>1</th>\n",
       "      <td>3DLT</td>\n",
       "      <td>3dlt.com</td>\n",
       "      <td>630000.0</td>\n",
       "      <td>Disrupt NYC 2013</td>\n",
       "      <td>Contestant</td>\n",
       "      <td>Closed</td>\n",
       "      <td>0.63</td>\n",
       "    </tr>\n",
       "    <tr>\n",
       "      <th>3</th>\n",
       "      <td>3Dprintler</td>\n",
       "      <td>3dprintler.com</td>\n",
       "      <td>1000000.0</td>\n",
       "      <td>Disrupt NY 2016</td>\n",
       "      <td>Audience choice</td>\n",
       "      <td>Operating</td>\n",
       "      <td>1.00</td>\n",
       "    </tr>\n",
       "    <tr>\n",
       "      <th>5</th>\n",
       "      <td>5to1</td>\n",
       "      <td>5to1.com</td>\n",
       "      <td>19300000.0</td>\n",
       "      <td>TC50 2009</td>\n",
       "      <td>Contestant</td>\n",
       "      <td>Acquired</td>\n",
       "      <td>19.30</td>\n",
       "    </tr>\n",
       "    <tr>\n",
       "      <th>6</th>\n",
       "      <td>8 Securities</td>\n",
       "      <td>8securities.com</td>\n",
       "      <td>29000000.0</td>\n",
       "      <td>Disrupt Beijing 2011</td>\n",
       "      <td>Finalist</td>\n",
       "      <td>Operating</td>\n",
       "      <td>29.00</td>\n",
       "    </tr>\n",
       "    <tr>\n",
       "      <th>10</th>\n",
       "      <td>AdhereTech</td>\n",
       "      <td>adheretech.com</td>\n",
       "      <td>1800000.0</td>\n",
       "      <td>Hardware Battlefield 2014</td>\n",
       "      <td>Contestant</td>\n",
       "      <td>Operating</td>\n",
       "      <td>1.80</td>\n",
       "    </tr>\n",
       "  </tbody>\n",
       "</table>\n",
       "</div>"
      ],
      "text/plain": [
       "         Startup          Product     Funding                      Event  \\\n",
       "1           3DLT         3dlt.com    630000.0           Disrupt NYC 2013   \n",
       "3     3Dprintler   3dprintler.com   1000000.0            Disrupt NY 2016   \n",
       "5           5to1         5to1.com  19300000.0                  TC50 2009   \n",
       "6   8 Securities  8securities.com  29000000.0       Disrupt Beijing 2011   \n",
       "10    AdhereTech   adheretech.com   1800000.0  Hardware Battlefield 2014   \n",
       "\n",
       "             Result OperatingState  FundingInMillion  \n",
       "1        Contestant         Closed              0.63  \n",
       "3   Audience choice      Operating              1.00  \n",
       "5        Contestant       Acquired             19.30  \n",
       "6          Finalist      Operating             29.00  \n",
       "10       Contestant      Operating              1.80  "
      ]
     },
     "execution_count": 79,
     "metadata": {},
     "output_type": "execute_result"
    }
   ],
   "source": [
    "data2cleaned.head()"
   ]
  },
  {
   "cell_type": "code",
   "execution_count": 80,
   "id": "10d1d718",
   "metadata": {
    "scrolled": true
   },
   "outputs": [
    {
     "data": {
      "text/html": [
       "<div>\n",
       "<style scoped>\n",
       "    .dataframe tbody tr th:only-of-type {\n",
       "        vertical-align: middle;\n",
       "    }\n",
       "\n",
       "    .dataframe tbody tr th {\n",
       "        vertical-align: top;\n",
       "    }\n",
       "\n",
       "    .dataframe thead th {\n",
       "        text-align: right;\n",
       "    }\n",
       "</style>\n",
       "<table border=\"1\" class=\"dataframe\">\n",
       "  <thead>\n",
       "    <tr style=\"text-align: right;\">\n",
       "      <th></th>\n",
       "      <th>Funding</th>\n",
       "      <th>FundingInMillion</th>\n",
       "    </tr>\n",
       "  </thead>\n",
       "  <tbody>\n",
       "    <tr>\n",
       "      <th>count</th>\n",
       "      <td>4.480000e+02</td>\n",
       "      <td>448.000000</td>\n",
       "    </tr>\n",
       "    <tr>\n",
       "      <th>mean</th>\n",
       "      <td>1.718237e+07</td>\n",
       "      <td>17.182375</td>\n",
       "    </tr>\n",
       "    <tr>\n",
       "      <th>std</th>\n",
       "      <td>9.028540e+07</td>\n",
       "      <td>90.285396</td>\n",
       "    </tr>\n",
       "    <tr>\n",
       "      <th>min</th>\n",
       "      <td>5.000000e+03</td>\n",
       "      <td>0.005000</td>\n",
       "    </tr>\n",
       "    <tr>\n",
       "      <th>25%</th>\n",
       "      <td>7.457500e+05</td>\n",
       "      <td>0.745750</td>\n",
       "    </tr>\n",
       "    <tr>\n",
       "      <th>50%</th>\n",
       "      <td>2.250000e+06</td>\n",
       "      <td>2.250000</td>\n",
       "    </tr>\n",
       "    <tr>\n",
       "      <th>75%</th>\n",
       "      <td>9.425000e+06</td>\n",
       "      <td>9.425000</td>\n",
       "    </tr>\n",
       "    <tr>\n",
       "      <th>max</th>\n",
       "      <td>1.700000e+09</td>\n",
       "      <td>1700.000000</td>\n",
       "    </tr>\n",
       "  </tbody>\n",
       "</table>\n",
       "</div>"
      ],
      "text/plain": [
       "            Funding  FundingInMillion\n",
       "count  4.480000e+02        448.000000\n",
       "mean   1.718237e+07         17.182375\n",
       "std    9.028540e+07         90.285396\n",
       "min    5.000000e+03          0.005000\n",
       "25%    7.457500e+05          0.745750\n",
       "50%    2.250000e+06          2.250000\n",
       "75%    9.425000e+06          9.425000\n",
       "max    1.700000e+09       1700.000000"
      ]
     },
     "execution_count": 80,
     "metadata": {},
     "output_type": "execute_result"
    }
   ],
   "source": [
    "data2cleaned.describe()"
   ]
  },
  {
   "cell_type": "code",
   "execution_count": 81,
   "id": "8e056c84",
   "metadata": {},
   "outputs": [
    {
     "data": {
      "image/png": "[encoded data removed]",
      "text/plain": [
       "<Figure size 640x480 with 1 Axes>"
      ]
     },
     "metadata": {},
     "output_type": "display_data"
    }
   ],
   "source": [
    "## Five point summary for Funding values as above\n",
    "plot = plt.boxplot(data2cleaned[\"FundingInMillion\"])\n",
    "plt.title(\"Boxplot of Funding Values\")\n",
    "plt.ylabel(\"Funding (in Million)\")\n",
    "plt.show()"
   ]
  },
  {
   "cell_type": "code",
   "execution_count": 82,
   "id": "52759472",
   "metadata": {},
   "outputs": [
    {
     "name": "stdout",
     "output_type": "stream",
     "text": [
      "22.0\n"
     ]
    }
   ],
   "source": [
    "upper_fence = plot['caps'][1].get_data()[1][1]\n",
    "print(upper_fence)"
   ]
  },
  {
   "cell_type": "code",
   "execution_count": 83,
   "id": "3c01b76f",
   "metadata": {},
   "outputs": [
    {
     "name": "stdout",
     "output_type": "stream",
     "text": [
      "Number of outliers = 60\n"
     ]
    },
    {
     "data": {
      "text/html": [
       "<div>\n",
       "<style scoped>\n",
       "    .dataframe tbody tr th:only-of-type {\n",
       "        vertical-align: middle;\n",
       "    }\n",
       "\n",
       "    .dataframe tbody tr th {\n",
       "        vertical-align: top;\n",
       "    }\n",
       "\n",
       "    .dataframe thead th {\n",
       "        text-align: right;\n",
       "    }\n",
       "</style>\n",
       "<table border=\"1\" class=\"dataframe\">\n",
       "  <thead>\n",
       "    <tr style=\"text-align: right;\">\n",
       "      <th></th>\n",
       "      <th>Startup</th>\n",
       "      <th>Product</th>\n",
       "      <th>Funding</th>\n",
       "      <th>Event</th>\n",
       "      <th>Result</th>\n",
       "      <th>OperatingState</th>\n",
       "      <th>FundingInMillion</th>\n",
       "    </tr>\n",
       "  </thead>\n",
       "  <tbody>\n",
       "    <tr>\n",
       "      <th>6</th>\n",
       "      <td>8 Securities</td>\n",
       "      <td>8securities.com</td>\n",
       "      <td>2.900000e+07</td>\n",
       "      <td>Disrupt Beijing 2011</td>\n",
       "      <td>Finalist</td>\n",
       "      <td>Operating</td>\n",
       "      <td>29.0</td>\n",
       "    </tr>\n",
       "    <tr>\n",
       "      <th>31</th>\n",
       "      <td>Anyclip</td>\n",
       "      <td>anyclip.com</td>\n",
       "      <td>2.400000e+07</td>\n",
       "      <td>TC50 2009</td>\n",
       "      <td>Finalist</td>\n",
       "      <td>Operating</td>\n",
       "      <td>24.0</td>\n",
       "    </tr>\n",
       "    <tr>\n",
       "      <th>40</th>\n",
       "      <td>Artsy</td>\n",
       "      <td>artsy.net</td>\n",
       "      <td>5.090000e+07</td>\n",
       "      <td>Disrupt NYC 2010</td>\n",
       "      <td>Contestant</td>\n",
       "      <td>Operating</td>\n",
       "      <td>50.9</td>\n",
       "    </tr>\n",
       "    <tr>\n",
       "      <th>49</th>\n",
       "      <td>Badgeville</td>\n",
       "      <td>badgeville.com</td>\n",
       "      <td>4.000000e+07</td>\n",
       "      <td>Disrupt SF 2010</td>\n",
       "      <td>Finalist</td>\n",
       "      <td>Acquired</td>\n",
       "      <td>40.0</td>\n",
       "    </tr>\n",
       "    <tr>\n",
       "      <th>56</th>\n",
       "      <td>Betterment</td>\n",
       "      <td>betterment.com</td>\n",
       "      <td>2.050000e+08</td>\n",
       "      <td>Disrupt NYC 2010</td>\n",
       "      <td>Finalist</td>\n",
       "      <td>Operating</td>\n",
       "      <td>205.0</td>\n",
       "    </tr>\n",
       "    <tr>\n",
       "      <th>108</th>\n",
       "      <td>Clickable</td>\n",
       "      <td>clickable.com</td>\n",
       "      <td>3.250000e+07</td>\n",
       "      <td>TC40 2007</td>\n",
       "      <td>Finalist</td>\n",
       "      <td>Acquired</td>\n",
       "      <td>32.5</td>\n",
       "    </tr>\n",
       "    <tr>\n",
       "      <th>113</th>\n",
       "      <td>Cloudflare</td>\n",
       "      <td>cloudflare.com</td>\n",
       "      <td>1.821000e+08</td>\n",
       "      <td>Disrupt SF 2010</td>\n",
       "      <td>Runner up</td>\n",
       "      <td>Operating</td>\n",
       "      <td>182.1</td>\n",
       "    </tr>\n",
       "    <tr>\n",
       "      <th>128</th>\n",
       "      <td>Credit Sesame</td>\n",
       "      <td>creditsesame.com</td>\n",
       "      <td>3.540000e+07</td>\n",
       "      <td>Disrupt SF 2010</td>\n",
       "      <td>Contestant</td>\n",
       "      <td>Operating</td>\n",
       "      <td>35.4</td>\n",
       "    </tr>\n",
       "    <tr>\n",
       "      <th>130</th>\n",
       "      <td>CrowdFlower Inc.</td>\n",
       "      <td>crowdflower.com</td>\n",
       "      <td>3.800000e+07</td>\n",
       "      <td>TC50 2009</td>\n",
       "      <td>Contestant</td>\n",
       "      <td>Operating</td>\n",
       "      <td>38.0</td>\n",
       "    </tr>\n",
       "    <tr>\n",
       "      <th>132</th>\n",
       "      <td>Cubic Telecom</td>\n",
       "      <td>cubictelecom.com</td>\n",
       "      <td>3.710000e+07</td>\n",
       "      <td>TC40 2007</td>\n",
       "      <td>Contestant</td>\n",
       "      <td>Operating</td>\n",
       "      <td>37.1</td>\n",
       "    </tr>\n",
       "    <tr>\n",
       "      <th>138</th>\n",
       "      <td>DataSift</td>\n",
       "      <td>datasift.com</td>\n",
       "      <td>7.200000e+07</td>\n",
       "      <td>Disrupt SF 2010</td>\n",
       "      <td>Finalist</td>\n",
       "      <td>Operating</td>\n",
       "      <td>72.0</td>\n",
       "    </tr>\n",
       "    <tr>\n",
       "      <th>139</th>\n",
       "      <td>DataXu</td>\n",
       "      <td>dataxu.com</td>\n",
       "      <td>6.400000e+07</td>\n",
       "      <td>TC50 2009</td>\n",
       "      <td>Contestant</td>\n",
       "      <td>Operating</td>\n",
       "      <td>64.0</td>\n",
       "    </tr>\n",
       "    <tr>\n",
       "      <th>154</th>\n",
       "      <td>Dropbox</td>\n",
       "      <td>dropbox.com</td>\n",
       "      <td>1.700000e+09</td>\n",
       "      <td>TC50 2008</td>\n",
       "      <td>Contestant</td>\n",
       "      <td>Operating</td>\n",
       "      <td>1700.0</td>\n",
       "    </tr>\n",
       "    <tr>\n",
       "      <th>166</th>\n",
       "      <td>Enigma</td>\n",
       "      <td>enigma.io</td>\n",
       "      <td>3.460000e+07</td>\n",
       "      <td>Disrupt NYC 2013</td>\n",
       "      <td>Winner</td>\n",
       "      <td>Operating</td>\n",
       "      <td>34.6</td>\n",
       "    </tr>\n",
       "    <tr>\n",
       "      <th>172</th>\n",
       "      <td>EverythingMe</td>\n",
       "      <td>everything.me</td>\n",
       "      <td>3.550000e+07</td>\n",
       "      <td>Disrupt NYC 2011</td>\n",
       "      <td>Contestant</td>\n",
       "      <td>Closed</td>\n",
       "      <td>35.5</td>\n",
       "    </tr>\n",
       "    <tr>\n",
       "      <th>179</th>\n",
       "      <td>Famo.us</td>\n",
       "      <td>famo.us</td>\n",
       "      <td>3.010000e+07</td>\n",
       "      <td>Disrupt SF 2012</td>\n",
       "      <td>Contestant</td>\n",
       "      <td>Operating</td>\n",
       "      <td>30.1</td>\n",
       "    </tr>\n",
       "    <tr>\n",
       "      <th>180</th>\n",
       "      <td>Farmigo</td>\n",
       "      <td>farmigo.com</td>\n",
       "      <td>2.600000e+07</td>\n",
       "      <td>Disrupt SF 2011</td>\n",
       "      <td>Finalist</td>\n",
       "      <td>Operating</td>\n",
       "      <td>26.0</td>\n",
       "    </tr>\n",
       "    <tr>\n",
       "      <th>188</th>\n",
       "      <td>Fitbit</td>\n",
       "      <td>fitbit.com</td>\n",
       "      <td>6.600000e+07</td>\n",
       "      <td>TC50 2008</td>\n",
       "      <td>Finalist</td>\n",
       "      <td>Ipo</td>\n",
       "      <td>66.0</td>\n",
       "    </tr>\n",
       "    <tr>\n",
       "      <th>191</th>\n",
       "      <td>Flock</td>\n",
       "      <td>flock.com</td>\n",
       "      <td>2.830000e+07</td>\n",
       "      <td>TC40 2007</td>\n",
       "      <td>Contestant</td>\n",
       "      <td>Acquired</td>\n",
       "      <td>28.3</td>\n",
       "    </tr>\n",
       "    <tr>\n",
       "      <th>209</th>\n",
       "      <td>Getaround</td>\n",
       "      <td>getaround.com</td>\n",
       "      <td>1.030000e+08</td>\n",
       "      <td>Disrupt NYC 2011</td>\n",
       "      <td>Winner</td>\n",
       "      <td>Operating</td>\n",
       "      <td>103.0</td>\n",
       "    </tr>\n",
       "    <tr>\n",
       "      <th>213</th>\n",
       "      <td>Gild</td>\n",
       "      <td>gild.com</td>\n",
       "      <td>2.590000e+07</td>\n",
       "      <td>Disrupt SF 2010</td>\n",
       "      <td>Contestant</td>\n",
       "      <td>Acquired</td>\n",
       "      <td>25.9</td>\n",
       "    </tr>\n",
       "    <tr>\n",
       "      <th>215</th>\n",
       "      <td>Glide</td>\n",
       "      <td>glide.me</td>\n",
       "      <td>3.650000e+07</td>\n",
       "      <td>Disrupt NYC 2013</td>\n",
       "      <td>Audience choice</td>\n",
       "      <td>Operating</td>\n",
       "      <td>36.5</td>\n",
       "    </tr>\n",
       "    <tr>\n",
       "      <th>225</th>\n",
       "      <td>Grockit</td>\n",
       "      <td>grockit.com</td>\n",
       "      <td>4.470000e+07</td>\n",
       "      <td>TC50 2008</td>\n",
       "      <td>Finalist</td>\n",
       "      <td>Acquired</td>\n",
       "      <td>44.7</td>\n",
       "    </tr>\n",
       "    <tr>\n",
       "      <th>231</th>\n",
       "      <td>HackerRank</td>\n",
       "      <td>hackerrank.com</td>\n",
       "      <td>2.420000e+07</td>\n",
       "      <td>Disrupt SF 2012</td>\n",
       "      <td>Contestant</td>\n",
       "      <td>Operating</td>\n",
       "      <td>24.2</td>\n",
       "    </tr>\n",
       "    <tr>\n",
       "      <th>271</th>\n",
       "      <td>Ionic Security</td>\n",
       "      <td>ionicsecurity.com</td>\n",
       "      <td>1.224000e+08</td>\n",
       "      <td>Disrupt SF 2012</td>\n",
       "      <td>Contestant</td>\n",
       "      <td>Operating</td>\n",
       "      <td>122.4</td>\n",
       "    </tr>\n",
       "    <tr>\n",
       "      <th>276</th>\n",
       "      <td>IZEA</td>\n",
       "      <td>izea.com</td>\n",
       "      <td>3.490000e+07</td>\n",
       "      <td>Disrupt NYC 2010</td>\n",
       "      <td>Contestant</td>\n",
       "      <td>Ipo</td>\n",
       "      <td>34.9</td>\n",
       "    </tr>\n",
       "    <tr>\n",
       "      <th>279</th>\n",
       "      <td>Jiff</td>\n",
       "      <td>jiff.com</td>\n",
       "      <td>6.780000e+07</td>\n",
       "      <td>Disrupt SF 2011</td>\n",
       "      <td>Contestant</td>\n",
       "      <td>Acquired</td>\n",
       "      <td>67.8</td>\n",
       "    </tr>\n",
       "    <tr>\n",
       "      <th>282</th>\n",
       "      <td>Kaltura</td>\n",
       "      <td>kaltura.com</td>\n",
       "      <td>1.661000e+08</td>\n",
       "      <td>TC40 2007</td>\n",
       "      <td>Audience choice</td>\n",
       "      <td>Operating</td>\n",
       "      <td>166.1</td>\n",
       "    </tr>\n",
       "    <tr>\n",
       "      <th>302</th>\n",
       "      <td>Layer</td>\n",
       "      <td>layer.com</td>\n",
       "      <td>4.210000e+07</td>\n",
       "      <td>Disrupt SF 2013</td>\n",
       "      <td>Winner</td>\n",
       "      <td>Operating</td>\n",
       "      <td>42.1</td>\n",
       "    </tr>\n",
       "    <tr>\n",
       "      <th>305</th>\n",
       "      <td>LearnVest</td>\n",
       "      <td>learnvest.com</td>\n",
       "      <td>6.900000e+07</td>\n",
       "      <td>TC50 2009</td>\n",
       "      <td>Contestant</td>\n",
       "      <td>Acquired</td>\n",
       "      <td>69.0</td>\n",
       "    </tr>\n",
       "    <tr>\n",
       "      <th>313</th>\n",
       "      <td>LiveIntent</td>\n",
       "      <td>liveintent.com</td>\n",
       "      <td>6.510000e+07</td>\n",
       "      <td>Disrupt NYC 2010</td>\n",
       "      <td>Audience choice</td>\n",
       "      <td>Operating</td>\n",
       "      <td>65.1</td>\n",
       "    </tr>\n",
       "    <tr>\n",
       "      <th>325</th>\n",
       "      <td>Lystable</td>\n",
       "      <td>lystable.com</td>\n",
       "      <td>2.510000e+07</td>\n",
       "      <td>Disrupt London 2015</td>\n",
       "      <td>Finalist</td>\n",
       "      <td>Operating</td>\n",
       "      <td>25.1</td>\n",
       "    </tr>\n",
       "    <tr>\n",
       "      <th>346</th>\n",
       "      <td>Mint</td>\n",
       "      <td>mint.com</td>\n",
       "      <td>3.180000e+07</td>\n",
       "      <td>TC40 2007</td>\n",
       "      <td>Winner</td>\n",
       "      <td>Acquired</td>\n",
       "      <td>31.8</td>\n",
       "    </tr>\n",
       "    <tr>\n",
       "      <th>389</th>\n",
       "      <td>OrderWithMe</td>\n",
       "      <td>orderwithme.com</td>\n",
       "      <td>3.700000e+07</td>\n",
       "      <td>Disrupt Beijing 2011</td>\n",
       "      <td>Winner</td>\n",
       "      <td>Operating</td>\n",
       "      <td>37.0</td>\n",
       "    </tr>\n",
       "    <tr>\n",
       "      <th>393</th>\n",
       "      <td>Osmo</td>\n",
       "      <td>playosmo.com</td>\n",
       "      <td>3.850000e+07</td>\n",
       "      <td>Disrupt SF 2013</td>\n",
       "      <td>Contestant</td>\n",
       "      <td>Operating</td>\n",
       "      <td>38.5</td>\n",
       "    </tr>\n",
       "    <tr>\n",
       "      <th>394</th>\n",
       "      <td>Ossia</td>\n",
       "      <td>ossia.com</td>\n",
       "      <td>2.550000e+07</td>\n",
       "      <td>Disrupt SF 2013</td>\n",
       "      <td>Runner up</td>\n",
       "      <td>Operating</td>\n",
       "      <td>25.5</td>\n",
       "    </tr>\n",
       "    <tr>\n",
       "      <th>398</th>\n",
       "      <td>Owlet Baby Care</td>\n",
       "      <td>owletcare.com</td>\n",
       "      <td>2.400000e+07</td>\n",
       "      <td>Hardware Battlefield 2014</td>\n",
       "      <td>Runner up</td>\n",
       "      <td>Operating</td>\n",
       "      <td>24.0</td>\n",
       "    </tr>\n",
       "    <tr>\n",
       "      <th>427</th>\n",
       "      <td>Postmates</td>\n",
       "      <td>postmates.com</td>\n",
       "      <td>2.780000e+08</td>\n",
       "      <td>Disrupt SF 2011</td>\n",
       "      <td>Contestant</td>\n",
       "      <td>Operating</td>\n",
       "      <td>278.0</td>\n",
       "    </tr>\n",
       "    <tr>\n",
       "      <th>432</th>\n",
       "      <td>Prism Skylabs</td>\n",
       "      <td>prism.com</td>\n",
       "      <td>2.400000e+07</td>\n",
       "      <td>Disrupt SF 2011</td>\n",
       "      <td>Runner up</td>\n",
       "      <td>Operating</td>\n",
       "      <td>24.0</td>\n",
       "    </tr>\n",
       "    <tr>\n",
       "      <th>435</th>\n",
       "      <td>PubMatic</td>\n",
       "      <td>pubmatic.com</td>\n",
       "      <td>6.300000e+07</td>\n",
       "      <td>TC40 2007</td>\n",
       "      <td>Contestant</td>\n",
       "      <td>Operating</td>\n",
       "      <td>63.0</td>\n",
       "    </tr>\n",
       "    <tr>\n",
       "      <th>460</th>\n",
       "      <td>Roadie</td>\n",
       "      <td>roadie.com</td>\n",
       "      <td>2.500000e+07</td>\n",
       "      <td>Disrupt NYC 2014</td>\n",
       "      <td>Audience choice</td>\n",
       "      <td>Operating</td>\n",
       "      <td>25.0</td>\n",
       "    </tr>\n",
       "    <tr>\n",
       "      <th>471</th>\n",
       "      <td>SeatGeek</td>\n",
       "      <td>seatgeek.com</td>\n",
       "      <td>1.600000e+08</td>\n",
       "      <td>TC50 2009</td>\n",
       "      <td>Contestant</td>\n",
       "      <td>Operating</td>\n",
       "      <td>160.0</td>\n",
       "    </tr>\n",
       "    <tr>\n",
       "      <th>546</th>\n",
       "      <td>StyleSeat</td>\n",
       "      <td>styleseat.com</td>\n",
       "      <td>4.000000e+07</td>\n",
       "      <td>Disrupt NYC 2011</td>\n",
       "      <td>Contestant</td>\n",
       "      <td>Operating</td>\n",
       "      <td>40.0</td>\n",
       "    </tr>\n",
       "    <tr>\n",
       "      <th>555</th>\n",
       "      <td>Symphony Commerce</td>\n",
       "      <td>symphonycommerce.com</td>\n",
       "      <td>4.740000e+07</td>\n",
       "      <td>Disrupt NYC 2011</td>\n",
       "      <td>Contestant</td>\n",
       "      <td>Operating</td>\n",
       "      <td>47.4</td>\n",
       "    </tr>\n",
       "    <tr>\n",
       "      <th>560</th>\n",
       "      <td>Talkdesk</td>\n",
       "      <td>talkdesk.com</td>\n",
       "      <td>2.450000e+07</td>\n",
       "      <td>Disrupt NYC 2012</td>\n",
       "      <td>Contestant</td>\n",
       "      <td>Operating</td>\n",
       "      <td>24.5</td>\n",
       "    </tr>\n",
       "    <tr>\n",
       "      <th>581</th>\n",
       "      <td>TouchPal</td>\n",
       "      <td>touchpal.com</td>\n",
       "      <td>2.500000e+07</td>\n",
       "      <td>Disrupt Beijing 2011</td>\n",
       "      <td>Finalist</td>\n",
       "      <td>Operating</td>\n",
       "      <td>25.0</td>\n",
       "    </tr>\n",
       "    <tr>\n",
       "      <th>593</th>\n",
       "      <td>TrueCar</td>\n",
       "      <td>truecar.com</td>\n",
       "      <td>3.324000e+08</td>\n",
       "      <td>TC50 2008</td>\n",
       "      <td>Contestant</td>\n",
       "      <td>Ipo</td>\n",
       "      <td>332.4</td>\n",
       "    </tr>\n",
       "    <tr>\n",
       "      <th>598</th>\n",
       "      <td>UberConference</td>\n",
       "      <td>uberconference.com</td>\n",
       "      <td>3.500000e+07</td>\n",
       "      <td>Disrupt NYC 2012</td>\n",
       "      <td>Winner</td>\n",
       "      <td>Operating</td>\n",
       "      <td>35.0</td>\n",
       "    </tr>\n",
       "    <tr>\n",
       "      <th>606</th>\n",
       "      <td>Upwork</td>\n",
       "      <td>upwork.com</td>\n",
       "      <td>1.688000e+08</td>\n",
       "      <td>TC50 2009</td>\n",
       "      <td>Audience choice</td>\n",
       "      <td>Operating</td>\n",
       "      <td>168.8</td>\n",
       "    </tr>\n",
       "    <tr>\n",
       "      <th>615</th>\n",
       "      <td>VideoSurf</td>\n",
       "      <td>videosurf.com</td>\n",
       "      <td>2.800000e+07</td>\n",
       "      <td>TC50 2008</td>\n",
       "      <td>Contestant</td>\n",
       "      <td>Acquired</td>\n",
       "      <td>28.0</td>\n",
       "    </tr>\n",
       "    <tr>\n",
       "      <th>625</th>\n",
       "      <td>Voxy</td>\n",
       "      <td>voxy.com</td>\n",
       "      <td>3.080000e+07</td>\n",
       "      <td>Disrupt SF 2010</td>\n",
       "      <td>Contestant</td>\n",
       "      <td>Operating</td>\n",
       "      <td>30.8</td>\n",
       "    </tr>\n",
       "    <tr>\n",
       "      <th>643</th>\n",
       "      <td>Xobni</td>\n",
       "      <td>yahoo.com</td>\n",
       "      <td>4.180000e+07</td>\n",
       "      <td>TC40 2007</td>\n",
       "      <td>Contestant</td>\n",
       "      <td>Acquired</td>\n",
       "      <td>41.8</td>\n",
       "    </tr>\n",
       "    <tr>\n",
       "      <th>644</th>\n",
       "      <td>Yammer</td>\n",
       "      <td>yammer.com</td>\n",
       "      <td>1.420000e+08</td>\n",
       "      <td>TC50 2008</td>\n",
       "      <td>Winner</td>\n",
       "      <td>Acquired</td>\n",
       "      <td>142.0</td>\n",
       "    </tr>\n",
       "    <tr>\n",
       "      <th>647</th>\n",
       "      <td>Yext</td>\n",
       "      <td>yext.com</td>\n",
       "      <td>1.178000e+08</td>\n",
       "      <td>TC50 2009</td>\n",
       "      <td>Contestant</td>\n",
       "      <td>Ipo</td>\n",
       "      <td>117.8</td>\n",
       "    </tr>\n",
       "    <tr>\n",
       "      <th>649</th>\n",
       "      <td>YouNow</td>\n",
       "      <td>younow.com</td>\n",
       "      <td>2.600000e+07</td>\n",
       "      <td>Disrupt SF 2011</td>\n",
       "      <td>Contestant</td>\n",
       "      <td>Operating</td>\n",
       "      <td>26.0</td>\n",
       "    </tr>\n",
       "    <tr>\n",
       "      <th>650</th>\n",
       "      <td>YourMechanic</td>\n",
       "      <td>yourmechanic.com</td>\n",
       "      <td>2.800000e+07</td>\n",
       "      <td>Disrupt SF 2012</td>\n",
       "      <td>Winner</td>\n",
       "      <td>Operating</td>\n",
       "      <td>28.0</td>\n",
       "    </tr>\n",
       "    <tr>\n",
       "      <th>654</th>\n",
       "      <td>ZEFR</td>\n",
       "      <td>zefr.com</td>\n",
       "      <td>6.210000e+07</td>\n",
       "      <td>Disrupt NYC 2010</td>\n",
       "      <td>Contestant</td>\n",
       "      <td>Operating</td>\n",
       "      <td>62.1</td>\n",
       "    </tr>\n",
       "    <tr>\n",
       "      <th>656</th>\n",
       "      <td>Zenefits</td>\n",
       "      <td>zenefits.com</td>\n",
       "      <td>5.836000e+08</td>\n",
       "      <td>Disrupt NYC 2013</td>\n",
       "      <td>Finalist</td>\n",
       "      <td>Operating</td>\n",
       "      <td>583.6</td>\n",
       "    </tr>\n",
       "    <tr>\n",
       "      <th>659</th>\n",
       "      <td>Zocdoc</td>\n",
       "      <td>zocdoc.com</td>\n",
       "      <td>2.230000e+08</td>\n",
       "      <td>TC40 2007</td>\n",
       "      <td>Contestant</td>\n",
       "      <td>Operating</td>\n",
       "      <td>223.0</td>\n",
       "    </tr>\n",
       "    <tr>\n",
       "      <th>661</th>\n",
       "      <td>Zumper</td>\n",
       "      <td>zumper.com</td>\n",
       "      <td>3.150000e+07</td>\n",
       "      <td>Disrupt SF 2012</td>\n",
       "      <td>Finalist</td>\n",
       "      <td>Operating</td>\n",
       "      <td>31.5</td>\n",
       "    </tr>\n",
       "  </tbody>\n",
       "</table>\n",
       "</div>"
      ],
      "text/plain": [
       "               Startup               Product       Funding  \\\n",
       "6         8 Securities       8securities.com  2.900000e+07   \n",
       "31             Anyclip           anyclip.com  2.400000e+07   \n",
       "40               Artsy             artsy.net  5.090000e+07   \n",
       "49          Badgeville        badgeville.com  4.000000e+07   \n",
       "56          Betterment        betterment.com  2.050000e+08   \n",
       "108          Clickable         clickable.com  3.250000e+07   \n",
       "113         Cloudflare        cloudflare.com  1.821000e+08   \n",
       "128      Credit Sesame      creditsesame.com  3.540000e+07   \n",
       "130   CrowdFlower Inc.       crowdflower.com  3.800000e+07   \n",
       "132      Cubic Telecom      cubictelecom.com  3.710000e+07   \n",
       "138           DataSift          datasift.com  7.200000e+07   \n",
       "139             DataXu            dataxu.com  6.400000e+07   \n",
       "154            Dropbox           dropbox.com  1.700000e+09   \n",
       "166             Enigma             enigma.io  3.460000e+07   \n",
       "172       EverythingMe         everything.me  3.550000e+07   \n",
       "179            Famo.us               famo.us  3.010000e+07   \n",
       "180            Farmigo           farmigo.com  2.600000e+07   \n",
       "188             Fitbit            fitbit.com  6.600000e+07   \n",
       "191              Flock             flock.com  2.830000e+07   \n",
       "209          Getaround         getaround.com  1.030000e+08   \n",
       "213               Gild              gild.com  2.590000e+07   \n",
       "215              Glide              glide.me  3.650000e+07   \n",
       "225            Grockit           grockit.com  4.470000e+07   \n",
       "231         HackerRank        hackerrank.com  2.420000e+07   \n",
       "271     Ionic Security     ionicsecurity.com  1.224000e+08   \n",
       "276               IZEA              izea.com  3.490000e+07   \n",
       "279               Jiff              jiff.com  6.780000e+07   \n",
       "282            Kaltura           kaltura.com  1.661000e+08   \n",
       "302              Layer             layer.com  4.210000e+07   \n",
       "305          LearnVest         learnvest.com  6.900000e+07   \n",
       "313         LiveIntent        liveintent.com  6.510000e+07   \n",
       "325           Lystable          lystable.com  2.510000e+07   \n",
       "346               Mint              mint.com  3.180000e+07   \n",
       "389        OrderWithMe       orderwithme.com  3.700000e+07   \n",
       "393               Osmo          playosmo.com  3.850000e+07   \n",
       "394              Ossia             ossia.com  2.550000e+07   \n",
       "398    Owlet Baby Care         owletcare.com  2.400000e+07   \n",
       "427          Postmates         postmates.com  2.780000e+08   \n",
       "432      Prism Skylabs             prism.com  2.400000e+07   \n",
       "435           PubMatic          pubmatic.com  6.300000e+07   \n",
       "460             Roadie            roadie.com  2.500000e+07   \n",
       "471           SeatGeek          seatgeek.com  1.600000e+08   \n",
       "546          StyleSeat         styleseat.com  4.000000e+07   \n",
       "555  Symphony Commerce  symphonycommerce.com  4.740000e+07   \n",
       "560           Talkdesk          talkdesk.com  2.450000e+07   \n",
       "581           TouchPal          touchpal.com  2.500000e+07   \n",
       "593            TrueCar           truecar.com  3.324000e+08   \n",
       "598     UberConference    uberconference.com  3.500000e+07   \n",
       "606             Upwork            upwork.com  1.688000e+08   \n",
       "615          VideoSurf         videosurf.com  2.800000e+07   \n",
       "625               Voxy              voxy.com  3.080000e+07   \n",
       "643              Xobni             yahoo.com  4.180000e+07   \n",
       "644             Yammer            yammer.com  1.420000e+08   \n",
       "647               Yext              yext.com  1.178000e+08   \n",
       "649             YouNow            younow.com  2.600000e+07   \n",
       "650       YourMechanic      yourmechanic.com  2.800000e+07   \n",
       "654               ZEFR              zefr.com  6.210000e+07   \n",
       "656           Zenefits          zenefits.com  5.836000e+08   \n",
       "659             Zocdoc            zocdoc.com  2.230000e+08   \n",
       "661             Zumper            zumper.com  3.150000e+07   \n",
       "\n",
       "                         Event           Result OperatingState  \\\n",
       "6         Disrupt Beijing 2011         Finalist      Operating   \n",
       "31                   TC50 2009         Finalist      Operating   \n",
       "40            Disrupt NYC 2010       Contestant      Operating   \n",
       "49             Disrupt SF 2010         Finalist       Acquired   \n",
       "56            Disrupt NYC 2010         Finalist      Operating   \n",
       "108                  TC40 2007         Finalist       Acquired   \n",
       "113            Disrupt SF 2010        Runner up      Operating   \n",
       "128            Disrupt SF 2010       Contestant      Operating   \n",
       "130                  TC50 2009       Contestant      Operating   \n",
       "132                  TC40 2007       Contestant      Operating   \n",
       "138            Disrupt SF 2010         Finalist      Operating   \n",
       "139                  TC50 2009       Contestant      Operating   \n",
       "154                  TC50 2008       Contestant      Operating   \n",
       "166           Disrupt NYC 2013           Winner      Operating   \n",
       "172           Disrupt NYC 2011       Contestant         Closed   \n",
       "179            Disrupt SF 2012       Contestant      Operating   \n",
       "180            Disrupt SF 2011         Finalist      Operating   \n",
       "188                  TC50 2008         Finalist            Ipo   \n",
       "191                  TC40 2007       Contestant       Acquired   \n",
       "209           Disrupt NYC 2011           Winner      Operating   \n",
       "213            Disrupt SF 2010       Contestant       Acquired   \n",
       "215           Disrupt NYC 2013  Audience choice      Operating   \n",
       "225                  TC50 2008         Finalist       Acquired   \n",
       "231            Disrupt SF 2012       Contestant      Operating   \n",
       "271            Disrupt SF 2012       Contestant      Operating   \n",
       "276           Disrupt NYC 2010       Contestant            Ipo   \n",
       "279            Disrupt SF 2011       Contestant       Acquired   \n",
       "282                  TC40 2007  Audience choice      Operating   \n",
       "302            Disrupt SF 2013           Winner      Operating   \n",
       "305                  TC50 2009       Contestant       Acquired   \n",
       "313           Disrupt NYC 2010  Audience choice      Operating   \n",
       "325        Disrupt London 2015         Finalist      Operating   \n",
       "346                  TC40 2007           Winner       Acquired   \n",
       "389       Disrupt Beijing 2011           Winner      Operating   \n",
       "393            Disrupt SF 2013       Contestant      Operating   \n",
       "394            Disrupt SF 2013        Runner up      Operating   \n",
       "398  Hardware Battlefield 2014        Runner up      Operating   \n",
       "427            Disrupt SF 2011       Contestant      Operating   \n",
       "432            Disrupt SF 2011        Runner up      Operating   \n",
       "435                  TC40 2007       Contestant      Operating   \n",
       "460           Disrupt NYC 2014  Audience choice      Operating   \n",
       "471                  TC50 2009       Contestant      Operating   \n",
       "546           Disrupt NYC 2011       Contestant      Operating   \n",
       "555           Disrupt NYC 2011       Contestant      Operating   \n",
       "560           Disrupt NYC 2012       Contestant      Operating   \n",
       "581       Disrupt Beijing 2011         Finalist      Operating   \n",
       "593                  TC50 2008       Contestant            Ipo   \n",
       "598           Disrupt NYC 2012           Winner      Operating   \n",
       "606                  TC50 2009  Audience choice      Operating   \n",
       "615                  TC50 2008       Contestant       Acquired   \n",
       "625            Disrupt SF 2010       Contestant      Operating   \n",
       "643                  TC40 2007       Contestant       Acquired   \n",
       "644                  TC50 2008           Winner       Acquired   \n",
       "647                  TC50 2009       Contestant            Ipo   \n",
       "649            Disrupt SF 2011       Contestant      Operating   \n",
       "650            Disrupt SF 2012           Winner      Operating   \n",
       "654           Disrupt NYC 2010       Contestant      Operating   \n",
       "656           Disrupt NYC 2013         Finalist      Operating   \n",
       "659                  TC40 2007       Contestant      Operating   \n",
       "661            Disrupt SF 2012         Finalist      Operating   \n",
       "\n",
       "     FundingInMillion  \n",
       "6                29.0  \n",
       "31               24.0  \n",
       "40               50.9  \n",
       "49               40.0  \n",
       "56              205.0  \n",
       "108              32.5  \n",
       "113             182.1  \n",
       "128              35.4  \n",
       "130              38.0  \n",
       "132              37.1  \n",
       "138              72.0  \n",
       "139              64.0  \n",
       "154            1700.0  \n",
       "166              34.6  \n",
       "172              35.5  \n",
       "179              30.1  \n",
       "180              26.0  \n",
       "188              66.0  \n",
       "191              28.3  \n",
       "209             103.0  \n",
       "213              25.9  \n",
       "215              36.5  \n",
       "225              44.7  \n",
       "231              24.2  \n",
       "271             122.4  \n",
       "276              34.9  \n",
       "279              67.8  \n",
       "282             166.1  \n",
       "302              42.1  \n",
       "305              69.0  \n",
       "313              65.1  \n",
       "325              25.1  \n",
       "346              31.8  \n",
       "389              37.0  \n",
       "393              38.5  \n",
       "394              25.5  \n",
       "398              24.0  \n",
       "427             278.0  \n",
       "432              24.0  \n",
       "435              63.0  \n",
       "460              25.0  \n",
       "471             160.0  \n",
       "546              40.0  \n",
       "555              47.4  \n",
       "560              24.5  \n",
       "581              25.0  \n",
       "593             332.4  \n",
       "598              35.0  \n",
       "606             168.8  \n",
       "615              28.0  \n",
       "625              30.8  \n",
       "643              41.8  \n",
       "644             142.0  \n",
       "647             117.8  \n",
       "649              26.0  \n",
       "650              28.0  \n",
       "654              62.1  \n",
       "656             583.6  \n",
       "659             223.0  \n",
       "661              31.5  "
      ]
     },
     "execution_count": 83,
     "metadata": {},
     "output_type": "execute_result"
    }
   ],
   "source": [
    "print(f'Number of outliers = {len(data2cleaned[data2cleaned.FundingInMillion > upper_fence])}')\n",
    "data2cleaned[data2cleaned.FundingInMillion > upper_fence]"
   ]
  },
  {
   "cell_type": "code",
   "execution_count": 84,
   "id": "159c6945",
   "metadata": {},
   "outputs": [
    {
     "data": {
      "image/png": "[encoded data removed]",
      "text/plain": [
       "<Figure size 2000x500 with 1 Axes>"
      ]
     },
     "metadata": {},
     "output_type": "display_data"
    }
   ],
   "source": [
    "## Let's draw a scatterplot to identify outliers\n",
    "fig, ax = plt.subplots(figsize=(20, 5))\n",
    "ax.scatter (data2cleaned['FundingInMillion'],data2cleaned['OperatingState'])\n",
    "plt.show()"
   ]
  },
  {
   "cell_type": "code",
   "execution_count": 85,
   "id": "f18e285e",
   "metadata": {},
   "outputs": [],
   "source": [
    "## Remove values with less than million dollars from the dataframe\n",
    "## only the values with million or higher will be considered for calculations (this is the assumption made)\n",
    "\n",
    "data2cleanedorig = data2cleaned.copy() ## Keep the original copy of the entire dataset\n",
    "data2cleaned = data2cleaned[data2cleaned['FundingInMillion'] > 1].copy()"
   ]
  },
  {
   "cell_type": "code",
   "execution_count": 86,
   "id": "f341d299",
   "metadata": {},
   "outputs": [],
   "source": [
    "## Identify outliers in FundingInMillion column of the data frame\n",
    "from scipy import stats\n",
    "import numpy as np\n",
    "\n",
    "FundInMillionDf = data2cleaned['FundingInMillion'].copy()"
   ]
  },
  {
   "cell_type": "code",
   "execution_count": 87,
   "id": "b31656af",
   "metadata": {},
   "outputs": [
    {
     "name": "stdout",
     "output_type": "stream",
     "text": [
      "IQR: 14.0\n",
      "Q1: 2.3\n",
      "Q3: 16.3\n"
     ]
    }
   ],
   "source": [
    "## Calculate \n",
    "Q1 = FundInMillionDf.quantile(0.25)\n",
    "Q3 = FundInMillionDf.quantile(0.75)\n",
    "IQR = Q3 - Q1\n",
    "print('IQR:', IQR)\n",
    "print ('Q1:',Q1)\n",
    "print ('Q3:', Q3)"
   ]
  },
  {
   "cell_type": "code",
   "execution_count": 88,
   "id": "10ec3c52",
   "metadata": {},
   "outputs": [
    {
     "data": {
      "text/plain": [
       "(array([ 11,  15,  18,  42,  52,  55,  56,  63,  81,  91,  99, 118, 122,\n",
       "        125, 137, 139, 142, 178, 193, 200, 214, 240, 243, 258, 264, 283,\n",
       "        284, 286, 289, 290, 292]),)"
      ]
     },
     "execution_count": 88,
     "metadata": {},
     "output_type": "execute_result"
    }
   ],
   "source": [
    "np.where((FundInMillionDf < (Q1 - 1.5 * IQR))| (FundInMillionDf > (Q3 + 1.5 * IQR)))"
   ]
  },
  {
   "cell_type": "code",
   "execution_count": 89,
   "id": "8a09b675",
   "metadata": {},
   "outputs": [
    {
     "name": "stdout",
     "output_type": "stream",
     "text": [
      "Higher bound (FundsInMillion) 37.3\n",
      "Lower bound (FundsInMillion) -18.7\n",
      "Outlier on a higher side: 40       50.9\n",
      "49       40.0\n",
      "56      205.0\n",
      "113     182.1\n",
      "130      38.0\n",
      "138      72.0\n",
      "139      64.0\n",
      "154    1700.0\n",
      "188      66.0\n",
      "209     103.0\n",
      "225      44.7\n",
      "271     122.4\n",
      "279      67.8\n",
      "282     166.1\n",
      "302      42.1\n",
      "305      69.0\n",
      "313      65.1\n",
      "393      38.5\n",
      "427     278.0\n",
      "435      63.0\n",
      "471     160.0\n",
      "546      40.0\n",
      "555      47.4\n",
      "593     332.4\n",
      "606     168.8\n",
      "643      41.8\n",
      "644     142.0\n",
      "647     117.8\n",
      "654      62.1\n",
      "656     583.6\n",
      "659     223.0\n",
      "Name: FundingInMillion, dtype: float64\n",
      "Outlier on a lower side: Series([], Name: FundingInMillion, dtype: float64)\n"
     ]
    },
    {
     "name": "stderr",
     "output_type": "stream",
     "text": [
      "/var/folders/bb/thn7h7k95qdf2qgdz0p9kqf00000gn/T/ipykernel_22616/2400582734.py:12: SettingWithCopyWarning: \n",
      "A value is trying to be set on a copy of a slice from a DataFrame\n",
      "\n",
      "See the caveats in the documentation: https://pandas.pydata.org/pandas-docs/stable/user_guide/indexing.html#returning-a-view-versus-a-copy\n",
      "  data2cleaned['FundInMillionOutlier'].iloc[i] = 1\n",
      "/var/folders/bb/thn7h7k95qdf2qgdz0p9kqf00000gn/T/ipykernel_22616/2400582734.py:18: SettingWithCopyWarning: \n",
      "A value is trying to be set on a copy of a slice from a DataFrame\n",
      "\n",
      "See the caveats in the documentation: https://pandas.pydata.org/pandas-docs/stable/user_guide/indexing.html#returning-a-view-versus-a-copy\n",
      "  data2cleaned['FundInMillionOutlier'].iloc[i] = 1\n"
     ]
    }
   ],
   "source": [
    "## Rows with FundsInMillion - outliers at the higher side\n",
    "##FundInMillionDf(np.where(FundInMillionDf > (Q3 + 1.5 * IQR)))\n",
    "\n",
    "print (\"Higher bound (FundsInMillion)\", Q3 + 1.5 * IQR)\n",
    "print (\"Lower bound (FundsInMillion)\", Q1 - 1.5 * IQR)\n",
    "## Add an additional column in the main dataframe to indicate if this data is beyond outlier\n",
    "## Set the default value to 0\n",
    "data2cleaned['FundInMillionOutlier'] = 0\n",
    "\n",
    "for i in np.where(FundInMillionDf > Q3 + 1.5 * IQR):\n",
    "    print ( \"Outlier on a higher side:\",FundInMillionDf.iloc[i])\n",
    "    data2cleaned['FundInMillionOutlier'].iloc[i] = 1\n",
    "    \n",
    "\n",
    "## Rows with FundsInMillion - outliers at the lower side\n",
    "for i in np.where(FundInMillionDf < Q1 - 1.5 * IQR):\n",
    "    print ( \"Outlier on a lower side:\",FundInMillionDf.iloc[i])\n",
    "    data2cleaned['FundInMillionOutlier'].iloc[i] = 1"
   ]
  },
  {
   "cell_type": "code",
   "execution_count": 90,
   "id": "f9b674de",
   "metadata": {},
   "outputs": [
    {
     "data": {
      "text/plain": [
       "(264, 8)"
      ]
     },
     "execution_count": 90,
     "metadata": {},
     "output_type": "execute_result"
    }
   ],
   "source": [
    "## Remove the values beyond lower and outer bounds\n",
    "## Create a copy for the same\n",
    "data2cleanedcpy = data2cleaned[data2cleaned['FundInMillionOutlier'] == 0].copy()\n",
    "\n",
    "data2cleanedcpy.shape\n",
    "data2cleaned.shape\n",
    "data2cleanedcpy.shape"
   ]
  },
  {
   "cell_type": "markdown",
   "id": "cd8a9bbe",
   "metadata": {},
   "source": [
    "#### Boxplot plotting after outliers in FundsInMillion are removed"
   ]
  },
  {
   "cell_type": "code",
   "execution_count": 91,
   "id": "90e626dd",
   "metadata": {},
   "outputs": [
    {
     "data": {
      "image/png": "[encoded data removed]",
      "text/plain": [
       "<Figure size 2000x500 with 1 Axes>"
      ]
     },
     "metadata": {},
     "output_type": "display_data"
    }
   ],
   "source": [
    "## Boxplot for the values where outliers on a higher side are removed\n",
    "fig, ax = plt.subplots(figsize=(20, 5))\n",
    "sns.boxplot(x=data2cleanedcpy[\"FundingInMillion\"])\n",
    "plt.show()"
   ]
  },
  {
   "cell_type": "code",
   "execution_count": 92,
   "id": "a8cb81e9",
   "metadata": {},
   "outputs": [
    {
     "name": "stderr",
     "output_type": "stream",
     "text": [
      "/Users/farazali/anaconda3/lib/python3.11/site-packages/seaborn/axisgrid.py:118: UserWarning: The figure layout has changed to tight\n",
      "  self._figure.tight_layout(*args, **kwargs)\n"
     ]
    },
    {
     "data": {
      "image/png": "[encoded data removed]",
      "text/plain": [
       "<Figure size 662.625x500 with 1 Axes>"
      ]
     },
     "metadata": {},
     "output_type": "display_data"
    }
   ],
   "source": [
    "## Distribution plots for Funds in millions\n",
    "##fig, ax = plt.subplots(figsize=(20, 5))\n",
    "data = pd.DataFrame(data2cleanedcpy[\"FundingInMillion\"])\n",
    "res = sns.displot(data)"
   ]
  },
  {
   "cell_type": "markdown",
   "id": "e552acb8",
   "metadata": {},
   "source": [
    "### Frequency of the OperatingState features classes"
   ]
  },
  {
   "cell_type": "code",
   "execution_count": 93,
   "id": "ba912cef",
   "metadata": {},
   "outputs": [
    {
     "name": "stdout",
     "output_type": "stream",
     "text": [
      "OperatingState\n",
      "Operating    320\n",
      "Acquired      66\n",
      "Closed        58\n",
      "Ipo            4\n",
      "Name: count, dtype: int64\n"
     ]
    },
    {
     "data": {
      "text/plain": [
       "448"
      ]
     },
     "execution_count": 93,
     "metadata": {},
     "output_type": "execute_result"
    }
   ],
   "source": [
    "##OperatingState Distribution \n",
    "\n",
    "print (data2cleanedorig['OperatingState'].value_counts())\n",
    "data2cleanedorig['OperatingState'].count()"
   ]
  },
  {
   "cell_type": "code",
   "execution_count": 94,
   "id": "1212bdae",
   "metadata": {},
   "outputs": [
    {
     "name": "stdout",
     "output_type": "stream",
     "text": [
      "OperatingState\n",
      "Acquired      66\n",
      "Closed        58\n",
      "Ipo            4\n",
      "Operating    320\n",
      "Name: OperatingState, dtype: int64\n"
     ]
    }
   ],
   "source": [
    "## Frequency distribution using group by\n",
    "OperatingStateFreqDist = data2cleanedorig.groupby(\"OperatingState\")[\"OperatingState\"].count()\n",
    "print(OperatingStateFreqDist)"
   ]
  },
  {
   "cell_type": "code",
   "execution_count": 95,
   "id": "26b97c5d",
   "metadata": {},
   "outputs": [
    {
     "data": {
      "image/png": "[encoded data removed]",
      "text/plain": [
       "<Figure size 500x500 with 1 Axes>"
      ]
     },
     "metadata": {},
     "output_type": "display_data"
    }
   ],
   "source": [
    "## OperatingState Distribution plotted in histogram\n",
    "fig, ax = plt.subplots(figsize=(5, 5))\n",
    "res = sns.histplot(data2cleanedorig[\"OperatingState\"])"
   ]
  },
  {
   "cell_type": "markdown",
   "id": "3f67fea3",
   "metadata": {},
   "source": [
    "## 4. Statistical Analysis"
   ]
  },
  {
   "cell_type": "markdown",
   "id": "adfc3730",
   "metadata": {},
   "source": [
    "### 4A. Is there any significant difference between Funds raised by companies that are still operating vs companies that closed down?"
   ]
  },
  {
   "cell_type": "code",
   "execution_count": 96,
   "id": "d2543031",
   "metadata": {},
   "outputs": [
    {
     "data": {
      "image/png": "[encoded data removed]",
      "text/plain": [
       "<Figure size 1200x400 with 1 Axes>"
      ]
     },
     "metadata": {},
     "output_type": "display_data"
    }
   ],
   "source": [
    "# Separate data into operating and closed companies\n",
    "data_operating = data2cleanedcpy[data2cleanedcpy['OperatingState'] == 'Operating']\n",
    "data_closed = data2cleanedcpy[data2cleanedcpy['OperatingState'] == 'Closed']\n",
    "\n",
    "# Concatenate the two separate dataframes\n",
    "data_operating_closed = pd.concat([data_operating, data_closed])\n",
    "\n",
    "# Plot box plots for qualitative analysis\n",
    "plt.figure(figsize=(12, 4))\n",
    "sns.boxplot(x=\"OperatingState\", y=\"Funding\", data=data_operating_closed)\n",
    "plt.title('Operating State vs. Funding')\n",
    "plt.xlabel('Operating State')\n",
    "plt.ylabel('Funding')\n",
    "plt.show()"
   ]
  },
  {
   "cell_type": "markdown",
   "id": "b30e7ba0",
   "metadata": {},
   "source": [
    "### B. Write the null hypothesis and alternative hypothesis.\n",
    "### C. Test for significance and conclusion.\n",
    "### D. Make a copy of the original data frame."
   ]
  },
  {
   "cell_type": "markdown",
   "id": "0c714095",
   "metadata": {},
   "source": [
    "### Null Hypothesis\n",
    "#### Funding position for Operating and Closed companies follow similar distribution"
   ]
  },
  {
   "cell_type": "markdown",
   "id": "30826074",
   "metadata": {},
   "source": [
    "### Alternate Hypothesis\n",
    "#### Funding position for Operating and Closed companies have different distributions"
   ]
  },
  {
   "cell_type": "markdown",
   "id": "38d34c43",
   "metadata": {},
   "source": [
    "### Significance level"
   ]
  },
  {
   "cell_type": "markdown",
   "id": "cd82b77b",
   "metadata": {},
   "source": [
    "#### α = 0.05"
   ]
  },
  {
   "cell_type": "markdown",
   "id": "94ebe263",
   "metadata": {},
   "source": [
    "#### We are having a categorical variable (OperatingState) and one continuous variable (Funding) and we want to validate curve for two different values of the categrical variable. \n",
    "#### This qualifies for ANOVA test."
   ]
  },
  {
   "cell_type": "code",
   "execution_count": 97,
   "id": "ba95d5b5",
   "metadata": {},
   "outputs": [
    {
     "name": "stdout",
     "output_type": "stream",
     "text": [
      "                      sum_sq     df         F    PR(>F)\n",
      "OperatingState  5.093102e+13    1.0  0.666443  0.415198\n",
      "Residual        1.643076e+16  215.0       NaN       NaN\n"
     ]
    }
   ],
   "source": [
    "import statsmodels.api as sm\n",
    "from statsmodels.formula.api import ols\n",
    "\n",
    "# Ensure OperatingState is treated as a categorical variable\n",
    "data_operating_closed['OperatingState'] = data_operating_closed['OperatingState'].astype('category')\n",
    "\n",
    "# Fit the model\n",
    "mod = ols('Funding ~ OperatingState', data=data_operating_closed).fit()\n",
    "\n",
    "# Perform ANOVA and print the results\n",
    "aov_table = sm.stats.anova_lm(mod, typ=2)\n",
    "print(aov_table)"
   ]
  },
  {
   "cell_type": "markdown",
   "id": "4fa8a435",
   "metadata": {},
   "source": [
    "#### Here the P value is 0.415198 which is far higher than our level of Significance (0.05) so we fail to reject the hypothesis."
   ]
  },
  {
   "cell_type": "markdown",
   "id": "8899b9ed",
   "metadata": {},
   "source": [
    "#### The inference is that from the data provided- the funding position for both Closed and Operating companies do not have significance difference."
   ]
  },
  {
   "cell_type": "markdown",
   "id": "6142c0d9",
   "metadata": {},
   "source": [
    "### E. Check frequency distribution of Result variables"
   ]
  },
  {
   "cell_type": "code",
   "execution_count": 98,
   "id": "43eb2d25",
   "metadata": {},
   "outputs": [
    {
     "name": "stdout",
     "output_type": "stream",
     "text": [
      "Frequency Distribution for the \"Results\" column from original dataframe:\n",
      "Result\n",
      "Contestant         314\n",
      "Finalist            65\n",
      "Audience choice     25\n",
      "Winner              25\n",
      "Runner up           19\n",
      "Name: count, dtype: int64\n"
     ]
    },
    {
     "data": {
      "image/png": "[encoded data removed]",
      "text/plain": [
       "<Figure size 800x600 with 1 Axes>"
      ]
     },
     "metadata": {},
     "output_type": "display_data"
    }
   ],
   "source": [
    "import matplotlib.pyplot as plt\n",
    "\n",
    "print('Frequency Distribution for the \"Results\" column from original dataframe:')\n",
    "# Get value counts for the 'Result' column\n",
    "result_counts = data2cleanedorig['Result'].value_counts()\n",
    "print (data2cleanedorig['Result'].value_counts())\n",
    "\n",
    "# Plotting\n",
    "plt.figure(figsize=(8, 6))\n",
    "result_counts.plot(kind='bar', color='skyblue')\n",
    "plt.title('Frequency Distribution of Results')\n",
    "plt.xlabel('Result')\n",
    "plt.ylabel('Frequency')\n",
    "plt.xticks(rotation=45)\n",
    "plt.grid(axis='y', linestyle='--', alpha=0.7)\n",
    "plt.show()"
   ]
  },
  {
   "cell_type": "markdown",
   "id": "cf358401",
   "metadata": {},
   "source": [
    "### F. Calculate percentage of winners that are still operating and percentage of contestants that are still operating."
   ]
  },
  {
   "cell_type": "code",
   "execution_count": 99,
   "id": "90edf6f0",
   "metadata": {},
   "outputs": [
    {
     "name": "stdout",
     "output_type": "stream",
     "text": [
      "Frequency Distribution for the \"Result\" column from dataframe where OperatingState is Operating:\n",
      "Result\n",
      "Contestant         215\n",
      "Finalist            46\n",
      "Audience choice     23\n",
      "Winner              18\n",
      "Runner up           18\n",
      "Name: count, dtype: int64\n"
     ]
    },
    {
     "data": {
      "image/png": "[encoded data removed]",
      "text/plain": [
       "<Figure size 800x600 with 1 Axes>"
      ]
     },
     "metadata": {},
     "output_type": "display_data"
    }
   ],
   "source": [
    "# Create a data frame with OperatingState as Operating\n",
    "data2cleaned_Operating = data2cleanedorig[data2cleanedorig['OperatingState'] == 'Operating']\n",
    "\n",
    "# Print message\n",
    "print('Frequency Distribution for the \"Result\" column from dataframe where OperatingState is Operating:')\n",
    "print(data2cleaned_Operating['Result'].value_counts())\n",
    "\n",
    "# Plotting\n",
    "plt.figure(figsize=(8, 6))\n",
    "data2cleaned_Operating['Result'].value_counts().plot(kind='bar', color='skyblue')\n",
    "plt.title('Frequency Distribution of Results for Operating Companies')\n",
    "plt.xlabel('Result')\n",
    "plt.ylabel('Frequency')\n",
    "plt.xticks(rotation=45)\n",
    "plt.grid(axis='y', linestyle='--', alpha=0.7)\n",
    "plt.show()"
   ]
  },
  {
   "cell_type": "code",
   "execution_count": 100,
   "id": "919d1958",
   "metadata": {},
   "outputs": [
    {
     "name": "stdout",
     "output_type": "stream",
     "text": [
      "Percentage of winners who are operating: 5.625\n",
      "Percentage of Contestants who are operating: 67.1875\n"
     ]
    }
   ],
   "source": [
    "## Percentage of winners and contestants who are still operating\n",
    "PercentWinners = 18/320 * 100\n",
    "PercentContestant = 215/320 * 100\n",
    "\n",
    "print (\"Percentage of winners who are operating:\", PercentWinners)\n",
    "\n",
    "print (\"Percentage of Contestants who are operating:\", PercentContestant)"
   ]
  },
  {
   "cell_type": "markdown",
   "id": "3ea7fcea",
   "metadata": {},
   "source": [
    "### G. Write your hypothesis comparing the proportion of companies that are operating between winners and contestants\n",
    "### H. Test for significance and conclusion"
   ]
  },
  {
   "cell_type": "markdown",
   "id": "2b218447",
   "metadata": {},
   "source": [
    "### Null Hypothesis"
   ]
  },
  {
   "cell_type": "markdown",
   "id": "bb05110c",
   "metadata": {},
   "source": [
    "#### Proportion of companies operating between winners and contestants are equal."
   ]
  },
  {
   "cell_type": "markdown",
   "id": "85a6c40d",
   "metadata": {},
   "source": [
    "### Alternate Hypothesis"
   ]
  },
  {
   "cell_type": "markdown",
   "id": "cb094282",
   "metadata": {},
   "source": [
    "#### Proportion of companies operating between winners and contestants differ."
   ]
  },
  {
   "cell_type": "code",
   "execution_count": 101,
   "id": "7fe4e992",
   "metadata": {},
   "outputs": [
    {
     "name": "stdout",
     "output_type": "stream",
     "text": [
      "Total winners who are operating: 18\n",
      "Total contestants who are operating: 215\n",
      "Total winners: 25\n",
      "Total contestants: 314\n"
     ]
    }
   ],
   "source": [
    "## No of winners who are operating\n",
    "nOperating_Winners = data2cleaned_Operating[data2cleaned_Operating['Result'] == 'Winner'].Result.value_counts()[0]  \n",
    "## No of Contestants who are operating\n",
    "nOperating_Contestants = data2cleaned_Operating[data2cleaned_Operating['Result'] == 'Contestant'].Result.value_counts()[0] \n",
    "## No of total winners\n",
    "nTotal_Winners = data2cleanedorig[data2cleanedorig['Result'] == 'Winner'].Result.value_counts()[0]\n",
    "## No of total Contestants\n",
    "nTotal_Contestants = data2cleanedorig[data2cleanedorig['Result'] == 'Contestant'].Result.value_counts()[0]\n",
    "\n",
    "print ('Total winners who are operating:', nOperating_Winners)\n",
    "\n",
    "print ('Total contestants who are operating:', nOperating_Contestants)\n",
    "print ('Total winners:', nTotal_Winners)\n",
    "print ('Total contestants:', nTotal_Contestants)"
   ]
  },
  {
   "cell_type": "markdown",
   "id": "9b0e1ea8",
   "metadata": {},
   "source": [
    "#### Test of proportion needs to be applied here"
   ]
  },
  {
   "cell_type": "code",
   "execution_count": 102,
   "id": "3f4a102b",
   "metadata": {},
   "outputs": [
    {
     "name": "stdout",
     "output_type": "stream",
     "text": [
      "pval is: 0.7141557169869068\n",
      "With a p-value of 0.7142, the difference is not significant. We fail to reject the Null hypothesis.\n"
     ]
    }
   ],
   "source": [
    "from statsmodels.stats.proportion import proportions_ztest\n",
    "\n",
    "stat, pval = proportions_ztest([nOperating_Winners, nOperating_Contestants] , [nTotal_Winners, nTotal_Contestants])\n",
    "\n",
    "print ('pval is:', pval)\n",
    "\n",
    "if pval < 0.05:\n",
    "    print(f'With a p-value of {round(pval,4)}, the difference is significant. The Null hypothesis is rejected')\n",
    "else:\n",
    "    print(f'With a p-value of {round(pval,4)}, the difference is not significant. We fail to reject the Null hypothesis.')"
   ]
  },
  {
   "cell_type": "code",
   "execution_count": 103,
   "id": "eed63a52",
   "metadata": {},
   "outputs": [
    {
     "data": {
      "image/png": "[encoded data removed]",
      "text/plain": [
       "<Figure size 6000x1700 with 1 Axes>"
      ]
     },
     "metadata": {},
     "output_type": "display_data"
    }
   ],
   "source": [
    "## plot the histplot for event\n",
    "fig, ax = plt.subplots(figsize=(60, 17))\n",
    "import seaborn as sns\n",
    "res = sns.histplot(data2cleanedorig[\"Event\"])"
   ]
  },
  {
   "cell_type": "code",
   "execution_count": 104,
   "id": "940c80a6",
   "metadata": {},
   "outputs": [
    {
     "name": "stdout",
     "output_type": "stream",
     "text": [
      "Event\n",
      "TC50 2008                    31\n",
      "TC40 2007                    30\n",
      "TC50 2009                    26\n",
      "Disrupt SF 2011              24\n",
      "Disrupt SF 2013              23\n",
      "Disrupt NYC 2013             22\n",
      "Disrupt NY 2015              21\n",
      "Disrupt NYC 2012             21\n",
      "Disrupt SF 2012              20\n",
      "Disrupt SF 2010              20\n",
      "Disrupt SF 2014              19\n",
      "Disrupt NYC 2011             19\n",
      "Disrupt SF 2015              19\n",
      "Disrupt SF 2016              17\n",
      "Disrupt NYC 2014             16\n",
      "Disrupt NY 2016              16\n",
      "Disrupt NYC 2010             15\n",
      "Hardware Battlefield 2014    13\n",
      "Hardware Battlefield 2016    12\n",
      "Disrupt London 2015          12\n",
      "Disrupt London 2016          10\n",
      "Hardware Battlefield 2015    10\n",
      "Disrupt EU 2014              10\n",
      "Disrupt EU 2013               9\n",
      "Disrupt Beijing 2011          7\n",
      "-                             6\n",
      "Name: count, dtype: int64\n"
     ]
    },
    {
     "data": {
      "text/plain": [
       "320"
      ]
     },
     "execution_count": 104,
     "metadata": {},
     "output_type": "execute_result"
    }
   ],
   "source": [
    "print (data2cleanedorig['Event'].value_counts())\n",
    "data2cleaned_Operating['Result'].count()"
   ]
  },
  {
   "cell_type": "markdown",
   "id": "54a6ddbf",
   "metadata": {},
   "source": [
    "### I. Select only the Event that has ‘disrupt’ keyword from 2013 onwards."
   ]
  },
  {
   "cell_type": "code",
   "execution_count": 105,
   "id": "130946c9",
   "metadata": {},
   "outputs": [
    {
     "name": "stdout",
     "output_type": "stream",
     "text": [
      "Event\n",
      "Disrupt SF 2013        23\n",
      "Disrupt NYC 2013       22\n",
      "Disrupt NY 2015        21\n",
      "Disrupt SF 2015        19\n",
      "Disrupt SF 2014        19\n",
      "Disrupt SF 2016        17\n",
      "Disrupt NY 2016        16\n",
      "Disrupt NYC 2014       16\n",
      "Disrupt London 2015    12\n",
      "Disrupt London 2016    10\n",
      "Disrupt EU 2014        10\n",
      "Disrupt EU 2013         9\n",
      "Name: count, dtype: int64\n"
     ]
    }
   ],
   "source": [
    "keywords_to_check = ['2013','2014','2015','2016'] \n",
    "data2cleaned_disrupt2013 = data2cleanedorig[data2cleanedorig['Event'].str.contains('|'.join(keywords_to_check))]\n",
    "\n",
    "keywords_to_check = ['Disrupt'] \n",
    "data2cleaned_disrupt2013 = data2cleaned_disrupt2013[data2cleaned_disrupt2013['Event'].str.contains('|'.join(keywords_to_check))]\n",
    "\n",
    "## data2cleaned_disrupt2013 this variable has rows with Event as disrupt keyword from 2013 onwards\n",
    "\n",
    "print (data2cleaned_disrupt2013['Event'].value_counts())"
   ]
  },
  {
   "cell_type": "code",
   "execution_count": 106,
   "id": "d7938bb4",
   "metadata": {},
   "outputs": [
    {
     "name": "stdout",
     "output_type": "stream",
     "text": [
      "Event\n",
      "Disrupt NYC 2013    16\n",
      "Disrupt SF 2013     14\n",
      "Disrupt SF 2014     13\n",
      "Disrupt NY 2015     12\n",
      "Disrupt SF 2016     12\n",
      "Disrupt NYC 2014    10\n",
      "Disrupt NY 2016      8\n",
      "Disrupt SF 2015      7\n",
      "Disrupt EU 2013      6\n",
      "Disrupt EU 2014      4\n",
      "Name: count, dtype: int64\n"
     ]
    }
   ],
   "source": [
    "## We will use the formatted data with funding outliers removed for this exercise\n",
    "## First identify rows with SF, NY, NYC or EU events\n",
    "keywords_to_check = ['SF','NY','NYC','EU'] \n",
    "data2cleaned_NYSFEU = data2cleanedcpy[data2cleanedcpy['Event'].str.contains('|'.join(keywords_to_check))]\n",
    "\n",
    "## Now filter on 2013 or onwards rows from the rows with SF, NY, NYC or EU events\n",
    "keywords_to_check = ['2013','2014','2015','2016'] \n",
    "data2cleaned_NYSFEU_filtered = data2cleaned_NYSFEU[data2cleaned_NYSFEU['Event'].str.contains('|'.join(keywords_to_check))]\n",
    "print (data2cleaned_NYSFEU_filtered['Event'].value_counts())"
   ]
  },
  {
   "cell_type": "code",
   "execution_count": 107,
   "id": "64adc615",
   "metadata": {},
   "outputs": [
    {
     "data": {
      "image/png": "[encoded data removed]",
      "text/plain": [
       "<Figure size 2000x800 with 1 Axes>"
      ]
     },
     "metadata": {},
     "output_type": "display_data"
    }
   ],
   "source": [
    "## Qualitative analysis by plotting Box Plots for this distribution\n",
    "\n",
    "fig, ax = plt.subplots(figsize=(20, 8))\n",
    "sns.boxplot(x = \"Event\", y = \"Funding\", data = data2cleaned_NYSFEU_filtered)\n",
    "plt.title('Event v.s. Funding')\n",
    "plt.show()"
   ]
  }
 ],
 "metadata": {
  "kernelspec": {
   "display_name": "Python 3 (ipykernel)",
   "language": "python",
   "name": "python3"
  },
  "language_info": {
   "codemirror_mode": {
    "name": "ipython",
    "version": 3
   },
   "file_extension": ".py",
   "mimetype": "text/x-python",
   "name": "python",
   "nbconvert_exporter": "python",
   "pygments_lexer": "ipython3",
   "version": "3.11.5"
  }
 },
 "nbformat": 4,
 "nbformat_minor": 5
}
